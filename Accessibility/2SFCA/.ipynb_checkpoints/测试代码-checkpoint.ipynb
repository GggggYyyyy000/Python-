{
 "cells": [
  {
   "cell_type": "code",
   "execution_count": 1,
   "id": "adjusted-gross",
   "metadata": {},
   "outputs": [],
   "source": [
    "import json\n",
    "import geopandas as gpd\n",
    "import warnings\n",
    "import pandas as pd\n",
    "from math import radians, cos, sin, asin, sqrt\n",
    "import WGS1984\n",
    "import requests\n",
    "import numpy as np"
   ]
  },
  {
   "cell_type": "code",
   "execution_count": 2,
   "id": "adverse-cisco",
   "metadata": {},
   "outputs": [],
   "source": [
    "def haversine(lon1, lat1, lon2, lat2): \n",
    "    lon1, lat1, lon2, lat2 = map(radians, [lon1, lat1, lon2, lat2])\n",
    "    dlon = lon2 - lon1 \n",
    "    dlat = lat2 - lat1 \n",
    "    a = sin(dlat/2)**2 + cos(lat1) * cos(lat2) * sin(dlon/2)**2\n",
    "    c = 2 * asin(sqrt(a)) \n",
    "    r = 6371 \n",
    "    return c * r * 1000"
   ]
  },
  {
   "cell_type": "code",
   "execution_count": 3,
   "id": "premier-given",
   "metadata": {},
   "outputs": [],
   "source": [
    "def get_G(x):#距离衰减计算公式\n",
    "    if x <= 1098:\n",
    "        G = (np.exp(-0.5 * (x/1098)**2) - np.exp(-0.5)) / (1-np.exp(-0.5))\n",
    "        return G\n",
    "    else:\n",
    "        return 0\n",
    "\n",
    "def get_Rj(x):#$R_{j}$ 计算\n",
    "    x = x.reset_index()\n",
    "    sj = x['人数'][0]\n",
    "    dt = 0\n",
    "    for i in range(len(x)):\n",
    "        vl = x['pop'][i] * get_G(x['length'][i])\n",
    "        dt += vl\n",
    "    return sj/dt\n",
    "\n",
    "def get_A(x):#$A_{i}$ 计算\n",
    "    x = x.reset_index()\n",
    "    dt = 0\n",
    "    for i in range(len(x)):\n",
    "        vl = x['vl_R'][i] * get_G(x['length'][i])\n",
    "        dt += vl\n",
    "    return dt"
   ]
  },
  {
   "cell_type": "code",
   "execution_count": 4,
   "id": "heated-agent",
   "metadata": {},
   "outputs": [],
   "source": [
    "net = gpd.read_file(\"/Users/creative/Documents/python/Accessibility/2SFCA/pop_net.geojson\")\n",
    "school = gpd.read_file(\"/Users/creative/Documents/python/Accessibility/2SFCA/深圳学校.geojson\")\n",
    "hospital = gpd.read_file(\"/Users/creative/Documents/python/Accessibility/2SFCA/社康面积.geojson\")"
   ]
  },
  {
   "cell_type": "code",
   "execution_count": 5,
   "id": "attached-apple",
   "metadata": {},
   "outputs": [],
   "source": [
    "#转换坐标系 转换为可计算的投影坐标系\n",
    "school = school.to_crs(epsg=3857)\n",
    "hospital = hospital.to_crs(epsg=3857)"
   ]
  },
  {
   "cell_type": "code",
   "execution_count": 9,
   "id": "ignored-prompt",
   "metadata": {},
   "outputs": [],
   "source": [
    "def step01(supply_df,demand_df):\n",
    "    #第一步计算\n",
    "    #对学校进行缓冲\n",
    "    supply_copy = supply_df.copy() \n",
    "    supply_copy['geometry'] = supply_copy['geometry'].buffer(1098) \n",
    "    supply_copy = gpd.sjoin(supply_copy,demand_df,op='contains') #建立空间连接，将在缓冲区内的小区连接到公园中,求得公园与小区之间的直线距离\n",
    "    supply_copy['length'] = supply_copy[['x_left','y_left','x_right','y_right']].apply(lambda x:haversine(x[0],x[1],x[2],x[3]),axis=1)\n",
    "    supply_vk = supply_copy.groupby(by='id_left').apply(get_Rj).reset_index()\n",
    "    supply_vk.columns=['id','vl_R']\n",
    "    supply_concat = pd.merge(supply_df,supply_vk,on='id')\n",
    "    return supply_concat"
   ]
  },
  {
   "cell_type": "code",
   "execution_count": 10,
   "id": "mechanical-tennis",
   "metadata": {},
   "outputs": [],
   "source": [
    "def step02(supply_concat,demand):\n",
    "    #第二步计算\n",
    "    #对住宅区进行缓冲\n",
    "    demand_copy = demand.copy() \n",
    "    demand_copy['geometry'] = demand_copy['geometry'].buffer(1098)\n",
    "    demand_copy = gpd.sjoin(demand_copy,supply_concat,op='intersects')\n",
    "    demand_copy['length'] = demand_copy[['x_right', 'y_right','x_left', 'y_left']].apply(lambda x:haversine(x[0],x[1],x[2],x[3]),axis=1)\n",
    "    demand_vl = demand_copy.groupby(by='id_left').apply(get_A).reset_index()\n",
    "\n",
    "    demand_vl.columns=['id','vl_R']\n",
    "    dt = demand.merge(demand_vl,on='id')\n",
    "    return dt"
   ]
  },
  {
   "cell_type": "code",
   "execution_count": 13,
   "id": "noticed-knowing",
   "metadata": {},
   "outputs": [],
   "source": [
    "dt = step02(step01(school,net),net)"
   ]
  },
  {
   "cell_type": "code",
   "execution_count": 70,
   "id": "protective-insight",
   "metadata": {},
   "outputs": [],
   "source": [
    "dt.to_file('/Users/creative/Desktop/研究边界.shp',encoding = 'gb18030') "
   ]
  },
  {
   "cell_type": "code",
   "execution_count": null,
   "id": "political-earthquake",
   "metadata": {},
   "outputs": [],
   "source": []
  }
 ],
 "metadata": {
  "kernelspec": {
   "display_name": "Python 3",
   "language": "python",
   "name": "python3"
  },
  "language_info": {
   "codemirror_mode": {
    "name": "ipython",
    "version": 3
   },
   "file_extension": ".py",
   "mimetype": "text/x-python",
   "name": "python",
   "nbconvert_exporter": "python",
   "pygments_lexer": "ipython3",
   "version": "3.7.10"
  }
 },
 "nbformat": 4,
 "nbformat_minor": 5
}
