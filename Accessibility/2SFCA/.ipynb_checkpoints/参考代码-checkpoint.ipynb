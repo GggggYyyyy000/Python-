{
 "cells": [
  {
   "cell_type": "markdown",
   "metadata": {},
   "source": [
    "# 读取数据、查看数据、数据基本处理"
   ]
  },
  {
   "cell_type": "markdown",
   "metadata": {},
   "source": [
    "$R_j = \\frac{S_j}{\\sum_{k\\in \\{d_{kj}\\ \\le d_0\\}}\\  \\  \\ G(d_{kj} \\,,\\ d_0)\\ P_k}$"
   ]
  },
  {
   "cell_type": "markdown",
   "metadata": {},
   "source": [
    "居住小区数据来源：https://map.fang.com/cd/t2/\n",
    "\n",
    "综合公园数据来源：地图平台AOI\n",
    "\n",
    "参考论文：\n",
    "> 基于高斯两步移动搜索法的沈阳市绿地可达性评价 《地理科学进展》2014-04\n",
    "\n",
    "> 基于2SFCA法的杭州体育活力空间可达性评价《城市规划》2019-11"
   ]
  },
  {
   "cell_type": "code",
   "execution_count": 1,
   "metadata": {},
   "outputs": [],
   "source": [
    "import pandas as pd\n",
    "import geopandas as gpd\n",
    "import warnings\n",
    "warnings.filterwarnings('ignore')"
   ]
  },
  {
   "cell_type": "code",
   "execution_count": 2,
   "metadata": {},
   "outputs": [],
   "source": [
    "res = gpd.read_file(\"http://oss.lifangshuju.com/ZB2020_10/zt1/res_point.json\") # 数据来源：房天下\n",
    "cd = gpd.read_file(\"http://oss.lifangshuju.com/ZB2020_10/zt1/chengdu_5countie_wgs84.json\") \n",
    "park = gpd.read_file(\"http://oss.lifangshuju.com/ZB2020_10/zt1/BDSpark.json\") "
   ]
  },
  {
   "cell_type": "code",
   "execution_count": 3,
   "metadata": {},
   "outputs": [
    {
     "data": {
      "text/html": [
       "<div>\n",
       "<style scoped>\n",
       "    .dataframe tbody tr th:only-of-type {\n",
       "        vertical-align: middle;\n",
       "    }\n",
       "\n",
       "    .dataframe tbody tr th {\n",
       "        vertical-align: top;\n",
       "    }\n",
       "\n",
       "    .dataframe thead th {\n",
       "        text-align: right;\n",
       "    }\n",
       "</style>\n",
       "<table border=\"1\" class=\"dataframe\">\n",
       "  <thead>\n",
       "    <tr style=\"text-align: right;\">\n",
       "      <th></th>\n",
       "      <th>name</th>\n",
       "      <th>lng_wgs84</th>\n",
       "      <th>lat_wgs84</th>\n",
       "      <th>pop</th>\n",
       "      <th>geometry</th>\n",
       "    </tr>\n",
       "  </thead>\n",
       "  <tbody>\n",
       "    <tr>\n",
       "      <th>0</th>\n",
       "      <td>中铁西城</td>\n",
       "      <td>103.962425</td>\n",
       "      <td>30.675995</td>\n",
       "      <td>7980</td>\n",
       "      <td>POINT (103.96243 30.67600)</td>\n",
       "    </tr>\n",
       "  </tbody>\n",
       "</table>\n",
       "</div>"
      ],
      "text/plain": [
       "   name   lng_wgs84  lat_wgs84   pop                    geometry\n",
       "0  中铁西城  103.962425  30.675995  7980  POINT (103.96243 30.67600)"
      ]
     },
     "execution_count": 3,
     "metadata": {},
     "output_type": "execute_result"
    }
   ],
   "source": [
    "res.head(1)"
   ]
  },
  {
   "cell_type": "code",
   "execution_count": 4,
   "metadata": {},
   "outputs": [
    {
     "data": {
      "text/html": [
       "<div>\n",
       "<style scoped>\n",
       "    .dataframe tbody tr th:only-of-type {\n",
       "        vertical-align: middle;\n",
       "    }\n",
       "\n",
       "    .dataframe tbody tr th {\n",
       "        vertical-align: top;\n",
       "    }\n",
       "\n",
       "    .dataframe thead th {\n",
       "        text-align: right;\n",
       "    }\n",
       "</style>\n",
       "<table border=\"1\" class=\"dataframe\">\n",
       "  <thead>\n",
       "    <tr style=\"text-align: right;\">\n",
       "      <th></th>\n",
       "      <th>OBJECTID</th>\n",
       "      <th>LAYER</th>\n",
       "      <th>NAME</th>\n",
       "      <th>ID</th>\n",
       "      <th>FLDM</th>\n",
       "      <th>XZDM</th>\n",
       "      <th>PY</th>\n",
       "      <th>AREA</th>\n",
       "      <th>省名</th>\n",
       "      <th>省代码</th>\n",
       "      <th>CITYNAME</th>\n",
       "      <th>CITYCODE</th>\n",
       "      <th>COUNTYNAME</th>\n",
       "      <th>COUNTYCODE</th>\n",
       "      <th>UPDATEDATE</th>\n",
       "      <th>Shape_Leng</th>\n",
       "      <th>Shape_Area</th>\n",
       "      <th>geometry</th>\n",
       "    </tr>\n",
       "  </thead>\n",
       "  <tbody>\n",
       "    <tr>\n",
       "      <th>0</th>\n",
       "      <td>1</td>\n",
       "      <td>Unknown Area Type</td>\n",
       "      <td>三圣街道</td>\n",
       "      <td>11330</td>\n",
       "      <td>1004</td>\n",
       "      <td>510104015</td>\n",
       "      <td>0</td>\n",
       "      <td>18.2139</td>\n",
       "      <td>四川</td>\n",
       "      <td>510000000</td>\n",
       "      <td>成都</td>\n",
       "      <td>510100000</td>\n",
       "      <td>锦江</td>\n",
       "      <td>510104000</td>\n",
       "      <td>0</td>\n",
       "      <td>0.233742</td>\n",
       "      <td>0.001731</td>\n",
       "      <td>POLYGON ((104.14876 30.59999, 104.14771 30.600...</td>\n",
       "    </tr>\n",
       "  </tbody>\n",
       "</table>\n",
       "</div>"
      ],
      "text/plain": [
       "   OBJECTID              LAYER  NAME     ID  FLDM       XZDM  PY     AREA  省名  \\\n",
       "0         1  Unknown Area Type  三圣街道  11330  1004  510104015   0  18.2139  四川   \n",
       "\n",
       "         省代码 CITYNAME   CITYCODE COUNTYNAME  COUNTYCODE  UPDATEDATE  \\\n",
       "0  510000000       成都  510100000         锦江   510104000           0   \n",
       "\n",
       "   Shape_Leng  Shape_Area                                           geometry  \n",
       "0    0.233742    0.001731  POLYGON ((104.14876 30.59999, 104.14771 30.600...  "
      ]
     },
     "execution_count": 4,
     "metadata": {},
     "output_type": "execute_result"
    }
   ],
   "source": [
    "cd.head(1)"
   ]
  },
  {
   "cell_type": "code",
   "execution_count": 5,
   "metadata": {},
   "outputs": [],
   "source": [
    "cd = cd[['NAME','geometry']]"
   ]
  },
  {
   "cell_type": "code",
   "execution_count": 6,
   "metadata": {},
   "outputs": [
    {
     "data": {
      "text/html": [
       "<div>\n",
       "<style scoped>\n",
       "    .dataframe tbody tr th:only-of-type {\n",
       "        vertical-align: middle;\n",
       "    }\n",
       "\n",
       "    .dataframe tbody tr th {\n",
       "        vertical-align: top;\n",
       "    }\n",
       "\n",
       "    .dataframe thead th {\n",
       "        text-align: right;\n",
       "    }\n",
       "</style>\n",
       "<table border=\"1\" class=\"dataframe\">\n",
       "  <thead>\n",
       "    <tr style=\"text-align: right;\">\n",
       "      <th></th>\n",
       "      <th>NAME</th>\n",
       "      <th>geometry</th>\n",
       "    </tr>\n",
       "  </thead>\n",
       "  <tbody>\n",
       "    <tr>\n",
       "      <th>0</th>\n",
       "      <td>三圣街道</td>\n",
       "      <td>POLYGON ((104.14876 30.59999, 104.14771 30.600...</td>\n",
       "    </tr>\n",
       "  </tbody>\n",
       "</table>\n",
       "</div>"
      ],
      "text/plain": [
       "   NAME                                           geometry\n",
       "0  三圣街道  POLYGON ((104.14876 30.59999, 104.14771 30.600..."
      ]
     },
     "execution_count": 6,
     "metadata": {},
     "output_type": "execute_result"
    }
   ],
   "source": [
    "cd.head(1)"
   ]
  },
  {
   "cell_type": "code",
   "execution_count": 7,
   "metadata": {},
   "outputs": [
    {
     "data": {
      "text/html": [
       "<div>\n",
       "<style scoped>\n",
       "    .dataframe tbody tr th:only-of-type {\n",
       "        vertical-align: middle;\n",
       "    }\n",
       "\n",
       "    .dataframe tbody tr th {\n",
       "        vertical-align: top;\n",
       "    }\n",
       "\n",
       "    .dataframe thead th {\n",
       "        text-align: right;\n",
       "    }\n",
       "</style>\n",
       "<table border=\"1\" class=\"dataframe\">\n",
       "  <thead>\n",
       "    <tr style=\"text-align: right;\">\n",
       "      <th></th>\n",
       "      <th>district</th>\n",
       "      <th>name</th>\n",
       "      <th>lng</th>\n",
       "      <th>lat</th>\n",
       "      <th>geometry</th>\n",
       "    </tr>\n",
       "  </thead>\n",
       "  <tbody>\n",
       "    <tr>\n",
       "      <th>0</th>\n",
       "      <td>郫都区</td>\n",
       "      <td>杜鹃公园</td>\n",
       "      <td>103.880138</td>\n",
       "      <td>30.800650</td>\n",
       "      <td>POLYGON ((103.87898 30.80076, 103.88061 30.799...</td>\n",
       "    </tr>\n",
       "    <tr>\n",
       "      <th>1</th>\n",
       "      <td>郫都区</td>\n",
       "      <td>知识公园</td>\n",
       "      <td>103.883459</td>\n",
       "      <td>30.794724</td>\n",
       "      <td>POLYGON ((103.88414 30.79382, 103.88429 30.794...</td>\n",
       "    </tr>\n",
       "    <tr>\n",
       "      <th>2</th>\n",
       "      <td>郫都区</td>\n",
       "      <td>创智公园</td>\n",
       "      <td>103.895260</td>\n",
       "      <td>30.793876</td>\n",
       "      <td>POLYGON ((103.89674 30.79242, 103.89731 30.792...</td>\n",
       "    </tr>\n",
       "    <tr>\n",
       "      <th>3</th>\n",
       "      <td>新都区</td>\n",
       "      <td>人民的公园</td>\n",
       "      <td>104.149697</td>\n",
       "      <td>30.783310</td>\n",
       "      <td>POLYGON ((104.14913 30.78369, 104.14930 30.782...</td>\n",
       "    </tr>\n",
       "    <tr>\n",
       "      <th>4</th>\n",
       "      <td>郫都区</td>\n",
       "      <td>蜀绣公园</td>\n",
       "      <td>104.008349</td>\n",
       "      <td>30.770149</td>\n",
       "      <td>POLYGON ((104.00826 30.77089, 104.00785 30.771...</td>\n",
       "    </tr>\n",
       "  </tbody>\n",
       "</table>\n",
       "</div>"
      ],
      "text/plain": [
       "  district   name         lng        lat  \\\n",
       "0      郫都区   杜鹃公园  103.880138  30.800650   \n",
       "1      郫都区   知识公园  103.883459  30.794724   \n",
       "2      郫都区   创智公园  103.895260  30.793876   \n",
       "3      新都区  人民的公园  104.149697  30.783310   \n",
       "4      郫都区   蜀绣公园  104.008349  30.770149   \n",
       "\n",
       "                                            geometry  \n",
       "0  POLYGON ((103.87898 30.80076, 103.88061 30.799...  \n",
       "1  POLYGON ((103.88414 30.79382, 103.88429 30.794...  \n",
       "2  POLYGON ((103.89674 30.79242, 103.89731 30.792...  \n",
       "3  POLYGON ((104.14913 30.78369, 104.14930 30.782...  \n",
       "4  POLYGON ((104.00826 30.77089, 104.00785 30.771...  "
      ]
     },
     "execution_count": 7,
     "metadata": {},
     "output_type": "execute_result"
    }
   ],
   "source": [
    "park.head()"
   ]
  },
  {
   "cell_type": "markdown",
   "metadata": {},
   "source": [
    "## 设置坐标参考系\n",
    "\n",
    "注意这里是经纬度的范围，非米制，需要转换。"
   ]
  },
  {
   "cell_type": "code",
   "execution_count": 8,
   "metadata": {},
   "outputs": [
    {
     "data": {
      "text/plain": [
       "<Geographic 2D CRS: EPSG:4326>\n",
       "Name: WGS 84\n",
       "Axis Info [ellipsoidal]:\n",
       "- Lat[north]: Geodetic latitude (degree)\n",
       "- Lon[east]: Geodetic longitude (degree)\n",
       "Area of Use:\n",
       "- name: World\n",
       "- bounds: (-180.0, -90.0, 180.0, 90.0)\n",
       "Datum: World Geodetic System 1984\n",
       "- Ellipsoid: WGS 84\n",
       "- Prime Meridian: Greenwich"
      ]
     },
     "execution_count": 8,
     "metadata": {},
     "output_type": "execute_result"
    }
   ],
   "source": [
    "res.crs"
   ]
  },
  {
   "cell_type": "code",
   "execution_count": 9,
   "metadata": {},
   "outputs": [
    {
     "data": {
      "text/plain": [
       "<Geographic 2D CRS: EPSG:4326>\n",
       "Name: WGS 84\n",
       "Axis Info [ellipsoidal]:\n",
       "- Lat[north]: Geodetic latitude (degree)\n",
       "- Lon[east]: Geodetic longitude (degree)\n",
       "Area of Use:\n",
       "- name: World\n",
       "- bounds: (-180.0, -90.0, 180.0, 90.0)\n",
       "Datum: World Geodetic System 1984\n",
       "- Ellipsoid: WGS 84\n",
       "- Prime Meridian: Greenwich"
      ]
     },
     "execution_count": 9,
     "metadata": {},
     "output_type": "execute_result"
    }
   ],
   "source": [
    "cd.crs"
   ]
  },
  {
   "cell_type": "code",
   "execution_count": 10,
   "metadata": {},
   "outputs": [
    {
     "data": {
      "text/plain": [
       "<Geographic 2D CRS: EPSG:4326>\n",
       "Name: WGS 84\n",
       "Axis Info [ellipsoidal]:\n",
       "- Lat[north]: Geodetic latitude (degree)\n",
       "- Lon[east]: Geodetic longitude (degree)\n",
       "Area of Use:\n",
       "- name: World\n",
       "- bounds: (-180.0, -90.0, 180.0, 90.0)\n",
       "Datum: World Geodetic System 1984\n",
       "- Ellipsoid: WGS 84\n",
       "- Prime Meridian: Greenwich"
      ]
     },
     "execution_count": 10,
     "metadata": {},
     "output_type": "execute_result"
    }
   ],
   "source": [
    "park.crs"
   ]
  },
  {
   "cell_type": "code",
   "execution_count": 11,
   "metadata": {},
   "outputs": [],
   "source": [
    "res = res.to_crs(epsg=3857)\n",
    "cd = cd.to_crs(epsg=3857)\n",
    "park = park.to_crs(epsg=3857)"
   ]
  },
  {
   "cell_type": "code",
   "execution_count": 12,
   "metadata": {},
   "outputs": [
    {
     "data": {
      "text/plain": [
       "<Projected CRS: EPSG:3857>\n",
       "Name: WGS 84 / Pseudo-Mercator\n",
       "Axis Info [cartesian]:\n",
       "- X[east]: Easting (metre)\n",
       "- Y[north]: Northing (metre)\n",
       "Area of Use:\n",
       "- name: World - 85°S to 85°N\n",
       "- bounds: (-180.0, -85.06, 180.0, 85.06)\n",
       "Coordinate Operation:\n",
       "- name: Popular Visualisation Pseudo-Mercator\n",
       "- method: Popular Visualisation Pseudo Mercator\n",
       "Datum: World Geodetic System 1984\n",
       "- Ellipsoid: WGS 84\n",
       "- Prime Meridian: Greenwich"
      ]
     },
     "execution_count": 12,
     "metadata": {},
     "output_type": "execute_result"
    }
   ],
   "source": [
    "res.crs"
   ]
  },
  {
   "cell_type": "markdown",
   "metadata": {},
   "source": [
    "## 获取公园的面积"
   ]
  },
  {
   "cell_type": "code",
   "execution_count": 13,
   "metadata": {
    "scrolled": true
   },
   "outputs": [],
   "source": [
    "park['area'] = park['geometry'].area"
   ]
  },
  {
   "cell_type": "code",
   "execution_count": 14,
   "metadata": {},
   "outputs": [
    {
     "data": {
      "text/html": [
       "<div>\n",
       "<style scoped>\n",
       "    .dataframe tbody tr th:only-of-type {\n",
       "        vertical-align: middle;\n",
       "    }\n",
       "\n",
       "    .dataframe tbody tr th {\n",
       "        vertical-align: top;\n",
       "    }\n",
       "\n",
       "    .dataframe thead th {\n",
       "        text-align: right;\n",
       "    }\n",
       "</style>\n",
       "<table border=\"1\" class=\"dataframe\">\n",
       "  <thead>\n",
       "    <tr style=\"text-align: right;\">\n",
       "      <th></th>\n",
       "      <th>district</th>\n",
       "      <th>name</th>\n",
       "      <th>lng</th>\n",
       "      <th>lat</th>\n",
       "      <th>geometry</th>\n",
       "      <th>area</th>\n",
       "    </tr>\n",
       "  </thead>\n",
       "  <tbody>\n",
       "    <tr>\n",
       "      <th>0</th>\n",
       "      <td>郫都区</td>\n",
       "      <td>杜鹃公园</td>\n",
       "      <td>103.880138</td>\n",
       "      <td>30.800650</td>\n",
       "      <td>POLYGON ((11563755.639 3606901.460, 11563936.1...</td>\n",
       "      <td>25689.795978</td>\n",
       "    </tr>\n",
       "    <tr>\n",
       "      <th>1</th>\n",
       "      <td>郫都区</td>\n",
       "      <td>知识公园</td>\n",
       "      <td>103.883459</td>\n",
       "      <td>30.794724</td>\n",
       "      <td>POLYGON ((11564330.025 3606001.403, 11564346.5...</td>\n",
       "      <td>38656.640495</td>\n",
       "    </tr>\n",
       "    <tr>\n",
       "      <th>2</th>\n",
       "      <td>郫都区</td>\n",
       "      <td>创智公园</td>\n",
       "      <td>103.895260</td>\n",
       "      <td>30.793876</td>\n",
       "      <td>POLYGON ((11565731.931 3605819.925, 11565795.9...</td>\n",
       "      <td>211869.847308</td>\n",
       "    </tr>\n",
       "    <tr>\n",
       "      <th>3</th>\n",
       "      <td>新都区</td>\n",
       "      <td>人民的公园</td>\n",
       "      <td>104.149697</td>\n",
       "      <td>30.783310</td>\n",
       "      <td>POLYGON ((11593828.136 3604688.502, 11593847.5...</td>\n",
       "      <td>14682.368440</td>\n",
       "    </tr>\n",
       "    <tr>\n",
       "      <th>4</th>\n",
       "      <td>郫都区</td>\n",
       "      <td>蜀绣公园</td>\n",
       "      <td>104.008349</td>\n",
       "      <td>30.770149</td>\n",
       "      <td>POLYGON ((11578146.396 3603030.207, 11578101.1...</td>\n",
       "      <td>60277.269977</td>\n",
       "    </tr>\n",
       "  </tbody>\n",
       "</table>\n",
       "</div>"
      ],
      "text/plain": [
       "  district   name         lng        lat  \\\n",
       "0      郫都区   杜鹃公园  103.880138  30.800650   \n",
       "1      郫都区   知识公园  103.883459  30.794724   \n",
       "2      郫都区   创智公园  103.895260  30.793876   \n",
       "3      新都区  人民的公园  104.149697  30.783310   \n",
       "4      郫都区   蜀绣公园  104.008349  30.770149   \n",
       "\n",
       "                                            geometry           area  \n",
       "0  POLYGON ((11563755.639 3606901.460, 11563936.1...   25689.795978  \n",
       "1  POLYGON ((11564330.025 3606001.403, 11564346.5...   38656.640495  \n",
       "2  POLYGON ((11565731.931 3605819.925, 11565795.9...  211869.847308  \n",
       "3  POLYGON ((11593828.136 3604688.502, 11593847.5...   14682.368440  \n",
       "4  POLYGON ((11578146.396 3603030.207, 11578101.1...   60277.269977  "
      ]
     },
     "execution_count": 14,
     "metadata": {},
     "output_type": "execute_result"
    }
   ],
   "source": [
    "park.head()"
   ]
  },
  {
   "cell_type": "code",
   "execution_count": 15,
   "metadata": {},
   "outputs": [
    {
     "data": {
      "text/plain": [
       "132"
      ]
     },
     "execution_count": 15,
     "metadata": {},
     "output_type": "execute_result"
    }
   ],
   "source": [
    "len(park)"
   ]
  },
  {
   "cell_type": "markdown",
   "metadata": {},
   "source": [
    "# 第一步计算"
   ]
  },
  {
   "cell_type": "markdown",
   "metadata": {},
   "source": [
    "## 缓冲，便于获取缓空间作用域中的小区"
   ]
  },
  {
   "cell_type": "code",
   "execution_count": 16,
   "metadata": {},
   "outputs": [],
   "source": [
    "park_s1 = park.copy()"
   ]
  },
  {
   "cell_type": "code",
   "execution_count": 17,
   "metadata": {},
   "outputs": [
    {
     "data": {
      "image/svg+xml": [
       "<svg xmlns=\"http://www.w3.org/2000/svg\" xmlns:xlink=\"http://www.w3.org/1999/xlink\" width=\"262.64842201024294\" height=\"221.832232167013\" viewBox=\"11563745.911107704 3606768.343352844 262.64842201024294 221.832232167013\" preserveAspectRatio=\"xMinYMin meet\"><g transform=\"matrix(1,0,0,-1,0,7213758.518937855)\"><path fill-rule=\"evenodd\" fill=\"#66cc99\" stroke=\"#555555\" stroke-width=\"2.0\" opacity=\"0.6\" d=\"M 11563755.638827037,3606901.46008659 L 11563936.117458964,3606778.071072178 L 11563998.831810381,3606871.2644550623 L 11563997.606074553,3606880.2009062245 L 11563994.709453423,3606889.2652756106 L 11563989.250868442,3606894.5707754246 L 11563856.012790458,3606980.447865677 L 11563821.923253078,3606975.6205305583 L 11563755.638827037,3606901.46008659 z\" /></g></svg>"
      ],
      "text/plain": [
       "<shapely.geometry.polygon.Polygon at 0x7fe24e0ccbd0>"
      ]
     },
     "execution_count": 17,
     "metadata": {},
     "output_type": "execute_result"
    }
   ],
   "source": [
    "park_s1['geometry'][0]"
   ]
  },
  {
   "cell_type": "code",
   "execution_count": 18,
   "metadata": {},
   "outputs": [
    {
     "data": {
      "image/svg+xml": [
       "<svg xmlns=\"http://www.w3.org/2000/svg\" xmlns:xlink=\"http://www.w3.org/1999/xlink\" width=\"300\" height=\"300\" viewBox=\"11563691.934277723 3606714.3467953335 370.59741516038775 329.78929503588006\" preserveAspectRatio=\"xMinYMin meet\"><g transform=\"matrix(1,0,0,-1,0,7213758.482885703)\"><path fill-rule=\"evenodd\" fill=\"#66cc99\" stroke=\"#555555\" stroke-width=\"2.470649434402585\" opacity=\"0.6\" d=\"M 11563718.359366754,3606934.780378321 L 11563784.643792795,3607008.9408222893 L 11563788.16044525,3607012.4996955115 L 11563792.015163664,3607015.6892987895 L 11563796.169350855,3607018.4776947238 L 11563800.581411079,3607020.836963191 L 11563805.207166508,3607022.743480909 L 11563810.000299599,3607024.178157975 L 11563814.912816856,3607025.126629011 L 11563849.002354236,3607029.9539641296 L 11563854.07394139,3607030.410260178 L 11563859.165637664,3607030.3483622125 L 11563864.224633615,3607029.7689122185 L 11563869.19845895,3607028.6779200668 L 11563874.035526738,3607027.0867011794 L 11563878.685668454,3607025.0117591713 L 11563883.100654315,3607022.474614679 L 11564016.338732298,3606936.5975244264 L 11564020.372689433,3606933.7042937716 L 11564024.09986516,3606930.4253069046 L 11564029.558450142,3606925.1198070906 L 11564032.901389295,3606921.5356340576 L 11564035.877356825,3606917.641387562 L 11564038.457757805,3606913.4744859193 L 11564040.617798151,3606909.0749672856 L 11564042.336722871,3606904.4851049436 L 11564045.233344002,3606895.4207355576 L 11564046.37011699,3606891.2493525036 L 11564047.142277539,3606886.99535938 L 11564048.368013367,3606878.0589082176 L 11564048.805862691,3606872.8750747573 L 11564048.702716082,3606867.6738054743 L 11564048.059690164,3606862.5114069 L 11564046.883746032,3606857.4437647685 L 11564045.187613916,3606852.525739025 L 11564042.989655353,3606847.8105699364 L 11564040.313664425,3606843.3493017387 L 11563977.599313008,3606750.1559188543 L 11563974.648774508,3606746.2067077197 L 11563971.32368163,3606742.5672430107 L 11563967.656356864,3606739.2729031583 L 11563963.682449458,3606736.355711709 L 11563959.440588888,3606733.844026035 L 11563954.97200934,3606731.762261676 L 11563950.320148887,3606730.130655003 L 11563945.530227233,3606728.9650665014 L 11563940.648806144,3606728.276826599 L 11563935.72333683,3606728.072625525 L 11563930.801698694,3606728.3544482705 L 11563925.931733884,3606729.1195553006 L 11563921.16078225,3606730.360509179 L 11563916.535221158,3606732.0652468675 L 11563912.100014659,3606734.21719699 L 11563907.898276413,3606736.7954409146 L 11563727.419644486,3606860.1844553268 L 11563723.438838284,3606863.208802633 L 11563719.779948182,3606866.615563243 L 11563716.479553558,3606870.370678416 L 11563713.570649771,3606874.436606772 L 11563711.08231829,3606878.772699607 L 11563709.039435951,3606883.335607276 L 11563707.462426266,3606888.0797125753 L 11563706.367055228,3606892.9575867974 L 11563705.764273694,3606897.9204638926 L 11563705.660107914,3606902.918728004 L 11563706.055599272,3606907.902409497 L 11563706.946793886,3606912.821684525 L 11563708.324782128,3606917.627373138 L 11563710.1757877,3606922.271430955 L 11563712.481305365,3606926.7074294826 L 11563715.218285944,3606930.8910202784 L 11563718.359366754,3606934.780378321 z\" /></g></svg>"
      ],
      "text/plain": [
       "<shapely.geometry.polygon.Polygon at 0x7fe24e086210>"
      ]
     },
     "execution_count": 18,
     "metadata": {},
     "output_type": "execute_result"
    }
   ],
   "source": [
    "park_s1['geometry'][0].buffer(50)"
   ]
  },
  {
   "cell_type": "code",
   "execution_count": 19,
   "metadata": {},
   "outputs": [
    {
     "data": {
      "image/svg+xml": [
       "<svg xmlns=\"http://www.w3.org/2000/svg\" xmlns:xlink=\"http://www.w3.org/1999/xlink\" width=\"300\" height=\"300\" viewBox=\"11563691.934277723 3606714.3467953335 370.59741516038775 329.78929503588006\" preserveAspectRatio=\"xMinYMin meet\"><g transform=\"matrix(1,0,0,-1,0,7213758.482885703)\"><path fill-rule=\"evenodd\" fill=\"#66cc99\" stroke=\"#555555\" stroke-width=\"2.470649434402585\" opacity=\"0.6\" d=\"M 11563718.359366754,3606934.780378321 L 11563784.643792795,3607008.9408222893 L 11563788.16044525,3607012.4996955115 L 11563792.015163664,3607015.6892987895 L 11563796.169350855,3607018.4776947238 L 11563800.581411079,3607020.836963191 L 11563805.207166508,3607022.743480909 L 11563810.000299599,3607024.178157975 L 11563814.912816856,3607025.126629011 L 11563849.002354236,3607029.9539641296 L 11563854.07394139,3607030.410260178 L 11563859.165637664,3607030.3483622125 L 11563864.224633615,3607029.7689122185 L 11563869.19845895,3607028.6779200668 L 11563874.035526738,3607027.0867011794 L 11563878.685668454,3607025.0117591713 L 11563883.100654315,3607022.474614679 L 11564016.338732298,3606936.5975244264 L 11564020.372689433,3606933.7042937716 L 11564024.09986516,3606930.4253069046 L 11564029.558450142,3606925.1198070906 L 11564032.901389295,3606921.5356340576 L 11564035.877356825,3606917.641387562 L 11564038.457757805,3606913.4744859193 L 11564040.617798151,3606909.0749672856 L 11564042.336722871,3606904.4851049436 L 11564045.233344002,3606895.4207355576 L 11564046.37011699,3606891.2493525036 L 11564047.142277539,3606886.99535938 L 11564048.368013367,3606878.0589082176 L 11564048.805862691,3606872.8750747573 L 11564048.702716082,3606867.6738054743 L 11564048.059690164,3606862.5114069 L 11564046.883746032,3606857.4437647685 L 11564045.187613916,3606852.525739025 L 11564042.989655353,3606847.8105699364 L 11564040.313664425,3606843.3493017387 L 11563977.599313008,3606750.1559188543 L 11563974.648774508,3606746.2067077197 L 11563971.32368163,3606742.5672430107 L 11563967.656356864,3606739.2729031583 L 11563963.682449458,3606736.355711709 L 11563959.440588888,3606733.844026035 L 11563954.97200934,3606731.762261676 L 11563950.320148887,3606730.130655003 L 11563945.530227233,3606728.9650665014 L 11563940.648806144,3606728.276826599 L 11563935.72333683,3606728.072625525 L 11563930.801698694,3606728.3544482705 L 11563925.931733884,3606729.1195553006 L 11563921.16078225,3606730.360509179 L 11563916.535221158,3606732.0652468675 L 11563912.100014659,3606734.21719699 L 11563907.898276413,3606736.7954409146 L 11563727.419644486,3606860.1844553268 L 11563723.438838284,3606863.208802633 L 11563719.779948182,3606866.615563243 L 11563716.479553558,3606870.370678416 L 11563713.570649771,3606874.436606772 L 11563711.08231829,3606878.772699607 L 11563709.039435951,3606883.335607276 L 11563707.462426266,3606888.0797125753 L 11563706.367055228,3606892.9575867974 L 11563705.764273694,3606897.9204638926 L 11563705.660107914,3606902.918728004 L 11563706.055599272,3606907.902409497 L 11563706.946793886,3606912.821684525 L 11563708.324782128,3606917.627373138 L 11563710.1757877,3606922.271430955 L 11563712.481305365,3606926.7074294826 L 11563715.218285944,3606930.8910202784 L 11563718.359366754,3606934.780378321 z M 11563755.638827037,3606901.46008659 L 11563936.117458964,3606778.071072178 L 11563998.831810381,3606871.2644550623 L 11563997.606074553,3606880.2009062245 L 11563994.709453423,3606889.2652756106 L 11563989.250868442,3606894.5707754246 L 11563856.012790458,3606980.447865677 L 11563821.923253078,3606975.6205305583 L 11563755.638827037,3606901.46008659 z\" /></g></svg>"
      ],
      "text/plain": [
       "<shapely.geometry.polygon.Polygon at 0x7fe24e0837d0>"
      ]
     },
     "execution_count": 19,
     "metadata": {},
     "output_type": "execute_result"
    }
   ],
   "source": [
    "park_s1['geometry'][0].buffer(50).difference(park_s1['geometry'][0])"
   ]
  },
  {
   "cell_type": "code",
   "execution_count": 20,
   "metadata": {},
   "outputs": [
    {
     "data": {
      "text/plain": [
       "<AxesSubplot:>"
      ]
     },
     "execution_count": 20,
     "metadata": {},
     "output_type": "execute_result"
    },
    {
     "data": {
      "image/png": "[encoded data removed]",
      "text/plain": [
       "<Figure size 432x288 with 1 Axes>"
      ]
     },
     "metadata": {
      "needs_background": "light"
     },
     "output_type": "display_data"
    }
   ],
   "source": [
    "park_s1['geometry'].plot()"
   ]
  },
  {
   "cell_type": "code",
   "execution_count": 21,
   "metadata": {},
   "outputs": [],
   "source": [
    "park_s1['geometry'] = park_s1['geometry'].buffer(2500)"
   ]
  },
  {
   "cell_type": "code",
   "execution_count": 22,
   "metadata": {},
   "outputs": [
    {
     "data": {
      "text/html": [
       "<div>\n",
       "<style scoped>\n",
       "    .dataframe tbody tr th:only-of-type {\n",
       "        vertical-align: middle;\n",
       "    }\n",
       "\n",
       "    .dataframe tbody tr th {\n",
       "        vertical-align: top;\n",
       "    }\n",
       "\n",
       "    .dataframe thead th {\n",
       "        text-align: right;\n",
       "    }\n",
       "</style>\n",
       "<table border=\"1\" class=\"dataframe\">\n",
       "  <thead>\n",
       "    <tr style=\"text-align: right;\">\n",
       "      <th></th>\n",
       "      <th>district</th>\n",
       "      <th>name</th>\n",
       "      <th>lng</th>\n",
       "      <th>lat</th>\n",
       "      <th>geometry</th>\n",
       "      <th>area</th>\n",
       "    </tr>\n",
       "  </thead>\n",
       "  <tbody>\n",
       "    <tr>\n",
       "      <th>0</th>\n",
       "      <td>郫都区</td>\n",
       "      <td>杜鹃公园</td>\n",
       "      <td>103.880138</td>\n",
       "      <td>30.80065</td>\n",
       "      <td>POLYGON ((11561891.666 3608567.475, 11561957.9...</td>\n",
       "      <td>25689.795978</td>\n",
       "    </tr>\n",
       "  </tbody>\n",
       "</table>\n",
       "</div>"
      ],
      "text/plain": [
       "  district  name         lng       lat  \\\n",
       "0      郫都区  杜鹃公园  103.880138  30.80065   \n",
       "\n",
       "                                            geometry          area  \n",
       "0  POLYGON ((11561891.666 3608567.475, 11561957.9...  25689.795978  "
      ]
     },
     "execution_count": 22,
     "metadata": {},
     "output_type": "execute_result"
    }
   ],
   "source": [
    "park_s1.head(1)"
   ]
  },
  {
   "cell_type": "code",
   "execution_count": 23,
   "metadata": {},
   "outputs": [
    {
     "data": {
      "text/plain": [
       "<AxesSubplot:>"
      ]
     },
     "execution_count": 23,
     "metadata": {},
     "output_type": "execute_result"
    },
    {
     "data": {
      "image/png": "[encoded data removed]",
      "text/plain": [
       "<Figure size 432x288 with 1 Axes>"
      ]
     },
     "metadata": {
      "needs_background": "light"
     },
     "output_type": "display_data"
    }
   ],
   "source": [
    "park_s1['geometry'].plot()"
   ]
  },
  {
   "cell_type": "code",
   "execution_count": 24,
   "metadata": {},
   "outputs": [
    {
     "data": {
      "text/plain": [
       "<AxesSubplot:>"
      ]
     },
     "execution_count": 24,
     "metadata": {},
     "output_type": "execute_result"
    },
    {
     "data": {
      "image/png": "[encoded data removed]",
      "text/plain": [
       "<Figure size 432x288 with 1 Axes>"
      ]
     },
     "metadata": {
      "needs_background": "light"
     },
     "output_type": "display_data"
    }
   ],
   "source": [
    "res.plot()"
   ]
  },
  {
   "cell_type": "markdown",
   "metadata": {},
   "source": [
    "https://geopandas.org/reference/geopandas.sjoin.html?highlight=sjoin#geopandas.sjoin"
   ]
  },
  {
   "cell_type": "code",
   "execution_count": 25,
   "metadata": {},
   "outputs": [],
   "source": [
    "park_s1 = gpd.sjoin(park_s1,res,op='contains')"
   ]
  },
  {
   "cell_type": "code",
   "execution_count": 26,
   "metadata": {},
   "outputs": [
    {
     "data": {
      "text/html": [
       "<div>\n",
       "<style scoped>\n",
       "    .dataframe tbody tr th:only-of-type {\n",
       "        vertical-align: middle;\n",
       "    }\n",
       "\n",
       "    .dataframe tbody tr th {\n",
       "        vertical-align: top;\n",
       "    }\n",
       "\n",
       "    .dataframe thead th {\n",
       "        text-align: right;\n",
       "    }\n",
       "</style>\n",
       "<table border=\"1\" class=\"dataframe\">\n",
       "  <thead>\n",
       "    <tr style=\"text-align: right;\">\n",
       "      <th></th>\n",
       "      <th>district</th>\n",
       "      <th>name_left</th>\n",
       "      <th>lng</th>\n",
       "      <th>lat</th>\n",
       "      <th>geometry</th>\n",
       "      <th>area</th>\n",
       "      <th>index_right</th>\n",
       "      <th>name_right</th>\n",
       "      <th>lng_wgs84</th>\n",
       "      <th>lat_wgs84</th>\n",
       "      <th>pop</th>\n",
       "    </tr>\n",
       "  </thead>\n",
       "  <tbody>\n",
       "    <tr>\n",
       "      <th>8</th>\n",
       "      <td>郫都区</td>\n",
       "      <td>成都高新区西园街道体育公园</td>\n",
       "      <td>103.910751</td>\n",
       "      <td>30.759126</td>\n",
       "      <td>POLYGON ((11564726.012 3601849.232, 11564730.3...</td>\n",
       "      <td>18400.304976</td>\n",
       "      <td>4147</td>\n",
       "      <td>顺江小区</td>\n",
       "      <td>103.923817</td>\n",
       "      <td>30.743212</td>\n",
       "      <td>25194</td>\n",
       "    </tr>\n",
       "    <tr>\n",
       "      <th>11</th>\n",
       "      <td>郫都区</td>\n",
       "      <td>成都合院-国学公园</td>\n",
       "      <td>103.916360</td>\n",
       "      <td>30.746418</td>\n",
       "      <td>POLYGON ((11565709.611 3598556.797, 11565690.1...</td>\n",
       "      <td>92949.399894</td>\n",
       "      <td>4147</td>\n",
       "      <td>顺江小区</td>\n",
       "      <td>103.923817</td>\n",
       "      <td>30.743212</td>\n",
       "      <td>25194</td>\n",
       "    </tr>\n",
       "    <tr>\n",
       "      <th>17</th>\n",
       "      <td>温江区</td>\n",
       "      <td>芙蓉长卷药博园</td>\n",
       "      <td>103.930364</td>\n",
       "      <td>30.728381</td>\n",
       "      <td>POLYGON ((11568356.307 3599891.794, 11568589.8...</td>\n",
       "      <td>322592.080412</td>\n",
       "      <td>4147</td>\n",
       "      <td>顺江小区</td>\n",
       "      <td>103.923817</td>\n",
       "      <td>30.743212</td>\n",
       "      <td>25194</td>\n",
       "    </tr>\n",
       "    <tr>\n",
       "      <th>18</th>\n",
       "      <td>郫都区</td>\n",
       "      <td>石院坝山地越野公园</td>\n",
       "      <td>103.937431</td>\n",
       "      <td>30.736518</td>\n",
       "      <td>POLYGON ((11568751.694 3596129.649, 11568624.4...</td>\n",
       "      <td>465057.183501</td>\n",
       "      <td>4147</td>\n",
       "      <td>顺江小区</td>\n",
       "      <td>103.923817</td>\n",
       "      <td>30.743212</td>\n",
       "      <td>25194</td>\n",
       "    </tr>\n",
       "    <tr>\n",
       "      <th>8</th>\n",
       "      <td>郫都区</td>\n",
       "      <td>成都高新区西园街道体育公园</td>\n",
       "      <td>103.910751</td>\n",
       "      <td>30.759126</td>\n",
       "      <td>POLYGON ((11564726.012 3601849.232, 11564730.3...</td>\n",
       "      <td>18400.304976</td>\n",
       "      <td>4168</td>\n",
       "      <td>成都合院公园里</td>\n",
       "      <td>103.916740</td>\n",
       "      <td>30.747999</td>\n",
       "      <td>15174</td>\n",
       "    </tr>\n",
       "    <tr>\n",
       "      <th>...</th>\n",
       "      <td>...</td>\n",
       "      <td>...</td>\n",
       "      <td>...</td>\n",
       "      <td>...</td>\n",
       "      <td>...</td>\n",
       "      <td>...</td>\n",
       "      <td>...</td>\n",
       "      <td>...</td>\n",
       "      <td>...</td>\n",
       "      <td>...</td>\n",
       "      <td>...</td>\n",
       "    </tr>\n",
       "    <tr>\n",
       "      <th>131</th>\n",
       "      <td>武侯区</td>\n",
       "      <td>高新区桂龙公园</td>\n",
       "      <td>104.071784</td>\n",
       "      <td>30.546816</td>\n",
       "      <td>POLYGON ((11582643.186 3573772.759, 11582637.6...</td>\n",
       "      <td>79777.963319</td>\n",
       "      <td>102</td>\n",
       "      <td>鑫阳花园</td>\n",
       "      <td>104.074904</td>\n",
       "      <td>30.531568</td>\n",
       "      <td>1584</td>\n",
       "    </tr>\n",
       "    <tr>\n",
       "      <th>131</th>\n",
       "      <td>武侯区</td>\n",
       "      <td>高新区桂龙公园</td>\n",
       "      <td>104.071784</td>\n",
       "      <td>30.546816</td>\n",
       "      <td>POLYGON ((11582643.186 3573772.759, 11582637.6...</td>\n",
       "      <td>79777.963319</td>\n",
       "      <td>1193</td>\n",
       "      <td>远大都市风景二期</td>\n",
       "      <td>104.071333</td>\n",
       "      <td>30.533507</td>\n",
       "      <td>1680</td>\n",
       "    </tr>\n",
       "    <tr>\n",
       "      <th>131</th>\n",
       "      <td>武侯区</td>\n",
       "      <td>高新区桂龙公园</td>\n",
       "      <td>104.071784</td>\n",
       "      <td>30.546816</td>\n",
       "      <td>POLYGON ((11582643.186 3573772.759, 11582637.6...</td>\n",
       "      <td>79777.963319</td>\n",
       "      <td>3218</td>\n",
       "      <td>齐盛艺境</td>\n",
       "      <td>104.068400</td>\n",
       "      <td>30.534189</td>\n",
       "      <td>2556</td>\n",
       "    </tr>\n",
       "    <tr>\n",
       "      <th>131</th>\n",
       "      <td>武侯区</td>\n",
       "      <td>高新区桂龙公园</td>\n",
       "      <td>104.071784</td>\n",
       "      <td>30.546816</td>\n",
       "      <td>POLYGON ((11582643.186 3573772.759, 11582637.6...</td>\n",
       "      <td>79777.963319</td>\n",
       "      <td>101</td>\n",
       "      <td>远大都市风景三期</td>\n",
       "      <td>104.070053</td>\n",
       "      <td>30.535013</td>\n",
       "      <td>1740</td>\n",
       "    </tr>\n",
       "    <tr>\n",
       "      <th>131</th>\n",
       "      <td>武侯区</td>\n",
       "      <td>高新区桂龙公园</td>\n",
       "      <td>104.071784</td>\n",
       "      <td>30.546816</td>\n",
       "      <td>POLYGON ((11582643.186 3573772.759, 11582637.6...</td>\n",
       "      <td>79777.963319</td>\n",
       "      <td>84</td>\n",
       "      <td>盛世名居</td>\n",
       "      <td>104.069417</td>\n",
       "      <td>30.526315</td>\n",
       "      <td>1548</td>\n",
       "    </tr>\n",
       "  </tbody>\n",
       "</table>\n",
       "<p>25673 rows × 11 columns</p>\n",
       "</div>"
      ],
      "text/plain": [
       "    district      name_left         lng        lat  \\\n",
       "8        郫都区  成都高新区西园街道体育公园  103.910751  30.759126   \n",
       "11       郫都区      成都合院-国学公园  103.916360  30.746418   \n",
       "17       温江区        芙蓉长卷药博园  103.930364  30.728381   \n",
       "18       郫都区      石院坝山地越野公园  103.937431  30.736518   \n",
       "8        郫都区  成都高新区西园街道体育公园  103.910751  30.759126   \n",
       "..       ...            ...         ...        ...   \n",
       "131      武侯区        高新区桂龙公园  104.071784  30.546816   \n",
       "131      武侯区        高新区桂龙公园  104.071784  30.546816   \n",
       "131      武侯区        高新区桂龙公园  104.071784  30.546816   \n",
       "131      武侯区        高新区桂龙公园  104.071784  30.546816   \n",
       "131      武侯区        高新区桂龙公园  104.071784  30.546816   \n",
       "\n",
       "                                              geometry           area  \\\n",
       "8    POLYGON ((11564726.012 3601849.232, 11564730.3...   18400.304976   \n",
       "11   POLYGON ((11565709.611 3598556.797, 11565690.1...   92949.399894   \n",
       "17   POLYGON ((11568356.307 3599891.794, 11568589.8...  322592.080412   \n",
       "18   POLYGON ((11568751.694 3596129.649, 11568624.4...  465057.183501   \n",
       "8    POLYGON ((11564726.012 3601849.232, 11564730.3...   18400.304976   \n",
       "..                                                 ...            ...   \n",
       "131  POLYGON ((11582643.186 3573772.759, 11582637.6...   79777.963319   \n",
       "131  POLYGON ((11582643.186 3573772.759, 11582637.6...   79777.963319   \n",
       "131  POLYGON ((11582643.186 3573772.759, 11582637.6...   79777.963319   \n",
       "131  POLYGON ((11582643.186 3573772.759, 11582637.6...   79777.963319   \n",
       "131  POLYGON ((11582643.186 3573772.759, 11582637.6...   79777.963319   \n",
       "\n",
       "     index_right name_right   lng_wgs84  lat_wgs84    pop  \n",
       "8           4147       顺江小区  103.923817  30.743212  25194  \n",
       "11          4147       顺江小区  103.923817  30.743212  25194  \n",
       "17          4147       顺江小区  103.923817  30.743212  25194  \n",
       "18          4147       顺江小区  103.923817  30.743212  25194  \n",
       "8           4168    成都合院公园里  103.916740  30.747999  15174  \n",
       "..           ...        ...         ...        ...    ...  \n",
       "131          102       鑫阳花园  104.074904  30.531568   1584  \n",
       "131         1193   远大都市风景二期  104.071333  30.533507   1680  \n",
       "131         3218       齐盛艺境  104.068400  30.534189   2556  \n",
       "131          101   远大都市风景三期  104.070053  30.535013   1740  \n",
       "131           84       盛世名居  104.069417  30.526315   1548  \n",
       "\n",
       "[25673 rows x 11 columns]"
      ]
     },
     "execution_count": 26,
     "metadata": {},
     "output_type": "execute_result"
    }
   ],
   "source": [
    "park_s1"
   ]
  },
  {
   "cell_type": "markdown",
   "metadata": {},
   "source": [
    "## 计算所有的OD的直线距离"
   ]
  },
  {
   "cell_type": "code",
   "execution_count": 27,
   "metadata": {},
   "outputs": [],
   "source": [
    "from math import radians, cos, sin, asin, sqrt\n",
    " \n",
    "def haversine(lon1, lat1, lon2, lat2): # 经度1，纬度1，经度2，纬度2 （十进制度数）\n",
    "    \"\"\"\n",
    "    Calculate the great circle distance between two points \n",
    "    on the earth (specified in decimal degrees)\n",
    "    \"\"\"\n",
    "    # 将十进制度数转化为弧度\n",
    "    lon1, lat1, lon2, lat2 = map(radians, [lon1, lat1, lon2, lat2])\n",
    " \n",
    "    # haversine公式\n",
    "    dlon = lon2 - lon1 \n",
    "    dlat = lat2 - lat1 \n",
    "    a = sin(dlat/2)**2 + cos(lat1) * cos(lat2) * sin(dlon/2)**2\n",
    "    c = 2 * asin(sqrt(a)) \n",
    "    r = 6371 # 地球平均半径，单位为公里\n",
    "    return c * r * 1000"
   ]
  },
  {
   "cell_type": "code",
   "execution_count": 28,
   "metadata": {},
   "outputs": [
    {
     "data": {
      "text/plain": [
       "2210.1746691408266"
      ]
     },
     "execution_count": 28,
     "metadata": {},
     "output_type": "execute_result"
    }
   ],
   "source": [
    "lon1, lat1 = 103.919266,30.762700\n",
    "lon2, lat2 = 103.923817,30.743212\n",
    "\n",
    "haversine(lon1, lat1, lon2, lat2)"
   ]
  },
  {
   "cell_type": "code",
   "execution_count": 29,
   "metadata": {},
   "outputs": [
    {
     "data": {
      "text/plain": [
       "Index(['district', 'name_left', 'lng', 'lat', 'geometry', 'area',\n",
       "       'index_right', 'name_right', 'lng_wgs84', 'lat_wgs84', 'pop'],\n",
       "      dtype='object')"
      ]
     },
     "execution_count": 29,
     "metadata": {},
     "output_type": "execute_result"
    }
   ],
   "source": [
    "park_s1.columns"
   ]
  },
  {
   "cell_type": "code",
   "execution_count": 30,
   "metadata": {},
   "outputs": [],
   "source": [
    "park_s1['length'] = park_s1[['lng', 'lat','lng_wgs84', 'lat_wgs84']].\\\n",
    "apply(lambda x:haversine(x[0],x[1],x[2],x[3]),axis=1)"
   ]
  },
  {
   "cell_type": "code",
   "execution_count": 31,
   "metadata": {},
   "outputs": [
    {
     "data": {
      "text/html": [
       "<div>\n",
       "<style scoped>\n",
       "    .dataframe tbody tr th:only-of-type {\n",
       "        vertical-align: middle;\n",
       "    }\n",
       "\n",
       "    .dataframe tbody tr th {\n",
       "        vertical-align: top;\n",
       "    }\n",
       "\n",
       "    .dataframe thead th {\n",
       "        text-align: right;\n",
       "    }\n",
       "</style>\n",
       "<table border=\"1\" class=\"dataframe\">\n",
       "  <thead>\n",
       "    <tr style=\"text-align: right;\">\n",
       "      <th></th>\n",
       "      <th>district</th>\n",
       "      <th>name_left</th>\n",
       "      <th>lng</th>\n",
       "      <th>lat</th>\n",
       "      <th>geometry</th>\n",
       "      <th>area</th>\n",
       "      <th>index_right</th>\n",
       "      <th>name_right</th>\n",
       "      <th>lng_wgs84</th>\n",
       "      <th>lat_wgs84</th>\n",
       "      <th>pop</th>\n",
       "      <th>length</th>\n",
       "    </tr>\n",
       "  </thead>\n",
       "  <tbody>\n",
       "    <tr>\n",
       "      <th>8</th>\n",
       "      <td>郫都区</td>\n",
       "      <td>成都高新区西园街道体育公园</td>\n",
       "      <td>103.910751</td>\n",
       "      <td>30.759126</td>\n",
       "      <td>POLYGON ((11564726.012 3601849.232, 11564730.3...</td>\n",
       "      <td>18400.304976</td>\n",
       "      <td>4147</td>\n",
       "      <td>顺江小区</td>\n",
       "      <td>103.923817</td>\n",
       "      <td>30.743212</td>\n",
       "      <td>25194</td>\n",
       "      <td>2165.726076</td>\n",
       "    </tr>\n",
       "    <tr>\n",
       "      <th>11</th>\n",
       "      <td>郫都区</td>\n",
       "      <td>成都合院-国学公园</td>\n",
       "      <td>103.916360</td>\n",
       "      <td>30.746418</td>\n",
       "      <td>POLYGON ((11565709.611 3598556.797, 11565690.1...</td>\n",
       "      <td>92949.399894</td>\n",
       "      <td>4147</td>\n",
       "      <td>顺江小区</td>\n",
       "      <td>103.923817</td>\n",
       "      <td>30.743212</td>\n",
       "      <td>25194</td>\n",
       "      <td>796.809386</td>\n",
       "    </tr>\n",
       "    <tr>\n",
       "      <th>17</th>\n",
       "      <td>温江区</td>\n",
       "      <td>芙蓉长卷药博园</td>\n",
       "      <td>103.930364</td>\n",
       "      <td>30.728381</td>\n",
       "      <td>POLYGON ((11568356.307 3599891.794, 11568589.8...</td>\n",
       "      <td>322592.080413</td>\n",
       "      <td>4147</td>\n",
       "      <td>顺江小区</td>\n",
       "      <td>103.923817</td>\n",
       "      <td>30.743212</td>\n",
       "      <td>25194</td>\n",
       "      <td>1763.871629</td>\n",
       "    </tr>\n",
       "    <tr>\n",
       "      <th>18</th>\n",
       "      <td>郫都区</td>\n",
       "      <td>石院坝山地越野公园</td>\n",
       "      <td>103.937431</td>\n",
       "      <td>30.736518</td>\n",
       "      <td>POLYGON ((11568751.694 3596129.649, 11568624.4...</td>\n",
       "      <td>465057.183501</td>\n",
       "      <td>4147</td>\n",
       "      <td>顺江小区</td>\n",
       "      <td>103.923817</td>\n",
       "      <td>30.743212</td>\n",
       "      <td>25194</td>\n",
       "      <td>1498.998466</td>\n",
       "    </tr>\n",
       "    <tr>\n",
       "      <th>8</th>\n",
       "      <td>郫都区</td>\n",
       "      <td>成都高新区西园街道体育公园</td>\n",
       "      <td>103.910751</td>\n",
       "      <td>30.759126</td>\n",
       "      <td>POLYGON ((11564726.012 3601849.232, 11564730.3...</td>\n",
       "      <td>18400.304976</td>\n",
       "      <td>4168</td>\n",
       "      <td>成都合院公园里</td>\n",
       "      <td>103.916740</td>\n",
       "      <td>30.747999</td>\n",
       "      <td>15174</td>\n",
       "      <td>1363.250167</td>\n",
       "    </tr>\n",
       "  </tbody>\n",
       "</table>\n",
       "</div>"
      ],
      "text/plain": [
       "   district      name_left         lng        lat  \\\n",
       "8       郫都区  成都高新区西园街道体育公园  103.910751  30.759126   \n",
       "11      郫都区      成都合院-国学公园  103.916360  30.746418   \n",
       "17      温江区        芙蓉长卷药博园  103.930364  30.728381   \n",
       "18      郫都区      石院坝山地越野公园  103.937431  30.736518   \n",
       "8       郫都区  成都高新区西园街道体育公园  103.910751  30.759126   \n",
       "\n",
       "                                             geometry           area  \\\n",
       "8   POLYGON ((11564726.012 3601849.232, 11564730.3...   18400.304976   \n",
       "11  POLYGON ((11565709.611 3598556.797, 11565690.1...   92949.399894   \n",
       "17  POLYGON ((11568356.307 3599891.794, 11568589.8...  322592.080413   \n",
       "18  POLYGON ((11568751.694 3596129.649, 11568624.4...  465057.183501   \n",
       "8   POLYGON ((11564726.012 3601849.232, 11564730.3...   18400.304976   \n",
       "\n",
       "    index_right name_right   lng_wgs84  lat_wgs84    pop       length  \n",
       "8          4147       顺江小区  103.923817  30.743212  25194  2165.726076  \n",
       "11         4147       顺江小区  103.923817  30.743212  25194   796.809386  \n",
       "17         4147       顺江小区  103.923817  30.743212  25194  1763.871629  \n",
       "18         4147       顺江小区  103.923817  30.743212  25194  1498.998466  \n",
       "8          4168    成都合院公园里  103.916740  30.747999  15174  1363.250167  "
      ]
     },
     "execution_count": 31,
     "metadata": {},
     "output_type": "execute_result"
    }
   ],
   "source": [
    "park_s1.head()"
   ]
  },
  {
   "cell_type": "code",
   "execution_count": 32,
   "metadata": {},
   "outputs": [
    {
     "data": {
      "text/plain": [
       "2.718281828459045"
      ]
     },
     "execution_count": 32,
     "metadata": {},
     "output_type": "execute_result"
    }
   ],
   "source": [
    "import numpy as np\n",
    "np.e"
   ]
  },
  {
   "cell_type": "code",
   "execution_count": 33,
   "metadata": {},
   "outputs": [
    {
     "data": {
      "text/plain": [
       "2.718281828459045"
      ]
     },
     "execution_count": 33,
     "metadata": {},
     "output_type": "execute_result"
    }
   ],
   "source": [
    "np.exp(1)"
   ]
  },
  {
   "cell_type": "code",
   "execution_count": 34,
   "metadata": {},
   "outputs": [],
   "source": [
    "def get_G(x):\n",
    "    if x <= 2500:\n",
    "        G = (np.exp(-0.5 * (x/2500)**2) - np.exp(-0.5)) / (1 - np.exp(-0.5))\n",
    "        return G\n",
    "    else:\n",
    "        return 0\n",
    "\n",
    "def get_Rj(x):\n",
    "    x = x.reset_index()\n",
    "    Sj = x['area'][0]\n",
    "    dt = 0\n",
    "    for i in range(len(x)):\n",
    "        vl = x['pop'][i] * get_G(x['length'][i])\n",
    "        dt += vl\n",
    "    return Sj/dt"
   ]
  },
  {
   "cell_type": "code",
   "execution_count": 35,
   "metadata": {},
   "outputs": [
    {
     "data": {
      "text/plain": [
       "name_left\n",
       "UPARK公园       0.343037\n",
       "三洞古桥公园        0.196751\n",
       "东坡体育公园        0.309684\n",
       "东坡公园          0.153314\n",
       "东湖公园          1.161071\n",
       "                ...   \n",
       "高攀小游园         0.014806\n",
       "高新区桂龙公园       0.500661\n",
       "麻石烟云公园        0.050593\n",
       "黄忠公园          0.177069\n",
       "龙潭客家人口文化公园    0.216808\n",
       "Length: 109, dtype: float64"
      ]
     },
     "execution_count": 35,
     "metadata": {},
     "output_type": "execute_result"
    }
   ],
   "source": [
    "park_s1.groupby(by='name_left').apply(get_Rj)"
   ]
  },
  {
   "cell_type": "code",
   "execution_count": 36,
   "metadata": {},
   "outputs": [],
   "source": [
    "park_vk = park_s1.groupby(by='name_left').apply(get_Rj).reset_index()"
   ]
  },
  {
   "cell_type": "markdown",
   "metadata": {},
   "source": [
    "# 第二步计算"
   ]
  },
  {
   "cell_type": "code",
   "execution_count": 37,
   "metadata": {},
   "outputs": [
    {
     "data": {
      "text/html": [
       "<div>\n",
       "<style scoped>\n",
       "    .dataframe tbody tr th:only-of-type {\n",
       "        vertical-align: middle;\n",
       "    }\n",
       "\n",
       "    .dataframe tbody tr th {\n",
       "        vertical-align: top;\n",
       "    }\n",
       "\n",
       "    .dataframe thead th {\n",
       "        text-align: right;\n",
       "    }\n",
       "</style>\n",
       "<table border=\"1\" class=\"dataframe\">\n",
       "  <thead>\n",
       "    <tr style=\"text-align: right;\">\n",
       "      <th></th>\n",
       "      <th>district</th>\n",
       "      <th>name</th>\n",
       "      <th>lng</th>\n",
       "      <th>lat</th>\n",
       "      <th>geometry</th>\n",
       "      <th>area</th>\n",
       "    </tr>\n",
       "  </thead>\n",
       "  <tbody>\n",
       "    <tr>\n",
       "      <th>0</th>\n",
       "      <td>郫都区</td>\n",
       "      <td>杜鹃公园</td>\n",
       "      <td>103.880138</td>\n",
       "      <td>30.80065</td>\n",
       "      <td>POLYGON ((11563755.639 3606901.460, 11563936.1...</td>\n",
       "      <td>25689.795978</td>\n",
       "    </tr>\n",
       "  </tbody>\n",
       "</table>\n",
       "</div>"
      ],
      "text/plain": [
       "  district  name         lng       lat  \\\n",
       "0      郫都区  杜鹃公园  103.880138  30.80065   \n",
       "\n",
       "                                            geometry          area  \n",
       "0  POLYGON ((11563755.639 3606901.460, 11563936.1...  25689.795978  "
      ]
     },
     "execution_count": 37,
     "metadata": {},
     "output_type": "execute_result"
    }
   ],
   "source": [
    "park.head(1)"
   ]
  },
  {
   "cell_type": "code",
   "execution_count": 38,
   "metadata": {},
   "outputs": [
    {
     "data": {
      "text/html": [
       "<div>\n",
       "<style scoped>\n",
       "    .dataframe tbody tr th:only-of-type {\n",
       "        vertical-align: middle;\n",
       "    }\n",
       "\n",
       "    .dataframe tbody tr th {\n",
       "        vertical-align: top;\n",
       "    }\n",
       "\n",
       "    .dataframe thead th {\n",
       "        text-align: right;\n",
       "    }\n",
       "</style>\n",
       "<table border=\"1\" class=\"dataframe\">\n",
       "  <thead>\n",
       "    <tr style=\"text-align: right;\">\n",
       "      <th></th>\n",
       "      <th>name_left</th>\n",
       "      <th>0</th>\n",
       "    </tr>\n",
       "  </thead>\n",
       "  <tbody>\n",
       "    <tr>\n",
       "      <th>0</th>\n",
       "      <td>UPARK公园</td>\n",
       "      <td>0.343037</td>\n",
       "    </tr>\n",
       "  </tbody>\n",
       "</table>\n",
       "</div>"
      ],
      "text/plain": [
       "  name_left         0\n",
       "0   UPARK公园  0.343037"
      ]
     },
     "execution_count": 38,
     "metadata": {},
     "output_type": "execute_result"
    }
   ],
   "source": [
    "park_vk.head(1)"
   ]
  },
  {
   "cell_type": "code",
   "execution_count": 39,
   "metadata": {},
   "outputs": [],
   "source": [
    "park_vk.columns=['name','vl_R']"
   ]
  },
  {
   "cell_type": "code",
   "execution_count": 40,
   "metadata": {},
   "outputs": [
    {
     "data": {
      "text/html": [
       "<div>\n",
       "<style scoped>\n",
       "    .dataframe tbody tr th:only-of-type {\n",
       "        vertical-align: middle;\n",
       "    }\n",
       "\n",
       "    .dataframe tbody tr th {\n",
       "        vertical-align: top;\n",
       "    }\n",
       "\n",
       "    .dataframe thead th {\n",
       "        text-align: right;\n",
       "    }\n",
       "</style>\n",
       "<table border=\"1\" class=\"dataframe\">\n",
       "  <thead>\n",
       "    <tr style=\"text-align: right;\">\n",
       "      <th></th>\n",
       "      <th>name</th>\n",
       "      <th>vl_R</th>\n",
       "    </tr>\n",
       "  </thead>\n",
       "  <tbody>\n",
       "    <tr>\n",
       "      <th>0</th>\n",
       "      <td>UPARK公园</td>\n",
       "      <td>0.343037</td>\n",
       "    </tr>\n",
       "  </tbody>\n",
       "</table>\n",
       "</div>"
      ],
      "text/plain": [
       "      name      vl_R\n",
       "0  UPARK公园  0.343037"
      ]
     },
     "execution_count": 40,
     "metadata": {},
     "output_type": "execute_result"
    }
   ],
   "source": [
    "park_vk.head(1)"
   ]
  },
  {
   "cell_type": "code",
   "execution_count": 41,
   "metadata": {},
   "outputs": [],
   "source": [
    "park_concat = pd.merge(park,park_vk,on='name')"
   ]
  },
  {
   "cell_type": "code",
   "execution_count": 42,
   "metadata": {},
   "outputs": [
    {
     "data": {
      "text/html": [
       "<div>\n",
       "<style scoped>\n",
       "    .dataframe tbody tr th:only-of-type {\n",
       "        vertical-align: middle;\n",
       "    }\n",
       "\n",
       "    .dataframe tbody tr th {\n",
       "        vertical-align: top;\n",
       "    }\n",
       "\n",
       "    .dataframe thead th {\n",
       "        text-align: right;\n",
       "    }\n",
       "</style>\n",
       "<table border=\"1\" class=\"dataframe\">\n",
       "  <thead>\n",
       "    <tr style=\"text-align: right;\">\n",
       "      <th></th>\n",
       "      <th>district</th>\n",
       "      <th>name</th>\n",
       "      <th>lng</th>\n",
       "      <th>lat</th>\n",
       "      <th>geometry</th>\n",
       "      <th>area</th>\n",
       "      <th>vl_R</th>\n",
       "    </tr>\n",
       "  </thead>\n",
       "  <tbody>\n",
       "    <tr>\n",
       "      <th>0</th>\n",
       "      <td>郫都区</td>\n",
       "      <td>成都高新区西园街道体育公园</td>\n",
       "      <td>103.910751</td>\n",
       "      <td>30.759126</td>\n",
       "      <td>POLYGON ((11567202.427 3601506.640, 11567205.6...</td>\n",
       "      <td>18400.304976</td>\n",
       "      <td>0.412775</td>\n",
       "    </tr>\n",
       "  </tbody>\n",
       "</table>\n",
       "</div>"
      ],
      "text/plain": [
       "  district           name         lng        lat  \\\n",
       "0      郫都区  成都高新区西园街道体育公园  103.910751  30.759126   \n",
       "\n",
       "                                            geometry          area      vl_R  \n",
       "0  POLYGON ((11567202.427 3601506.640, 11567205.6...  18400.304976  0.412775  "
      ]
     },
     "execution_count": 42,
     "metadata": {},
     "output_type": "execute_result"
    }
   ],
   "source": [
    "park_concat.head(1)"
   ]
  },
  {
   "cell_type": "code",
   "execution_count": 43,
   "metadata": {},
   "outputs": [
    {
     "data": {
      "text/html": [
       "<div>\n",
       "<style scoped>\n",
       "    .dataframe tbody tr th:only-of-type {\n",
       "        vertical-align: middle;\n",
       "    }\n",
       "\n",
       "    .dataframe tbody tr th {\n",
       "        vertical-align: top;\n",
       "    }\n",
       "\n",
       "    .dataframe thead th {\n",
       "        text-align: right;\n",
       "    }\n",
       "</style>\n",
       "<table border=\"1\" class=\"dataframe\">\n",
       "  <thead>\n",
       "    <tr style=\"text-align: right;\">\n",
       "      <th></th>\n",
       "      <th>name</th>\n",
       "      <th>lng_wgs84</th>\n",
       "      <th>lat_wgs84</th>\n",
       "      <th>pop</th>\n",
       "      <th>geometry</th>\n",
       "    </tr>\n",
       "  </thead>\n",
       "  <tbody>\n",
       "    <tr>\n",
       "      <th>0</th>\n",
       "      <td>中铁西城</td>\n",
       "      <td>103.962425</td>\n",
       "      <td>30.675995</td>\n",
       "      <td>7980</td>\n",
       "      <td>POINT (11573044.257 3590742.072)</td>\n",
       "    </tr>\n",
       "  </tbody>\n",
       "</table>\n",
       "</div>"
      ],
      "text/plain": [
       "   name   lng_wgs84  lat_wgs84   pop                          geometry\n",
       "0  中铁西城  103.962425  30.675995  7980  POINT (11573044.257 3590742.072)"
      ]
     },
     "execution_count": 43,
     "metadata": {},
     "output_type": "execute_result"
    }
   ],
   "source": [
    "res.head(1)"
   ]
  },
  {
   "cell_type": "code",
   "execution_count": 44,
   "metadata": {},
   "outputs": [],
   "source": [
    "res_s2 = res.copy()"
   ]
  },
  {
   "cell_type": "code",
   "execution_count": 45,
   "metadata": {},
   "outputs": [],
   "source": [
    "res_s2['geometry'] = res_s2['geometry'].buffer(2500)"
   ]
  },
  {
   "cell_type": "code",
   "execution_count": 46,
   "metadata": {},
   "outputs": [
    {
     "data": {
      "text/html": [
       "<div>\n",
       "<style scoped>\n",
       "    .dataframe tbody tr th:only-of-type {\n",
       "        vertical-align: middle;\n",
       "    }\n",
       "\n",
       "    .dataframe tbody tr th {\n",
       "        vertical-align: top;\n",
       "    }\n",
       "\n",
       "    .dataframe thead th {\n",
       "        text-align: right;\n",
       "    }\n",
       "</style>\n",
       "<table border=\"1\" class=\"dataframe\">\n",
       "  <thead>\n",
       "    <tr style=\"text-align: right;\">\n",
       "      <th></th>\n",
       "      <th>name</th>\n",
       "      <th>lng_wgs84</th>\n",
       "      <th>lat_wgs84</th>\n",
       "      <th>pop</th>\n",
       "      <th>geometry</th>\n",
       "    </tr>\n",
       "  </thead>\n",
       "  <tbody>\n",
       "    <tr>\n",
       "      <th>0</th>\n",
       "      <td>中铁西城</td>\n",
       "      <td>103.962425</td>\n",
       "      <td>30.675995</td>\n",
       "      <td>7980</td>\n",
       "      <td>POLYGON ((11575544.257 3590742.072, 11575532.2...</td>\n",
       "    </tr>\n",
       "  </tbody>\n",
       "</table>\n",
       "</div>"
      ],
      "text/plain": [
       "   name   lng_wgs84  lat_wgs84   pop  \\\n",
       "0  中铁西城  103.962425  30.675995  7980   \n",
       "\n",
       "                                            geometry  \n",
       "0  POLYGON ((11575544.257 3590742.072, 11575532.2...  "
      ]
     },
     "execution_count": 46,
     "metadata": {},
     "output_type": "execute_result"
    }
   ],
   "source": [
    "res_s2.head(1)"
   ]
  },
  {
   "cell_type": "code",
   "execution_count": 47,
   "metadata": {},
   "outputs": [],
   "source": [
    "res_s2 = gpd.sjoin(res_s2,park_concat,op='intersects')"
   ]
  },
  {
   "cell_type": "code",
   "execution_count": 48,
   "metadata": {},
   "outputs": [
    {
     "data": {
      "text/html": [
       "<div>\n",
       "<style scoped>\n",
       "    .dataframe tbody tr th:only-of-type {\n",
       "        vertical-align: middle;\n",
       "    }\n",
       "\n",
       "    .dataframe tbody tr th {\n",
       "        vertical-align: top;\n",
       "    }\n",
       "\n",
       "    .dataframe thead th {\n",
       "        text-align: right;\n",
       "    }\n",
       "</style>\n",
       "<table border=\"1\" class=\"dataframe\">\n",
       "  <thead>\n",
       "    <tr style=\"text-align: right;\">\n",
       "      <th></th>\n",
       "      <th>name_left</th>\n",
       "      <th>lng_wgs84</th>\n",
       "      <th>lat_wgs84</th>\n",
       "      <th>pop</th>\n",
       "      <th>geometry</th>\n",
       "      <th>index_right</th>\n",
       "      <th>district</th>\n",
       "      <th>name_right</th>\n",
       "      <th>lng</th>\n",
       "      <th>lat</th>\n",
       "      <th>area</th>\n",
       "      <th>vl_R</th>\n",
       "    </tr>\n",
       "  </thead>\n",
       "  <tbody>\n",
       "    <tr>\n",
       "      <th>0</th>\n",
       "      <td>中铁西城</td>\n",
       "      <td>103.962425</td>\n",
       "      <td>30.675995</td>\n",
       "      <td>7980</td>\n",
       "      <td>POLYGON ((11575544.257 3590742.072, 11575532.2...</td>\n",
       "      <td>40</td>\n",
       "      <td>青羊区</td>\n",
       "      <td>大公园</td>\n",
       "      <td>103.957571</td>\n",
       "      <td>30.673149</td>\n",
       "      <td>81151.147907</td>\n",
       "      <td>0.545919</td>\n",
       "    </tr>\n",
       "    <tr>\n",
       "      <th>1</th>\n",
       "      <td>光华逸家</td>\n",
       "      <td>103.963355</td>\n",
       "      <td>30.672417</td>\n",
       "      <td>6762</td>\n",
       "      <td>POLYGON ((11575647.730 3590278.896, 11575635.6...</td>\n",
       "      <td>40</td>\n",
       "      <td>青羊区</td>\n",
       "      <td>大公园</td>\n",
       "      <td>103.957571</td>\n",
       "      <td>30.673149</td>\n",
       "      <td>81151.147907</td>\n",
       "      <td>0.545919</td>\n",
       "    </tr>\n",
       "    <tr>\n",
       "      <th>2</th>\n",
       "      <td>光华锦苑</td>\n",
       "      <td>103.952487</td>\n",
       "      <td>30.676118</td>\n",
       "      <td>5292</td>\n",
       "      <td>POLYGON ((11574437.887 3590757.953, 11574425.8...</td>\n",
       "      <td>40</td>\n",
       "      <td>青羊区</td>\n",
       "      <td>大公园</td>\n",
       "      <td>103.957571</td>\n",
       "      <td>30.673149</td>\n",
       "      <td>81151.147907</td>\n",
       "      <td>0.545919</td>\n",
       "    </tr>\n",
       "    <tr>\n",
       "      <th>3</th>\n",
       "      <td>清溪雅筑</td>\n",
       "      <td>103.972502</td>\n",
       "      <td>30.669801</td>\n",
       "      <td>10275</td>\n",
       "      <td>POLYGON ((11576665.999 3589940.378, 11576653.9...</td>\n",
       "      <td>40</td>\n",
       "      <td>青羊区</td>\n",
       "      <td>大公园</td>\n",
       "      <td>103.957571</td>\n",
       "      <td>30.673149</td>\n",
       "      <td>81151.147907</td>\n",
       "      <td>0.545919</td>\n",
       "    </tr>\n",
       "    <tr>\n",
       "      <th>4</th>\n",
       "      <td>阳城心灵家园</td>\n",
       "      <td>103.967685</td>\n",
       "      <td>30.672480</td>\n",
       "      <td>4839</td>\n",
       "      <td>POLYGON ((11576129.747 3590287.108, 11576117.7...</td>\n",
       "      <td>40</td>\n",
       "      <td>青羊区</td>\n",
       "      <td>大公园</td>\n",
       "      <td>103.957571</td>\n",
       "      <td>30.673149</td>\n",
       "      <td>81151.147907</td>\n",
       "      <td>0.545919</td>\n",
       "    </tr>\n",
       "    <tr>\n",
       "      <th>...</th>\n",
       "      <td>...</td>\n",
       "      <td>...</td>\n",
       "      <td>...</td>\n",
       "      <td>...</td>\n",
       "      <td>...</td>\n",
       "      <td>...</td>\n",
       "      <td>...</td>\n",
       "      <td>...</td>\n",
       "      <td>...</td>\n",
       "      <td>...</td>\n",
       "      <td>...</td>\n",
       "      <td>...</td>\n",
       "    </tr>\n",
       "    <tr>\n",
       "      <th>4168</th>\n",
       "      <td>成都合院公园里</td>\n",
       "      <td>103.916740</td>\n",
       "      <td>30.747999</td>\n",
       "      <td>15174</td>\n",
       "      <td>POLYGON ((11570458.590 3600065.101, 11570446.5...</td>\n",
       "      <td>2</td>\n",
       "      <td>郫都区</td>\n",
       "      <td>成都合院-国学公园</td>\n",
       "      <td>103.916360</td>\n",
       "      <td>30.746418</td>\n",
       "      <td>92949.399894</td>\n",
       "      <td>1.530359</td>\n",
       "    </tr>\n",
       "    <tr>\n",
       "      <th>4147</th>\n",
       "      <td>顺江小区</td>\n",
       "      <td>103.923817</td>\n",
       "      <td>30.743212</td>\n",
       "      <td>25194</td>\n",
       "      <td>POLYGON ((11571246.366 3599445.087, 11571234.3...</td>\n",
       "      <td>0</td>\n",
       "      <td>郫都区</td>\n",
       "      <td>成都高新区西园街道体育公园</td>\n",
       "      <td>103.910751</td>\n",
       "      <td>30.759126</td>\n",
       "      <td>18400.304976</td>\n",
       "      <td>0.412775</td>\n",
       "    </tr>\n",
       "    <tr>\n",
       "      <th>4150</th>\n",
       "      <td>中房学府海棠</td>\n",
       "      <td>103.925017</td>\n",
       "      <td>30.760184</td>\n",
       "      <td>4719</td>\n",
       "      <td>POLYGON ((11571380.005 3601643.495, 11571367.9...</td>\n",
       "      <td>0</td>\n",
       "      <td>郫都区</td>\n",
       "      <td>成都高新区西园街道体育公园</td>\n",
       "      <td>103.910751</td>\n",
       "      <td>30.759126</td>\n",
       "      <td>18400.304976</td>\n",
       "      <td>0.412775</td>\n",
       "    </tr>\n",
       "    <tr>\n",
       "      <th>4163</th>\n",
       "      <td>龙湖时代天街</td>\n",
       "      <td>103.923214</td>\n",
       "      <td>30.758407</td>\n",
       "      <td>36516</td>\n",
       "      <td>POLYGON ((11571179.255 3601413.343, 11571167.2...</td>\n",
       "      <td>0</td>\n",
       "      <td>郫都区</td>\n",
       "      <td>成都高新区西园街道体育公园</td>\n",
       "      <td>103.910751</td>\n",
       "      <td>30.759126</td>\n",
       "      <td>18400.304976</td>\n",
       "      <td>0.412775</td>\n",
       "    </tr>\n",
       "    <tr>\n",
       "      <th>4168</th>\n",
       "      <td>成都合院公园里</td>\n",
       "      <td>103.916740</td>\n",
       "      <td>30.747999</td>\n",
       "      <td>15174</td>\n",
       "      <td>POLYGON ((11570458.590 3600065.101, 11570446.5...</td>\n",
       "      <td>0</td>\n",
       "      <td>郫都区</td>\n",
       "      <td>成都高新区西园街道体育公园</td>\n",
       "      <td>103.910751</td>\n",
       "      <td>30.759126</td>\n",
       "      <td>18400.304976</td>\n",
       "      <td>0.412775</td>\n",
       "    </tr>\n",
       "  </tbody>\n",
       "</table>\n",
       "<p>25675 rows × 12 columns</p>\n",
       "</div>"
      ],
      "text/plain": [
       "     name_left   lng_wgs84  lat_wgs84    pop  \\\n",
       "0         中铁西城  103.962425  30.675995   7980   \n",
       "1         光华逸家  103.963355  30.672417   6762   \n",
       "2         光华锦苑  103.952487  30.676118   5292   \n",
       "3         清溪雅筑  103.972502  30.669801  10275   \n",
       "4       阳城心灵家园  103.967685  30.672480   4839   \n",
       "...        ...         ...        ...    ...   \n",
       "4168   成都合院公园里  103.916740  30.747999  15174   \n",
       "4147      顺江小区  103.923817  30.743212  25194   \n",
       "4150    中房学府海棠  103.925017  30.760184   4719   \n",
       "4163    龙湖时代天街  103.923214  30.758407  36516   \n",
       "4168   成都合院公园里  103.916740  30.747999  15174   \n",
       "\n",
       "                                               geometry  index_right district  \\\n",
       "0     POLYGON ((11575544.257 3590742.072, 11575532.2...           40      青羊区   \n",
       "1     POLYGON ((11575647.730 3590278.896, 11575635.6...           40      青羊区   \n",
       "2     POLYGON ((11574437.887 3590757.953, 11574425.8...           40      青羊区   \n",
       "3     POLYGON ((11576665.999 3589940.378, 11576653.9...           40      青羊区   \n",
       "4     POLYGON ((11576129.747 3590287.108, 11576117.7...           40      青羊区   \n",
       "...                                                 ...          ...      ...   \n",
       "4168  POLYGON ((11570458.590 3600065.101, 11570446.5...            2      郫都区   \n",
       "4147  POLYGON ((11571246.366 3599445.087, 11571234.3...            0      郫都区   \n",
       "4150  POLYGON ((11571380.005 3601643.495, 11571367.9...            0      郫都区   \n",
       "4163  POLYGON ((11571179.255 3601413.343, 11571167.2...            0      郫都区   \n",
       "4168  POLYGON ((11570458.590 3600065.101, 11570446.5...            0      郫都区   \n",
       "\n",
       "         name_right         lng        lat          area      vl_R  \n",
       "0               大公园  103.957571  30.673149  81151.147907  0.545919  \n",
       "1               大公园  103.957571  30.673149  81151.147907  0.545919  \n",
       "2               大公园  103.957571  30.673149  81151.147907  0.545919  \n",
       "3               大公园  103.957571  30.673149  81151.147907  0.545919  \n",
       "4               大公园  103.957571  30.673149  81151.147907  0.545919  \n",
       "...             ...         ...        ...           ...       ...  \n",
       "4168      成都合院-国学公园  103.916360  30.746418  92949.399894  1.530359  \n",
       "4147  成都高新区西园街道体育公园  103.910751  30.759126  18400.304976  0.412775  \n",
       "4150  成都高新区西园街道体育公园  103.910751  30.759126  18400.304976  0.412775  \n",
       "4163  成都高新区西园街道体育公园  103.910751  30.759126  18400.304976  0.412775  \n",
       "4168  成都高新区西园街道体育公园  103.910751  30.759126  18400.304976  0.412775  \n",
       "\n",
       "[25675 rows x 12 columns]"
      ]
     },
     "execution_count": 48,
     "metadata": {},
     "output_type": "execute_result"
    }
   ],
   "source": [
    "res_s2"
   ]
  },
  {
   "cell_type": "code",
   "execution_count": 49,
   "metadata": {},
   "outputs": [],
   "source": [
    "res_s2['length'] = res_s2[['lng', 'lat','lng_wgs84', 'lat_wgs84']].\\\n",
    "apply(lambda x:haversine(x[0],x[1],x[2],x[3]),axis=1)"
   ]
  },
  {
   "cell_type": "code",
   "execution_count": 50,
   "metadata": {},
   "outputs": [
    {
     "data": {
      "text/html": [
       "<div>\n",
       "<style scoped>\n",
       "    .dataframe tbody tr th:only-of-type {\n",
       "        vertical-align: middle;\n",
       "    }\n",
       "\n",
       "    .dataframe tbody tr th {\n",
       "        vertical-align: top;\n",
       "    }\n",
       "\n",
       "    .dataframe thead th {\n",
       "        text-align: right;\n",
       "    }\n",
       "</style>\n",
       "<table border=\"1\" class=\"dataframe\">\n",
       "  <thead>\n",
       "    <tr style=\"text-align: right;\">\n",
       "      <th></th>\n",
       "      <th>name_left</th>\n",
       "      <th>lng_wgs84</th>\n",
       "      <th>lat_wgs84</th>\n",
       "      <th>pop</th>\n",
       "      <th>geometry</th>\n",
       "      <th>index_right</th>\n",
       "      <th>district</th>\n",
       "      <th>name_right</th>\n",
       "      <th>lng</th>\n",
       "      <th>lat</th>\n",
       "      <th>area</th>\n",
       "      <th>vl_R</th>\n",
       "      <th>length</th>\n",
       "    </tr>\n",
       "  </thead>\n",
       "  <tbody>\n",
       "    <tr>\n",
       "      <th>0</th>\n",
       "      <td>中铁西城</td>\n",
       "      <td>103.962425</td>\n",
       "      <td>30.675995</td>\n",
       "      <td>7980</td>\n",
       "      <td>POLYGON ((11575544.257 3590742.072, 11575532.2...</td>\n",
       "      <td>40</td>\n",
       "      <td>青羊区</td>\n",
       "      <td>大公园</td>\n",
       "      <td>103.957571</td>\n",
       "      <td>30.673149</td>\n",
       "      <td>81151.147907</td>\n",
       "      <td>0.545919</td>\n",
       "      <td>561.896081</td>\n",
       "    </tr>\n",
       "  </tbody>\n",
       "</table>\n",
       "</div>"
      ],
      "text/plain": [
       "  name_left   lng_wgs84  lat_wgs84   pop  \\\n",
       "0      中铁西城  103.962425  30.675995  7980   \n",
       "\n",
       "                                            geometry  index_right district  \\\n",
       "0  POLYGON ((11575544.257 3590742.072, 11575532.2...           40      青羊区   \n",
       "\n",
       "  name_right         lng        lat          area      vl_R      length  \n",
       "0        大公园  103.957571  30.673149  81151.147907  0.545919  561.896081  "
      ]
     },
     "execution_count": 50,
     "metadata": {},
     "output_type": "execute_result"
    }
   ],
   "source": [
    "res_s2.head(1)"
   ]
  },
  {
   "cell_type": "code",
   "execution_count": 51,
   "metadata": {},
   "outputs": [],
   "source": [
    "def get_G(x):\n",
    "    if x <= 2500:\n",
    "        G = (np.exp(-0.5 * (x/2500)**2) - np.exp(-0.5)) / (1 - np.exp(-0.5))\n",
    "        return G\n",
    "    else:\n",
    "        return 0\n",
    "\n",
    "def get_A(x):\n",
    "    x = x.reset_index()\n",
    "    dt = 0\n",
    "    for i in range(len(x)):\n",
    "        vl = x['vl_R'][i] * get_G(x['length'][i])\n",
    "        dt += vl\n",
    "    return dt"
   ]
  },
  {
   "cell_type": "code",
   "execution_count": 52,
   "metadata": {},
   "outputs": [
    {
     "data": {
      "text/plain": [
       "name_left\n",
       "402厂宿舍     1.439779\n",
       "416医院住宅    0.420673\n",
       "512单位宿舍    0.150424\n",
       "611所家属院    1.336149\n",
       "630厂宿舍     0.717298\n",
       "             ...   \n",
       "龙锦花园       0.643296\n",
       "龙锦苑        0.788646\n",
       "龙锦雅苑       0.042225\n",
       "龙门公寓       1.026372\n",
       "龙门镇一期      0.179561\n",
       "Length: 4253, dtype: float64"
      ]
     },
     "execution_count": 52,
     "metadata": {},
     "output_type": "execute_result"
    }
   ],
   "source": [
    "res_s2.groupby(by='name_left').apply(get_A)"
   ]
  },
  {
   "cell_type": "code",
   "execution_count": 53,
   "metadata": {},
   "outputs": [],
   "source": [
    "res_vl = res_s2.groupby(by='name_left').apply(get_A).reset_index()"
   ]
  },
  {
   "cell_type": "code",
   "execution_count": 54,
   "metadata": {},
   "outputs": [
    {
     "data": {
      "text/html": [
       "<div>\n",
       "<style scoped>\n",
       "    .dataframe tbody tr th:only-of-type {\n",
       "        vertical-align: middle;\n",
       "    }\n",
       "\n",
       "    .dataframe tbody tr th {\n",
       "        vertical-align: top;\n",
       "    }\n",
       "\n",
       "    .dataframe thead th {\n",
       "        text-align: right;\n",
       "    }\n",
       "</style>\n",
       "<table border=\"1\" class=\"dataframe\">\n",
       "  <thead>\n",
       "    <tr style=\"text-align: right;\">\n",
       "      <th></th>\n",
       "      <th>name_left</th>\n",
       "      <th>0</th>\n",
       "    </tr>\n",
       "  </thead>\n",
       "  <tbody>\n",
       "    <tr>\n",
       "      <th>0</th>\n",
       "      <td>402厂宿舍</td>\n",
       "      <td>1.439779</td>\n",
       "    </tr>\n",
       "    <tr>\n",
       "      <th>1</th>\n",
       "      <td>416医院住宅</td>\n",
       "      <td>0.420673</td>\n",
       "    </tr>\n",
       "    <tr>\n",
       "      <th>2</th>\n",
       "      <td>512单位宿舍</td>\n",
       "      <td>0.150424</td>\n",
       "    </tr>\n",
       "    <tr>\n",
       "      <th>3</th>\n",
       "      <td>611所家属院</td>\n",
       "      <td>1.336149</td>\n",
       "    </tr>\n",
       "    <tr>\n",
       "      <th>4</th>\n",
       "      <td>630厂宿舍</td>\n",
       "      <td>0.717298</td>\n",
       "    </tr>\n",
       "    <tr>\n",
       "      <th>...</th>\n",
       "      <td>...</td>\n",
       "      <td>...</td>\n",
       "    </tr>\n",
       "    <tr>\n",
       "      <th>4248</th>\n",
       "      <td>龙锦花园</td>\n",
       "      <td>0.643296</td>\n",
       "    </tr>\n",
       "    <tr>\n",
       "      <th>4249</th>\n",
       "      <td>龙锦苑</td>\n",
       "      <td>0.788646</td>\n",
       "    </tr>\n",
       "    <tr>\n",
       "      <th>4250</th>\n",
       "      <td>龙锦雅苑</td>\n",
       "      <td>0.042225</td>\n",
       "    </tr>\n",
       "    <tr>\n",
       "      <th>4251</th>\n",
       "      <td>龙门公寓</td>\n",
       "      <td>1.026372</td>\n",
       "    </tr>\n",
       "    <tr>\n",
       "      <th>4252</th>\n",
       "      <td>龙门镇一期</td>\n",
       "      <td>0.179561</td>\n",
       "    </tr>\n",
       "  </tbody>\n",
       "</table>\n",
       "<p>4253 rows × 2 columns</p>\n",
       "</div>"
      ],
      "text/plain": [
       "     name_left         0\n",
       "0       402厂宿舍  1.439779\n",
       "1      416医院住宅  0.420673\n",
       "2      512单位宿舍  0.150424\n",
       "3      611所家属院  1.336149\n",
       "4       630厂宿舍  0.717298\n",
       "...        ...       ...\n",
       "4248      龙锦花园  0.643296\n",
       "4249       龙锦苑  0.788646\n",
       "4250      龙锦雅苑  0.042225\n",
       "4251      龙门公寓  1.026372\n",
       "4252     龙门镇一期  0.179561\n",
       "\n",
       "[4253 rows x 2 columns]"
      ]
     },
     "execution_count": 54,
     "metadata": {},
     "output_type": "execute_result"
    }
   ],
   "source": [
    "res_vl"
   ]
  },
  {
   "cell_type": "code",
   "execution_count": 55,
   "metadata": {},
   "outputs": [],
   "source": [
    "res_vl.columns=['name','vl_R']"
   ]
  },
  {
   "cell_type": "code",
   "execution_count": 56,
   "metadata": {},
   "outputs": [
    {
     "data": {
      "text/html": [
       "<div>\n",
       "<style scoped>\n",
       "    .dataframe tbody tr th:only-of-type {\n",
       "        vertical-align: middle;\n",
       "    }\n",
       "\n",
       "    .dataframe tbody tr th {\n",
       "        vertical-align: top;\n",
       "    }\n",
       "\n",
       "    .dataframe thead th {\n",
       "        text-align: right;\n",
       "    }\n",
       "</style>\n",
       "<table border=\"1\" class=\"dataframe\">\n",
       "  <thead>\n",
       "    <tr style=\"text-align: right;\">\n",
       "      <th></th>\n",
       "      <th>name</th>\n",
       "      <th>vl_R</th>\n",
       "    </tr>\n",
       "  </thead>\n",
       "  <tbody>\n",
       "    <tr>\n",
       "      <th>0</th>\n",
       "      <td>402厂宿舍</td>\n",
       "      <td>1.439779</td>\n",
       "    </tr>\n",
       "  </tbody>\n",
       "</table>\n",
       "</div>"
      ],
      "text/plain": [
       "     name      vl_R\n",
       "0  402厂宿舍  1.439779"
      ]
     },
     "execution_count": 56,
     "metadata": {},
     "output_type": "execute_result"
    }
   ],
   "source": [
    "res_vl.head(1)"
   ]
  },
  {
   "cell_type": "code",
   "execution_count": 57,
   "metadata": {},
   "outputs": [
    {
     "data": {
      "text/html": [
       "<div>\n",
       "<style scoped>\n",
       "    .dataframe tbody tr th:only-of-type {\n",
       "        vertical-align: middle;\n",
       "    }\n",
       "\n",
       "    .dataframe tbody tr th {\n",
       "        vertical-align: top;\n",
       "    }\n",
       "\n",
       "    .dataframe thead th {\n",
       "        text-align: right;\n",
       "    }\n",
       "</style>\n",
       "<table border=\"1\" class=\"dataframe\">\n",
       "  <thead>\n",
       "    <tr style=\"text-align: right;\">\n",
       "      <th></th>\n",
       "      <th>name</th>\n",
       "      <th>lng_wgs84</th>\n",
       "      <th>lat_wgs84</th>\n",
       "      <th>pop</th>\n",
       "      <th>geometry</th>\n",
       "    </tr>\n",
       "  </thead>\n",
       "  <tbody>\n",
       "    <tr>\n",
       "      <th>0</th>\n",
       "      <td>中铁西城</td>\n",
       "      <td>103.962425</td>\n",
       "      <td>30.675995</td>\n",
       "      <td>7980</td>\n",
       "      <td>POINT (11573044.257 3590742.072)</td>\n",
       "    </tr>\n",
       "  </tbody>\n",
       "</table>\n",
       "</div>"
      ],
      "text/plain": [
       "   name   lng_wgs84  lat_wgs84   pop                          geometry\n",
       "0  中铁西城  103.962425  30.675995  7980  POINT (11573044.257 3590742.072)"
      ]
     },
     "execution_count": 57,
     "metadata": {},
     "output_type": "execute_result"
    }
   ],
   "source": [
    "res.head(1)"
   ]
  },
  {
   "cell_type": "markdown",
   "metadata": {},
   "source": [
    "# 空间可视化"
   ]
  },
  {
   "cell_type": "code",
   "execution_count": 58,
   "metadata": {},
   "outputs": [],
   "source": [
    "dt = res.merge(res_vl,on='name')"
   ]
  },
  {
   "cell_type": "code",
   "execution_count": 59,
   "metadata": {},
   "outputs": [
    {
     "data": {
      "text/html": [
       "<div>\n",
       "<style scoped>\n",
       "    .dataframe tbody tr th:only-of-type {\n",
       "        vertical-align: middle;\n",
       "    }\n",
       "\n",
       "    .dataframe tbody tr th {\n",
       "        vertical-align: top;\n",
       "    }\n",
       "\n",
       "    .dataframe thead th {\n",
       "        text-align: right;\n",
       "    }\n",
       "</style>\n",
       "<table border=\"1\" class=\"dataframe\">\n",
       "  <thead>\n",
       "    <tr style=\"text-align: right;\">\n",
       "      <th></th>\n",
       "      <th>name</th>\n",
       "      <th>lng_wgs84</th>\n",
       "      <th>lat_wgs84</th>\n",
       "      <th>pop</th>\n",
       "      <th>geometry</th>\n",
       "      <th>vl_R</th>\n",
       "    </tr>\n",
       "  </thead>\n",
       "  <tbody>\n",
       "    <tr>\n",
       "      <th>0</th>\n",
       "      <td>中铁西城</td>\n",
       "      <td>103.962425</td>\n",
       "      <td>30.675995</td>\n",
       "      <td>7980</td>\n",
       "      <td>POINT (11573044.257 3590742.072)</td>\n",
       "      <td>0.511313</td>\n",
       "    </tr>\n",
       "    <tr>\n",
       "      <th>1</th>\n",
       "      <td>光华逸家</td>\n",
       "      <td>103.963355</td>\n",
       "      <td>30.672417</td>\n",
       "      <td>6762</td>\n",
       "      <td>POINT (11573147.730 3590278.896)</td>\n",
       "      <td>0.558793</td>\n",
       "    </tr>\n",
       "    <tr>\n",
       "      <th>2</th>\n",
       "      <td>光华锦苑</td>\n",
       "      <td>103.952487</td>\n",
       "      <td>30.676118</td>\n",
       "      <td>5292</td>\n",
       "      <td>POINT (11571937.887 3590757.953)</td>\n",
       "      <td>0.508103</td>\n",
       "    </tr>\n",
       "    <tr>\n",
       "      <th>3</th>\n",
       "      <td>清溪雅筑</td>\n",
       "      <td>103.972502</td>\n",
       "      <td>30.669801</td>\n",
       "      <td>10275</td>\n",
       "      <td>POINT (11574165.999 3589940.378)</td>\n",
       "      <td>0.699263</td>\n",
       "    </tr>\n",
       "    <tr>\n",
       "      <th>4</th>\n",
       "      <td>阳城心灵家园</td>\n",
       "      <td>103.967685</td>\n",
       "      <td>30.672480</td>\n",
       "      <td>4839</td>\n",
       "      <td>POINT (11573629.747 3590287.108)</td>\n",
       "      <td>0.590253</td>\n",
       "    </tr>\n",
       "    <tr>\n",
       "      <th>...</th>\n",
       "      <td>...</td>\n",
       "      <td>...</td>\n",
       "      <td>...</td>\n",
       "      <td>...</td>\n",
       "      <td>...</td>\n",
       "      <td>...</td>\n",
       "    </tr>\n",
       "    <tr>\n",
       "      <th>4248</th>\n",
       "      <td>专气厂宿舍</td>\n",
       "      <td>104.089700</td>\n",
       "      <td>30.622494</td>\n",
       "      <td>378</td>\n",
       "      <td>POINT (11587212.405 3583819.301)</td>\n",
       "      <td>2.590683</td>\n",
       "    </tr>\n",
       "    <tr>\n",
       "      <th>4249</th>\n",
       "      <td>永兴苑</td>\n",
       "      <td>104.098554</td>\n",
       "      <td>30.625913</td>\n",
       "      <td>438</td>\n",
       "      <td>POINT (11588198.016 3584261.557)</td>\n",
       "      <td>2.199770</td>\n",
       "    </tr>\n",
       "    <tr>\n",
       "      <th>4250</th>\n",
       "      <td>紫东苑</td>\n",
       "      <td>104.085937</td>\n",
       "      <td>30.648427</td>\n",
       "      <td>1020</td>\n",
       "      <td>POINT (11586793.482 3587174.371)</td>\n",
       "      <td>0.329337</td>\n",
       "    </tr>\n",
       "    <tr>\n",
       "      <th>4251</th>\n",
       "      <td>昭忠祠街47号院</td>\n",
       "      <td>104.087422</td>\n",
       "      <td>30.668551</td>\n",
       "      <td>168</td>\n",
       "      <td>POINT (11586958.851 3589778.560)</td>\n",
       "      <td>0.593634</td>\n",
       "    </tr>\n",
       "    <tr>\n",
       "      <th>4252</th>\n",
       "      <td>一心桥横街28号院</td>\n",
       "      <td>104.093517</td>\n",
       "      <td>30.647558</td>\n",
       "      <td>756</td>\n",
       "      <td>POINT (11587637.294 3587061.890)</td>\n",
       "      <td>0.478837</td>\n",
       "    </tr>\n",
       "  </tbody>\n",
       "</table>\n",
       "<p>4253 rows × 6 columns</p>\n",
       "</div>"
      ],
      "text/plain": [
       "           name   lng_wgs84  lat_wgs84    pop  \\\n",
       "0          中铁西城  103.962425  30.675995   7980   \n",
       "1          光华逸家  103.963355  30.672417   6762   \n",
       "2          光华锦苑  103.952487  30.676118   5292   \n",
       "3          清溪雅筑  103.972502  30.669801  10275   \n",
       "4        阳城心灵家园  103.967685  30.672480   4839   \n",
       "...         ...         ...        ...    ...   \n",
       "4248      专气厂宿舍  104.089700  30.622494    378   \n",
       "4249        永兴苑  104.098554  30.625913    438   \n",
       "4250        紫东苑  104.085937  30.648427   1020   \n",
       "4251   昭忠祠街47号院  104.087422  30.668551    168   \n",
       "4252  一心桥横街28号院  104.093517  30.647558    756   \n",
       "\n",
       "                              geometry      vl_R  \n",
       "0     POINT (11573044.257 3590742.072)  0.511313  \n",
       "1     POINT (11573147.730 3590278.896)  0.558793  \n",
       "2     POINT (11571937.887 3590757.953)  0.508103  \n",
       "3     POINT (11574165.999 3589940.378)  0.699263  \n",
       "4     POINT (11573629.747 3590287.108)  0.590253  \n",
       "...                                ...       ...  \n",
       "4248  POINT (11587212.405 3583819.301)  2.590683  \n",
       "4249  POINT (11588198.016 3584261.557)  2.199770  \n",
       "4250  POINT (11586793.482 3587174.371)  0.329337  \n",
       "4251  POINT (11586958.851 3589778.560)  0.593634  \n",
       "4252  POINT (11587637.294 3587061.890)  0.478837  \n",
       "\n",
       "[4253 rows x 6 columns]"
      ]
     },
     "execution_count": 59,
     "metadata": {},
     "output_type": "execute_result"
    }
   ],
   "source": [
    "dt"
   ]
  },
  {
   "cell_type": "code",
   "execution_count": 60,
   "metadata": {},
   "outputs": [
    {
     "data": {
      "text/plain": [
       "<Projected CRS: EPSG:3857>\n",
       "Name: WGS 84 / Pseudo-Mercator\n",
       "Axis Info [cartesian]:\n",
       "- X[east]: Easting (metre)\n",
       "- Y[north]: Northing (metre)\n",
       "Area of Use:\n",
       "- name: World - 85°S to 85°N\n",
       "- bounds: (-180.0, -85.06, 180.0, 85.06)\n",
       "Coordinate Operation:\n",
       "- name: Popular Visualisation Pseudo-Mercator\n",
       "- method: Popular Visualisation Pseudo Mercator\n",
       "Datum: World Geodetic System 1984\n",
       "- Ellipsoid: WGS 84\n",
       "- Prime Meridian: Greenwich"
      ]
     },
     "execution_count": 60,
     "metadata": {},
     "output_type": "execute_result"
    }
   ],
   "source": [
    "dt.crs"
   ]
  },
  {
   "cell_type": "markdown",
   "metadata": {},
   "source": [
    "##### 思考：能否直接做核密度？"
   ]
  },
  {
   "cell_type": "code",
   "execution_count": 61,
   "metadata": {},
   "outputs": [
    {
     "data": {
      "text/html": [
       "<div>\n",
       "<style scoped>\n",
       "    .dataframe tbody tr th:only-of-type {\n",
       "        vertical-align: middle;\n",
       "    }\n",
       "\n",
       "    .dataframe tbody tr th {\n",
       "        vertical-align: top;\n",
       "    }\n",
       "\n",
       "    .dataframe thead th {\n",
       "        text-align: right;\n",
       "    }\n",
       "</style>\n",
       "<table border=\"1\" class=\"dataframe\">\n",
       "  <thead>\n",
       "    <tr style=\"text-align: right;\">\n",
       "      <th></th>\n",
       "      <th>NAME</th>\n",
       "      <th>geometry</th>\n",
       "    </tr>\n",
       "  </thead>\n",
       "  <tbody>\n",
       "    <tr>\n",
       "      <th>0</th>\n",
       "      <td>三圣街道</td>\n",
       "      <td>POLYGON ((11593786.707 3580908.726, 11593669.9...</td>\n",
       "    </tr>\n",
       "  </tbody>\n",
       "</table>\n",
       "</div>"
      ],
      "text/plain": [
       "   NAME                                           geometry\n",
       "0  三圣街道  POLYGON ((11593786.707 3580908.726, 11593669.9..."
      ]
     },
     "execution_count": 61,
     "metadata": {},
     "output_type": "execute_result"
    }
   ],
   "source": [
    "cd.head(1)"
   ]
  },
  {
   "cell_type": "code",
   "execution_count": null,
   "metadata": {},
   "outputs": [],
   "source": [
    "dt.head(1)"
   ]
  },
  {
   "cell_type": "code",
   "execution_count": null,
   "metadata": {},
   "outputs": [],
   "source": [
    "# dt.to_file(r\"D:\\ZB-202010\\ZB2020-A1\\shp\\小区可达性.shp\")  # 导出到本地进一步分析"
   ]
  },
  {
   "cell_type": "markdown",
   "metadata": {},
   "source": [
    "克里金插值方法见：http://www.pykriging.com/"
   ]
  }
 ],
 "metadata": {
  "kernelspec": {
   "display_name": "Python 3",
   "language": "python",
   "name": "python3"
  },
  "language_info": {
   "codemirror_mode": {
    "name": "ipython",
    "version": 3
   },
   "file_extension": ".py",
   "mimetype": "text/x-python",
   "name": "python",
   "nbconvert_exporter": "python",
   "pygments_lexer": "ipython3",
   "version": "3.7.10"
  },
  "toc": {
   "base_numbering": 1,
   "nav_menu": {},
   "number_sections": true,
   "sideBar": true,
   "skip_h1_title": false,
   "title_cell": "Table of Contents",
   "title_sidebar": "Contents",
   "toc_cell": false,
   "toc_position": {},
   "toc_section_display": true,
   "toc_window_display": true
  }
 },
 "nbformat": 4,
 "nbformat_minor": 4
}
