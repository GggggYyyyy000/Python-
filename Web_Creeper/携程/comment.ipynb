{
 "metadata": {
  "language_info": {
   "codemirror_mode": {
    "name": "ipython",
    "version": 3
   },
   "file_extension": ".py",
   "mimetype": "text/x-python",
   "name": "python",
   "nbconvert_exporter": "python",
   "pygments_lexer": "ipython3",
   "version": "3.6.12-final"
  },
  "orig_nbformat": 2,
  "kernelspec": {
   "name": "python3",
   "display_name": "Python 3"
  }
 },
 "nbformat": 4,
 "nbformat_minor": 2,
 "cells": [
  {
   "cell_type": "code",
   "execution_count": 1,
   "metadata": {},
   "outputs": [],
   "source": [
    "import requests\n",
    "from bs4 import BeautifulSoup\n",
    "import pandas as pd"
   ]
  },
  {
   "cell_type": "code",
   "execution_count": null,
   "metadata": {},
   "outputs": [],
   "source": [
    "https://you.ctrip.com/sight/shenzhen26/s0-p2.html?keywords=公园#sightname\n",
    "https://you.ctrip.com/sight/shenzhen26/s0-p3.html?keywords=公园#sightname\n",
    "https://you.ctrip.com/sight/shenzhen26/s0-p1.html?keywords=公园#sightname\n",
    "https://you.ctrip.com\n",
    "https://you.ctrip.com/sight/shenzhen26/5812.html"
   ]
  },
  {
   "cell_type": "code",
   "execution_count": null,
   "metadata": {},
   "outputs": [],
   "source": [
    "\"\"\"单页评论获取\"\"\"\n",
    "def comment_get(link):\n",
    "    \n",
    "\n"
   ]
  },
  {
   "cell_type": "code",
   "execution_count": 20,
   "metadata": {
    "tags": []
   },
   "outputs": [
    {
     "output_type": "stream",
     "name": "stdout",
     "text": [
      "https://you.ctrip.com/sight/shenzhen26/5812.html\nhttps://you.ctrip.com/sight/shenzhen26/50541.html\nhttps://you.ctrip.com/sight/shenzhen26/50544.html\nhttps://you.ctrip.com/sight/shenzhen26/1508177.html\nhttps://you.ctrip.com/sight/shenzhen26/133212.html\nhttps://you.ctrip.com/sight/shenzhen26/122378.html\nhttps://you.ctrip.com/sight/shenzhen26/50518.html\nhttps://you.ctrip.com/sight/shenzhen26/110079.html\nhttps://you.ctrip.com/sight/shenzhen26/50550.html\nhttps://you.ctrip.com/sight/shenzhen26/50554.html\nhttps://you.ctrip.com/sight/shenzhen26/50585.html\nhttps://you.ctrip.com/sight/shenzhen26/50551.html\nhttps://you.ctrip.com/sight/shenzhen26/50588.html\nhttps://you.ctrip.com/sight/shenzhen26/50583.html\nhttps://you.ctrip.com/sight/shenzhen26/122225.html\n"
     ]
    }
   ],
   "source": [
    "url = \"https://you.ctrip.com/sight/shenzhen26/s0-p1.html?keywords=公园#sightname\"\n",
    "headers = {\"User-Agent\": \"Mozilla/5.0 (Windows NT 10.0; Win64; x64) AppleWebKit/537.36 (KHTML, like Gecko) Chrome/75.0.3770.80 Safari/537.36\"}\n",
    "b = requests.get(url,headers=headers)\n",
    "if b.status_code == 200:\n",
    "    html = b.text\n",
    "    soup = BeautifulSoup(html, 'lxml')\n",
    "    link_list = soup.find_all(name='div',attrs={\"class\": \"list_mod2\"})\n",
    "    for i in link_list:\n",
    "        link = i.find_all(name='a',attrs={\"target\": \"_blank\"})\n",
    "        link = link[0].attrs['href']\n",
    "        link = \"https://you.ctrip.com\" + link\n",
    "        print(link)\n",
    "\n"
   ]
  },
  {
   "cell_type": "code",
   "execution_count": null,
   "metadata": {},
   "outputs": [],
   "source": []
  }
 ]
}