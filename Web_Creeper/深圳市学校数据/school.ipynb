{
 "cells": [
  {
   "cell_type": "code",
   "execution_count": 38,
   "metadata": {},
   "outputs": [],
   "source": [
    "import pandas as pd\n",
    "import requests\n",
    "from bs4 import BeautifulSoup\n",
    "from pypinyin import lazy_pinyin"
   ]
  },
  {
   "cell_type": "code",
   "execution_count": 43,
   "metadata": {},
   "outputs": [],
   "source": [
    "linkdf = pd.read_excel(\"Link.xlsx\")\n",
    "headers = {\"User-Agent\": \"Mozilla/5.0 (Windows NT 10.0; Win64; x64) AppleWebKit/537.36 (KHTML, like Gecko) Chrome/75.0.3770.80 Safari/537.36\"}"
   ]
  },
  {
   "cell_type": "code",
   "execution_count": 53,
   "metadata": {},
   "outputs": [],
   "source": [
    "url = \"http://www.sz.gov.cn/school/ssxx/szzx/jggk/\""
   ]
  },
  {
   "cell_type": "code",
   "execution_count": 54,
   "metadata": {},
   "outputs": [],
   "source": [
    "a = requests.get(url,headers=headers)\n",
    "html = a.text\n",
    "soup = BeautifulSoup(html, 'lxml')"
   ]
  },
  {
   "cell_type": "code",
   "execution_count": 56,
   "metadata": {},
   "outputs": [
    {
     "data": {
      "text/plain": [
       "[<td class=\"blue02\" width=\"100\">学校类别</td>,\n",
       " <td class=\"EXT_xxlb\">初中;高中</td>,\n",
       " <td>上级主管部门</td>,\n",
       " <td class=\"EXT_sjzgbm\"></td>,\n",
       " <td class=\"blue02\">学校性质</td>,\n",
       " <td class=\"EXT_dwxz2\"></td>,\n",
       " <td>邮编</td>,\n",
       " <td class=\"EXT_ptcode\"></td>,\n",
       " <td class=\"blue02\">网址</td>,\n",
       " <td class=\"EXT_webside\"></td>,\n",
       " <td>所在区</td>,\n",
       " <td class=\"EXT_szq\"></td>,\n",
       " <td class=\"blue02\">详细地址 </td>,\n",
       " <td class=\"EXT_schadd\"></td>,\n",
       " <td>联系电话、监督电话</td>,\n",
       " <td class=\"EXT_schtel\"></td>,\n",
       " <td class=\"blue02\">学校介绍</td>,\n",
       " <td class=\"EXT_schdesc\" colspan=\"3\"></td>,\n",
       " <td class=\"blue02\">校长介绍</td>,\n",
       " <td class=\"EXT_xzdesc\" colspan=\"3\"></td>,\n",
       " <td class=\"blue02\">交通情况</td>,\n",
       " <td class=\"EXT_jtdesc\" colspan=\"3\"></td>]"
      ]
     },
     "execution_count": 56,
     "metadata": {},
     "output_type": "execute_result"
    }
   ],
   "source": [
    "soup.find_all(\"td\")"
   ]
  },
  {
   "cell_type": "code",
   "execution_count": 21,
   "metadata": {},
   "outputs": [
    {
     "data": {
      "text/plain": [
       "[]"
      ]
     },
     "execution_count": 21,
     "metadata": {},
     "output_type": "execute_result"
    }
   ],
   "source": [
    "defurl"
   ]
  }
 ],
 "metadata": {
  "kernelspec": {
   "display_name": "Python 3",
   "language": "python",
   "name": "python3"
  },
  "language_info": {
   "codemirror_mode": {
    "name": "ipython",
    "version": 3
   },
   "file_extension": ".py",
   "mimetype": "text/x-python",
   "name": "python",
   "nbconvert_exporter": "python",
   "pygments_lexer": "ipython3",
   "version": "3.6.12"
  }
 },
 "nbformat": 4,
 "nbformat_minor": 2
}
