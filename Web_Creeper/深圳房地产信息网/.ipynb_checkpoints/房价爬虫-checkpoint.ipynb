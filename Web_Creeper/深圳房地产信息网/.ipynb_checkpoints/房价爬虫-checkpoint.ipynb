{
 "cells": [
  {
   "cell_type": "code",
   "execution_count": 140,
   "id": "monthly-clothing",
   "metadata": {},
   "outputs": [],
   "source": [
    "import time\n",
    "import requests\n",
    "import pandas as pd\n",
    "from bs4 import BeautifulSoup\n",
    "from tqdm import tqdm\n",
    "import address_wgs1984 as ad"
   ]
  },
  {
   "cell_type": "code",
   "execution_count": 172,
   "id": "chinese-trail",
   "metadata": {},
   "outputs": [],
   "source": [
    "def house_information(url):\n",
    "    headers = {\"User-Agent\": \"Mozilla/5.0 (Windows NT 10.0; Win64; x64) AppleWebKit/537.36 (KHTML, like Gecko) Chrome/75.0.3770.80 Safari/537.36\"}\n",
    "    b = requests.get(url,headers=headers)\n",
    "    data = []\n",
    "    if b.status_code == 200:\n",
    "        html = b.text\n",
    "        soup = BeautifulSoup(html, 'lxml')\n",
    "    \n",
    "    community = soup.find_all(name='a',attrs={\"class\": \"blue-14\"})[0].text  # 社区名称\n",
    "    \n",
    "    try:\n",
    "        price1 = int(soup.find_all(name='strong')[0].text)\n",
    "        price2 = int(soup.find_all(name='strong')[1].text)\n",
    "    except:\n",
    "        price1 = \"无数据\"\n",
    "        price2 = \"无数据\"\n",
    "    \n",
    "    type1 = soup.find_all(name='li',attrs={\"class\": \"one\"})[0].find_all(name=\"strong\")[0].text   #几房\n",
    "    height = soup.find_all(name='li',attrs={\"class\": \"one\"})[0].find_all(name=\"p\")[0].text.split(\"/\")   #层数\n",
    "    area = soup.find_all(name='li',attrs={\"class\": \"two\"})[0].find_all(name=\"strong\")[0].text.replace(\"㎡\",\"\")  #面积\n",
    "    type2 = soup.find_all(name='li',attrs={\"class\": \"two\"})[0].find_all(name=\"p\")[0].text   #类型2\n",
    "    direction = soup.find_all(name='li',attrs={\"class\": \"three\"})[1].find_all(name=\"strong\")[0].text #方向\n",
    "    type3 = soup.find_all(name='li',attrs={\"class\": \"three\"})[1].find_all(name=\"p\")[0].text #类型3\n",
    "    \n",
    "    address = soup.find_all(name='div',attrs={\"class\": \"esf-info-box b-b-dc fix otherinfo f14\"})[0].find_all(\"p\")[1].text.replace(\"所在地址：\",\"\").replace(\" 查看地图\",\"\")\n",
    "    #location = ad.geo_address(address,\"深圳\")\n",
    "    \n",
    "    return {\"community\":community,\n",
    "        \"all_price(万元)\":price1,\n",
    "        \"gov_price(/㎡)\":price2,\n",
    "        \"area(㎡)\":area,\n",
    "        \"number\":type1,\n",
    "        \"fitment\":type3,\n",
    "        \"type\":type2,\n",
    "        \"floor\":height[0],\n",
    "        \"all_floor\":height[1],\n",
    "        \"direction\":direction,\n",
    "        \"address\":address}"
   ]
  },
  {
   "cell_type": "code",
   "execution_count": 176,
   "id": "interior-majority",
   "metadata": {},
   "outputs": [
    {
     "name": "stderr",
     "output_type": "stream",
     "text": [
      "100%|██████████| 94/94 [06:39<00:00,  4.25s/it]\n"
     ]
    }
   ],
   "source": [
    "page= 1\n",
    "data = []\n",
    "for i in tqdm(range(0,94)):\n",
    "    page += 1 \n",
    "    page_url = \"http://zf.szhome.com/Search.html?sor=1&aom=1&kwd=&xzq=0&pq=0&price=0&prif=0&prit=0&barea=0&baf=0&bat=0&hx=0&ord=0&dtyx=0&dtst=0&scat=0&sx=0&schid=0&page=\" + str(page)\n",
    "    headers = {\"User-Agent\": \"Mozilla/5.0 (Windows NT 10.0; Win64; x64) AppleWebKit/537.36 (KHTML, like Gecko) Chrome/75.0.3770.80 Safari/537.36\"}\n",
    "    b = requests.get(page_url,headers=headers)\n",
    "    if b.status_code == 200:\n",
    "        html = b.text\n",
    "        soup = BeautifulSoup(html, 'lxml')\n",
    "        url_database = soup.find_all(name='div',attrs={\"class\": \"lpinfo\"})\n",
    "        for i in url_database:\n",
    "            url = \"http://zf.szhome.com\" + i.find_all(\"a\")[0].attrs[\"href\"]\n",
    "            data.append(house_information(url))"
   ]
  },
  {
   "cell_type": "code",
   "execution_count": 177,
   "id": "important-former",
   "metadata": {},
   "outputs": [],
   "source": [
    "df = pd.DataFrame(columns=[\"community\",\"all_price(万元)\",\"gov_price(/㎡)\",\"area(㎡)\",\"number\",\"fitment\",\"type\",\"floor\",\"all_floor\",\"direction\",\n",
    "                           \"address\"])  #构建一个空表"
   ]
  },
  {
   "cell_type": "code",
   "execution_count": 178,
   "id": "different-glasgow",
   "metadata": {},
   "outputs": [],
   "source": [
    "df = df.append(data,ignore_index=True)\n",
    "df.to_excel(\"price_data.xlsx\") "
   ]
  },
  {
   "cell_type": "code",
   "execution_count": null,
   "id": "terminal-monitor",
   "metadata": {},
   "outputs": [],
   "source": []
  }
 ],
 "metadata": {
  "kernelspec": {
   "display_name": "Python 3",
   "language": "python",
   "name": "python3"
  },
  "language_info": {
   "codemirror_mode": {
    "name": "ipython",
    "version": 3
   },
   "file_extension": ".py",
   "mimetype": "text/x-python",
   "name": "python",
   "nbconvert_exporter": "python",
   "pygments_lexer": "ipython3",
   "version": "3.6.12"
  }
 },
 "nbformat": 4,
 "nbformat_minor": 5
}
