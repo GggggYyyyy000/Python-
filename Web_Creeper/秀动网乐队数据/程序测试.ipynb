{
 "metadata": {
  "language_info": {
   "codemirror_mode": {
    "name": "ipython",
    "version": 3
   },
   "file_extension": ".py",
   "mimetype": "text/x-python",
   "name": "python",
   "nbconvert_exporter": "python",
   "pygments_lexer": "ipython3",
   "version": "3.6.12"
  },
  "orig_nbformat": 2,
  "kernelspec": {
   "name": "python3612jvsc74a57bd0f234f018582adc48166ec7beb10b3eac8112e1a87d4a2fa230ef4038b2998224",
   "display_name": "Python 3.6.12 64-bit ('accessibility': conda)"
  }
 },
 "nbformat": 4,
 "nbformat_minor": 2,
 "cells": [
  {
   "cell_type": "code",
   "execution_count": 116,
   "metadata": {},
   "outputs": [],
   "source": [
    "import time\n",
    "import requests\n",
    "import pandas as pd\n",
    "from bs4 import BeautifulSoup\n",
    "from transCoordinateSystem import bd09_to_wgs84\n",
    "import re\n",
    "import address_wgs1984 as ad"
   ]
  },
  {
   "cell_type": "code",
   "execution_count": 121,
   "metadata": {},
   "outputs": [],
   "source": [
    "url = \"https://www.showstart.com/event/130246\""
   ]
  },
  {
   "cell_type": "code",
   "execution_count": 122,
   "metadata": {},
   "outputs": [],
   "source": [
    "def band_infor(link,headers):\n",
    "    band = requests.get(link,headers=headers)\n",
    "    if band.status_code == 200:\n",
    "        htmls = band.text\n",
    "        soups = BeautifulSoup(htmls,\"lxml\")\n",
    "        try:\n",
    "            name = soups.find_all(name='div',attrs={\"class\": \"name\"})[0].text\n",
    "        except:\n",
    "            name = \"未知姓名\"\n",
    "        try:\n",
    "            city = soups.find_all(name=\"div\",attrs={\"class\":\"p-text\"})[0].text.replace(\"地区：\",\"\").replace(\" \",\"\")\n",
    "        except:\n",
    "            city = \"未知城市\"\n",
    "        try:\n",
    "            style = soups.find_all(name=\"div\",attrs={\"class\":\"p-text\"})[1].text.replace(\" \",\"\").replace(\"风格：\",\"\")\n",
    "        except:\n",
    "            style = \"未知风格\"\n",
    "        infor = {\"乐队名称\":name,\"乐队城市\":city,\"乐队风格\":style}\n",
    "    return infor"
   ]
  },
  {
   "cell_type": "code",
   "execution_count": 123,
   "metadata": {},
   "outputs": [],
   "source": [
    "def web_analysis(url):\n",
    "    headers = {\"User-Agent\": \"Mozilla/5.0 (Windows NT 10.0; Win64; x64) AppleWebKit/537.36 (KHTML, like Gecko) Chrome/75.0.3770.80 Safari/537.36\"}\n",
    "    b = requests.get(url,headers=headers)\n",
    "    data = []\n",
    "    if b.status_code == 200:\n",
    "        html = b.text\n",
    "        soup = BeautifulSoup(html, 'lxml')\n",
    "        \n",
    "        #基础信息检索\n",
    "        all_data = soup.find_all(name='div',attrs={\"class\": \"describe\"})[0]\n",
    "        name = all_data.find_all(name=\"div\",attrs={\"class\":\"title\"})[0].text\n",
    "        time = all_data.find_all(name=\"p\")[0].text.replace(\"演出时间：\",\"\")\n",
    "        livehouse = all_data.find_all(name=\"p\")[2].text.replace(\"场地：\",\"\").replace(\" \",\"\")\n",
    "        types = all_data.find_all(name=\"div\",attrs={\"class\":\"label\"})[0].text\n",
    "        piece = re.findall(\"\\d+\",soup.find_all(name='div',attrs={\"class\": \"buy\"})[0].find_all(name='div',attrs={\"class\": \"price-tags\"})[0].find_all(name='button')[0].text)[0]\n",
    "        locat = all_data.find_all(name=\"p\")[3].text.replace(\"地址：\",\"\").replace(\" 查看地图\",\"\")\n",
    "        a = ad.geo_address(locat,locat.rsplit('市', 1)[0])\n",
    "        lng = round(a[0],6)\n",
    "        lat = round(a[1],6)\n",
    "        paizi = soup.find_all(name='div',attrs={\"class\": \"sponsor clearfix\"})[0].find_all(name='div',attrs={\"class\": \"bd\"})[0].text\n",
    "\n",
    "\n",
    "        information = {\"演出名称\":name,\"演出时间\":time,\"演出场所\":livehouse,\"lng\":lng,\"lat\":lat,\"演出类型\":types,\"价格\":int(piece),\"厂牌\":paizi,\"url\":url}\n",
    "\n",
    "        star = all_data.find_all(name=\"p\")[1].find_all(name=\"a\")\n",
    "        band = []\n",
    "        for i in star:\n",
    "            link = \"https://www.showstart.com\" + i.attrs[\"href\"]\n",
    "            a = band_infor(link,headers)\n",
    "            a.update(information)\n",
    "            band.append(a)\n",
    "        return band"
   ]
  },
  {
   "cell_type": "code",
   "execution_count": 124,
   "metadata": {},
   "outputs": [
    {
     "output_type": "execute_result",
     "data": {
      "text/plain": [
       "[{'乐队名称': '花墙FancyWall',\n",
       "  '乐队城市': '北京',\n",
       "  '乐队风格': '独立',\n",
       "  '演出名称': '独家【紫禁之巅MassiveDynamic】Teenage Simulator青少年模拟器——花墙FancyWall新年专场',\n",
       "  '演出时间': '05月08日 20:30-05月08日 22:00',\n",
       "  '演出场所': '北京糖果LIVE三层',\n",
       "  'lng': 116.409519,\n",
       "  'lat': 39.949273,\n",
       "  '演出类型': '独立',\n",
       "  '价格': 80,\n",
       "  '厂牌': '紫禁之巅Massive Dynamic',\n",
       "  'url': 'https://www.showstart.com/event/130246'}]"
      ]
     },
     "metadata": {},
     "execution_count": 124
    }
   ],
   "source": [
    "web_analysis(url)"
   ]
  },
  {
   "cell_type": "code",
   "execution_count": null,
   "metadata": {},
   "outputs": [],
   "source": [
    "try:\n",
    "    web_data = web_analysis(link)\n",
    "    for i in web_data:\n",
    "        data.append(i)\n",
    "except:\n",
    "    try:\n",
    "        time.sleep(5)\n",
    "        web_data = web_analysis(link)\n",
    "        for i in web_data:\n",
    "            data.append(i)\n",
    "    except:\n",
    "        try:\n",
    "            time.sleep(5)\n",
    "            web_data = web_analysis(link) \n",
    "            for i in web_data:\n",
    "                data.append(i)\n",
    "        except:\n",
    "            pass"
   ]
  }
 ]
}