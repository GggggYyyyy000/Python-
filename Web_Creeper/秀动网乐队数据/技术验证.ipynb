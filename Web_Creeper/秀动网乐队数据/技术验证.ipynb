{
 "metadata": {
  "language_info": {
   "codemirror_mode": {
    "name": "ipython",
    "version": 3
   },
   "file_extension": ".py",
   "mimetype": "text/x-python",
   "name": "python",
   "nbconvert_exporter": "python",
   "pygments_lexer": "ipython3",
   "version": "3.6.12-final"
  },
  "orig_nbformat": 2,
  "kernelspec": {
   "name": "python3",
   "display_name": "Python 3"
  }
 },
 "nbformat": 4,
 "nbformat_minor": 2,
 "cells": [
  {
   "cell_type": "code",
   "execution_count": 1,
   "metadata": {},
   "outputs": [],
   "source": [
    "import requests\n",
    "from bs4 import BeautifulSoup\n",
    "from transCoordinateSystem import bd09_to_wgs84"
   ]
  },
  {
   "cell_type": "code",
   "execution_count": 14,
   "metadata": {},
   "outputs": [],
   "source": [
    "url = \"https://www.showstart.com/event/66941\""
   ]
  },
  {
   "cell_type": "code",
   "execution_count": 15,
   "metadata": {},
   "outputs": [],
   "source": [
    "def band_infor(link):\n",
    "    band = requests.get(link,headers=headers)\n",
    "    if band.status_code == 200:\n",
    "        htmls = band.text\n",
    "        soups = BeautifulSoup(htmls,\"lxml\")\n",
    "        try:\n",
    "            name = soups.find_all(name='div',attrs={\"class\": \"name\"})[0].text\n",
    "        except:\n",
    "            name = \"未知姓名\"\n",
    "        try:\n",
    "            city = soups.find_all(name=\"ol\",attrs={\"class\":\"dec\"})[0].li.text.replace(\"地区：\",\"\").replace(\" \",\"\")\n",
    "        except:\n",
    "            city = \"未知城市\"\n",
    "        try:\n",
    "            style = soups.find_all(name=\"ol\",attrs={\"class\":\"dec\"})[0].find_all(name='li')[1].text.replace(\" \",\"\").replace(\"\\n\",\"\").replace(\"风格：\",\"\").replace(\"\\t\",\"\")\n",
    "        except:\n",
    "            style = \"未知风格\"\n",
    "        infor = {\"乐队名称\":name,\"乐队城市\":city,\"乐队风格\":style}\n",
    "    return infor"
   ]
  },
  {
   "cell_type": "code",
   "execution_count": 17,
   "metadata": {},
   "outputs": [
    {
     "output_type": "stream",
     "name": "stdout",
     "text": [
      "<!DOCTYPE html PUBLIC \"-//W3C//DTD XHTML 1.0 Transitional//EN\" \"http://www.w3.org/TR/xhtml1/DTD/xhtml1-transitional.dtd\">\n<html xmlns=\"http://www.w3.org/1999/xhtml\">\n<head>\n<meta content=\"text/html; charset=utf-8\" http-equiv=\"Content-Type\"/>\n<title>秀动网</title>\n<meta content=\"nQOFYzcoOF\" name=\"baidu-site-verification\"/>\n<meta content=\"22222613567341246375\" property=\"qc:admins\"/>\n<meta content=\"c71b572293e95390\" property=\"wb:webmaster\"/>\n<link href=\"https://s2.showstart.com/static/ssweb/images/favicon.ico\" rel=\"Shortcut Icon\" type=\"image/x-icon\"/>\n<!-- css -->\n<link href=\"https://s2.showstart.com/static/ssweb/css/dist/common.css?1605775436294\" rel=\"stylesheet\" type=\"text/css\"/>\n<!-- common js -->\n<script type=\"text/javascript\">\n\tvar _href = encodeURIComponent( window.location.href );\n\t_href = 'https://www.showstart.com/ajax/nsc/accesslog.json?ref=' + _href;\n\twindow.GLOBAL = {\n\t\tpageSession\t: '',\n\t\tFID:'',\n\t\tBID:'',\n\t\tisChoose:'',\n\t\tpageTrack: _href//追踪\n\t};\n\twindow.GLOBAL.version = '1605775436294';   // 版本号\n\n\tvar pub_url = 'https://s2.showstart.com/static/common/js/',//静态资源公共js目录\n\t\tsea_url = 'https://s2.showstart.com/static/ssweb/js/dist/';  // 静态资源当前js目录\n\t\t\n\tvar baseUrl = {\n\t\t\trootUrl : 'https://www.showstart.com',\n\t\t\timageUrl : 'https://s2.showstart.com'\n\t\t};\n\t//百度画像\n\t\tvar _dxt = _dxt || [];\n\t_dxt.push([\"_setUserId\", \"2020112403b2aa6c52f40444214196d477f5a461\"]);\n\t(function() {        var hm = document.createElement(\"script\");\n\t    hm.src = \"//datax.baidu.com/x.js?si=&dm=www.showstart.com\";\n\t    var s = document.getElementsByTagName(\"script\")[0];\n\t    s.parentNode.insertBefore(hm, s);\n\t})();\t\n\t\t\n\t\t\n</script>\n<script src=\"https://s2.showstart.com/static/common/js/base/sea.js?1605775436294\" type=\"text/javascript\"></script>\n<script src=\"https://s2.showstart.com/static/common/js/base/jquery-1.8.2.min.js?1605775436294\" type=\"text/javascript\"></script>\n<script src=\"https://s2.showstart.com/static/ssweb/js/dist/common/config.js?1605775436294\" type=\"text/javascript\"></script>\n<link href=\"https://s2.showstart.com/static/ssweb/css/dist/error.css\" rel=\"stylesheet\" type=\"text/css\"/>\n</head>\n<body>\n<!-- header -->\n<div style=\"width:0;height:0;overflow:hidden\"><img alt=\"秀动-showstart\" src=\"https://s2.showstart.com/static/ssweb/images/shareLogo.png\"/></div>\n<div class=\"header\">\n<div class=\"auto-width clearfix\">\n<a class=\"logo ll\" href=\"https://www.showstart.com\" title=\"秀动-showstart\">\n<img alt=\"秀动-showstart\" src=\"https://s2.showstart.com/static/ssweb/images/logo.png?1605775436294\" title=\"秀动-showstart\"/>\n</a>\n<div class=\"city-wrap ll\">\n<div class=\"ctiy-title\">\n\t\t\t\t\t\t\t全国站\n\t\t\t\t\t\t</div>\n<div class=\"city-select\">\n<span class=\"city-dropdown\"><i></i>城市切换</span>\n<div class=\"city-list\">\n<a href=\"https://www.showstart.com?cityId=0\">全国</a>\n</div>\n</div>\n</div>\n<div class=\"top-menu ll\">\n<!-- <a  href=\"https://www.showstart.com/raise/list\">众筹</a> -->\n<a href=\"https://www.showstart.com/event/list\">演出探索<i></i></a>\n<a href=\"https://fb.showstart.com\" target=\"_blank\">演出发布</a>\n<a href=\"https://www.showstart.com/musicplan\">音乐人服务</a>\n<a href=\"https://www.showstart.com/apps\">秀动APP</a>\n<!--  <a href=\"https://www.showstart.com/live\">直播</a>-->\n<!-- <a href=\"https://www.showstart.com/vipmusic\">VIP音乐服务</a> \n\t\t\t<a href=\"https://www.showstart.com/nearmusic\">音乐周边</a>-->\n</div>\n<div class=\"rr\">\n<div class=\"search-box ll\">\n<form action=\"https://www.showstart.com/event/list\" id=\"j-search\" method=\"get\">\n<div class=\"searchIcon\"></div>\n<input autocomplete=\"off\" id=\"keywords\" name=\"keyword\" placeholder=\"搜索演出\" type=\"text\"/>\n<!--<button type=\"submit\" class=\"searchBar\"/></button>-->\n</form>\n</div>\n<ul class=\"header-tool rr\">\n<li>\n<img src=\"https://s2.showstart.com/static/ssweb/images/default-photo.png?1605775436294\"/>\n<a href=\"javascript:void(0);\" id=\"header-login\">登录</a>\n</li>\n</ul>\n</div>\n</div>\n</div>\n<!-- header end -->\n<div class=\"main\">\n<div class=\"auto-width msg-wrap\">\n<p class=\"msg-title\">服务器被意外带走，不能执行您的请求...</p>\n<img original=\"https://s2.showstart.com/static/ssweb/images/500.png\" src=\"https://s2.showstart.com/static/ssweb/images/blank.gif\"/>\n</div>\n</div>\n<script type=\"text/javascript\">\n\tseajs.use([ 'https://s2.showstart.com/static/ssweb/js/dist/common/common'] );\n</script>\n<!-- footer -->\n<div class=\"footer\">\n<div class=\"footer-top\">\n<div class=\"auto-width clearfix\">\n<div class=\"footer-left\">\n<dl>\n<dt>平台产品</dt>\n<dd><a href=\"https://fb.showstart.com/\" target=\"_blank\">经营后台</a></dd>\n<dd><a href=\"https://www.showstart.com/apps\" target=\"_blank\">秀动APP</a></dd>\n<dd><a href=\"https://www.showstart.com/apppro\" target=\"_blank\">专业版APP</a></dd>\n<dd><a href=\"https://www.showstart.com/showfun\" target=\"_blank\">SHOWFUN</a></dd>\n</dl>\n<dl>\n<dt>关于秀动</dt>\n<dd><a href=\"https://www.showstart.com/helpCenter#tab-about\" target=\"_blank\">平台介绍</a></dd>\n<dd><a href=\"https://www.showstart.com/helpCenter#tab-aptitude\" target=\"_blank\">资质许可</a></dd>\n<dd><a href=\"https://www.showstart.com/helpCenter#tab-falv\" target=\"_blank\">服务条款</a></dd>\n<dd><a href=\"https://www.showstart.com/helpCenter#tab-privacy\" target=\"_blank\">隐私政策</a></dd>\n</dl>\n<dl>\n<dt>友情链接</dt>\n<dd><a href=\"https://y.qq.com/portal/piao_wu.html\" target=\"_blank\">QQ演出</a></dd>\n<dd><a href=\"https://music.163.com/show/m/portal?source=concert_detail\" target=\"_blank\">云村有票</a></dd>\n<dd><a href=\"http://www.gewara.com/\" target=\"_blank\">猫眼演出</a></dd>\n<dd><a href=\"http://www.wenkor.com/\" target=\"_blank\">文客</a></dd>\n</dl>\n</div>\n<div class=\"footer-right\">\n<div class=\"footer-tel\">400-188-6980</div>\n<div class=\"footer-hotline\">客服热线：周一至周五 10:00~20:30</div>\n<span class=\"footer-code\">\n<img class=\"img\" src=\"https://s2.showstart.com/static/ssweb/images/footer/footer-weixin.png?1605775436294\"/>\n<span class=\"line\"></span>微信客服\n    \t\t\t\t<div class=\"footer-code-pop\"><i class=\"footer-code-arrow\"></i><img src=\"https://s2.showstart.com/static/ssweb/images/footer/wxcode.png?1605775436294\"/></div>\n</span>\n<span class=\"footer-code\"><img class=\"img\" src=\"https://s2.showstart.com/static/ssweb/images/footer/APPicon.png?1605775436294\"/><span class=\"line\"></span>秀动APP\n    \t\t\t<div class=\"footer-code-pop\"><i class=\"footer-code-arrow\"></i><img src=\"https://s2.showstart.com/static/ssweb/images/footer/showcode.png?1605775436294\"/></div>\n</span>\n</div>\n</div>\n</div>\n<div class=\"footer-bottom\">\n<div class=\"auto-width clearfix\">\n<img class=\"noborder\" src=\"https://s2.showstart.com/static/ssweb/images/footer/showstart-logo.png?1605775436294\"/>\n<p>\n<a href=\"http://about.taihe.com/\" target=\"_blank\">太合音乐集团</a> ©<span id=\"footerYear\"></span>成都太合乐动科技有限公司 版权所有 蜀ICP备14016442号-4 蜀公安备 51019002002123号<br/>网络文化经营许可证编号：<a href=\"https://www.showstart.com/helpCenter#tab-aptitude\" target=\"_blank\">川网文【2017】3304-127号</a></p>\n<div><a href=\"https://www.showstart.com/helpCenter#tab-aptitude\" target=\"_blank\">营业性演出许可证：510000120277</a> | <a href=\"https://www.showstart.com/helpCenter#tab-aptitude\" target=\"_blank\">增值电信营业许可证：川B2-20180527</a> | <a href=\"https://www.showstart.com/helpCenter#tab-aptitude\" target=\"_blank\">增值电信业务许可证：川B2-20180610</a> | <a href=\"https://www.showstart.com/helpCenter#tab-aptitude\" target=\"_blank\">出版物经营许可证：成新出发高新字第004号</a> | <a href=\"http://jbts.mct.gov.cn/\" target=\"_blank\">12318全国文化市场举报平台</a></div>\n<div class=\"footer-share\">\n<a href=\"https://weibo.com/thshowstart\" target=\"_blank\"><img src=\"https://s2.showstart.com/static/ssweb/images/footer/bottom_weibo_normal.png?1605775436294\"/></a>\n<a href=\"https://twitter.com/startoffical/\" target=\"_blank\"><img src=\"https://s2.showstart.com/static/ssweb/images/footer/bottom_ttww_nomal.png?1605775436294\"/></a>\n<a href=\"https://www.facebook.com/showstartbooking/\" target=\"_blank\"><img src=\"https://s2.showstart.com/static/ssweb/images/footer/bottom_Facebook_normal.png?1605775436294\"/></a>\n<a href=\"https://www.instagram.com/showstartofficial/\" target=\"_blank\"><img src=\"https://s2.showstart.com/static/ssweb/images/footer/bottom_ins_normal.png?1605775436294\"/></a>\n</div>\n</div>\n</div>\n</div>\n<!-- footer end-->\n<!--登录-->\n<a href=\"#j-login-pop\" id=\"j-login\"></a>\n<div id=\"j-login-pop\">\n<div class=\"j-login-wrap\">\n<input id=\"loginpoptoken\" name=\"token\" type=\"hidden\" value=\"\"/>\n<form action=\"https://www.showstart.com/user/login\" autocomplete=\"off\" class=\"j-login-form\" method=\"post\">\n<input name=\"areaCode\" type=\"hidden\" value=\"86_CN\"/>\n<img class=\"loginLogo\" src=\"https://s2.showstart.com/static/ssweb/images/footer/icon60.png?1605775436294\"/>\n<div class=\"iptMain\">\n<input autocomplete=\"off\" class=\"iptText\" id=\"phone\" maxlength=\"11\" name=\"phone\" placeholder=\"手机号\" required=\"true\" type=\"text\"/>\n</div>\n<div class=\"iptMain\">\n<input autocomplete=\"off\" class=\"iptText\" id=\"verifyCode\" maxlength=\"6\" name=\"verifyCode\" placeholder=\"短信验证码\" required=\"true\" type=\"text\"/>\n<div class=\"logincodeBtn\" id=\"TencentCaptcha\">获取验证码</div>\n</div>\n<div class=\"iptMain\">\n<button class=\"loginredBtn\" id=\"j-login-btn\" type=\"submit\">登 录</button>\n</div>\n<div class=\"iptMain6\">\n<a class=\"color666\" href=\"javascript:;\" id=\"yuemiRegis\">乐迷注册</a>\n<a class=\"color666 rr\" href=\"https://fb.showstart.com/\" target=\"_blank\">合作伙伴入驻</a>\n</div>\n</form>\n<div class=\"registerCode\" style=\"display:none\">\n<img class=\"bigloginLogo\" src=\"https://s2.showstart.com/static/ssweb/images/footer/registercode.png?1605775436294\"/>\n<div class=\"registerText\">乐迷请使用秀动APP进行注册</div>\n<div class=\"registerOtherlink\">\n<a class=\"color666\" href=\"javascript:;\" id=\"yuemiLogin\">乐迷登录</a>\n<a class=\"color666 rr\" href=\"https://fb.showstart.com/\" target=\"_blank\">合作伙伴入驻</a>\n</div>\n</div>\n</div>\n</div>\n<!--登录 end -->\n<script src=\"https://ssl.captcha.qq.com/TCaptcha.js\"></script>\n<script>\nvar _hmt = _hmt || [];\n(function() {\n  var hm = document.createElement(\"script\");\n  hm.src = \"//hm.baidu.com/hm.js?e933463d7932d37c1a10f3699c02715a\";\n  var s = document.getElementsByTagName(\"script\")[0]; \n  s.parentNode.insertBefore(hm, s);\n})();\n</script>\n<!-- footer end-->\n</body>\n</html>\n"
     ]
    },
    {
     "output_type": "error",
     "ename": "IndexError",
     "evalue": "list index out of range",
     "traceback": [
      "\u001b[0;31m---------------------------------------------------------------------------\u001b[0m",
      "\u001b[0;31mIndexError\u001b[0m                                Traceback (most recent call last)",
      "\u001b[0;32m<ipython-input-17-18c5ba879749>\u001b[0m in \u001b[0;36m<module>\u001b[0;34m()\u001b[0m\n\u001b[1;32m      7\u001b[0m     \u001b[0mprint\u001b[0m\u001b[0;34m(\u001b[0m\u001b[0msoup\u001b[0m\u001b[0;34m)\u001b[0m\u001b[0;34m\u001b[0m\u001b[0;34m\u001b[0m\u001b[0m\n\u001b[1;32m      8\u001b[0m \u001b[0;34m\u001b[0m\u001b[0m\n\u001b[0;32m----> 9\u001b[0;31m     \u001b[0mname\u001b[0m \u001b[0;34m=\u001b[0m \u001b[0msoup\u001b[0m\u001b[0;34m.\u001b[0m\u001b[0mfind_all\u001b[0m\u001b[0;34m(\u001b[0m\u001b[0mname\u001b[0m\u001b[0;34m=\u001b[0m\u001b[0;34m'h1'\u001b[0m\u001b[0;34m,\u001b[0m\u001b[0mattrs\u001b[0m\u001b[0;34m=\u001b[0m\u001b[0;34m{\u001b[0m\u001b[0;34m\"class\"\u001b[0m\u001b[0;34m:\u001b[0m \u001b[0;34m\"goods-name\"\u001b[0m\u001b[0;34m}\u001b[0m\u001b[0;34m)\u001b[0m\u001b[0;34m[\u001b[0m\u001b[0;36m0\u001b[0m\u001b[0;34m]\u001b[0m\u001b[0;34m.\u001b[0m\u001b[0mtext\u001b[0m\u001b[0;34m\u001b[0m\u001b[0;34m\u001b[0m\u001b[0m\n\u001b[0m\u001b[1;32m     10\u001b[0m     \u001b[0mname\u001b[0m \u001b[0;34m=\u001b[0m \u001b[0mname\u001b[0m\u001b[0;34m.\u001b[0m\u001b[0mreplace\u001b[0m\u001b[0;34m(\u001b[0m\u001b[0;34m\"\\n\"\u001b[0m\u001b[0;34m,\u001b[0m\u001b[0;34m\"\"\u001b[0m\u001b[0;34m)\u001b[0m\u001b[0;34m.\u001b[0m\u001b[0mreplace\u001b[0m\u001b[0;34m(\u001b[0m\u001b[0;34m\"\\t\"\u001b[0m\u001b[0;34m,\u001b[0m\u001b[0;34m\"\"\u001b[0m\u001b[0;34m)\u001b[0m\u001b[0;34m.\u001b[0m\u001b[0mreplace\u001b[0m\u001b[0;34m(\u001b[0m\u001b[0;34m\" \"\u001b[0m\u001b[0;34m,\u001b[0m\u001b[0;34m\"\"\u001b[0m\u001b[0;34m)\u001b[0m\u001b[0;34m\u001b[0m\u001b[0;34m\u001b[0m\u001b[0m\n\u001b[1;32m     11\u001b[0m     \u001b[0mall_data\u001b[0m \u001b[0;34m=\u001b[0m \u001b[0msoup\u001b[0m\u001b[0;34m.\u001b[0m\u001b[0mfind_all\u001b[0m\u001b[0;34m(\u001b[0m\u001b[0mname\u001b[0m\u001b[0;34m=\u001b[0m\u001b[0;34m'ul'\u001b[0m\u001b[0;34m,\u001b[0m\u001b[0mattrs\u001b[0m\u001b[0;34m=\u001b[0m\u001b[0;34m{\u001b[0m\u001b[0;34m\"class\"\u001b[0m\u001b[0;34m:\u001b[0m \u001b[0;34m\"items-list\"\u001b[0m\u001b[0;34m}\u001b[0m\u001b[0;34m)\u001b[0m\u001b[0;34m[\u001b[0m\u001b[0;36m0\u001b[0m\u001b[0;34m]\u001b[0m\u001b[0;34m.\u001b[0m\u001b[0mfind_all\u001b[0m\u001b[0;34m(\u001b[0m\u001b[0mname\u001b[0m\u001b[0;34m=\u001b[0m\u001b[0;34m'li'\u001b[0m\u001b[0;34m)\u001b[0m\u001b[0;34m\u001b[0m\u001b[0;34m\u001b[0m\u001b[0m\n",
      "\u001b[0;31mIndexError\u001b[0m: list index out of range"
     ]
    }
   ],
   "source": [
    "headers = {\"User-Agent\": \"Mozilla/5.0 (Windows NT 10.0; Win64; x64) AppleWebKit/537.36 (KHTML, like Gecko) Chrome/75.0.3770.80 Safari/537.36\"}\n",
    "b = requests.get(url,headers=headers)\n",
    "data = []\n",
    "if b.status_code == 200:\n",
    "    html = b.text\n",
    "    soup = BeautifulSoup(html, 'lxml')\n",
    "    print(soup)\n",
    "    \n",
    "    name = soup.find_all(name='h1',attrs={\"class\": \"goods-name\"})[0].text\n",
    "    name = name.replace(\"\\n\",\"\").replace(\"\\t\",\"\").replace(\" \",\"\")\n",
    "    all_data = soup.find_all(name='ul',attrs={\"class\": \"items-list\"})[0].find_all(name='li')\n",
    "    time = all_data[0].text.replace(\"\\n\",\"\").replace(\"\\t\",\"\").replace(\" \",\"\").replace(\"演出时间：\",\"\")\n",
    "    livehouse = all_data[2].text.replace(\"\\n\",\"\").replace(\"\\t\",\"\").replace(\" \",\"\").replace(\"场地：\",\"\")\n",
    "    locat = all_data[3].a[\"locate\"].split(\",\")\n",
    "    coord_wgs84 = bd09_to_wgs84(float(locat[0]), float(locat[1]))\n",
    "    lng = coord_wgs84[0]\n",
    "    lat = coord_wgs84[1]\n",
    "    types = soup.find_all(name='div',attrs={\"class\": \"goods-type\"})[0].text\n",
    "    piece = soup.find_all(name='ul',attrs={\"class\": \"ticket MT30\"})[0].find_all(name='li')[0].attrs[\"sellingprice\"]\n",
    "    paizi = soup.find_all(name='div',attrs={\"class\": \"activity-hoster ll\"})\n",
    "    if str(paizi) != \"[]\":\n",
    "        paizi = paizi[0].text.replace(\"\\n\",\"\").replace(\"\\t\",\"\").replace(\" \",\"\").replace(\"演出主办方\",\"\")\n",
    "    information = {\"演出名称\":name,\"演出时间\":time,\"演出场所\":livehouse,\"lng\":lng,\"lat\":lat,\"演出类型\":types,\"价格\":piece,\"厂牌\":paizi}\n",
    "    \n",
    "    star = all_data[1].find_all(name='a')\n",
    "    band = []\n",
    "    for i in star:\n",
    "        link = i.attrs[\"href\"]\n",
    "        a = band_infor(link)\n",
    "        a.update(information)\n",
    "        band.append(a)\n",
    "\n",
    "    "
   ]
  },
  {
   "cell_type": "code",
   "execution_count": null,
   "metadata": {},
   "outputs": [],
   "source": []
  },
  {
   "cell_type": "code",
   "execution_count": 13,
   "metadata": {},
   "outputs": [
    {
     "output_type": "execute_result",
     "data": {
      "text/plain": [
       "[{'乐队名称': 'humbert humbert ',\n",
       "  '乐队城市': '海外',\n",
       "  '乐队风格': '民谣',\n",
       "  '演出名称': 'HumbertHumbert“FOLKISMYLIFE”',\n",
       "  '演出时间': '12月15日19:00-20:30',\n",
       "  '演出场所': '上海万代南梦宫上海文化中心1F梦想剧场',\n",
       "  'lng': 121.43527915823648,\n",
       "  'lat': 31.250740151357714,\n",
       "  '演出类型': '\\n民谣\\n',\n",
       "  '价格': '280',\n",
       "  '厂牌': 'CHARISMATANUKIPRODUCTIONS'}]"
      ]
     },
     "metadata": {},
     "execution_count": 13
    }
   ],
   "source": [
    "band"
   ]
  },
  {
   "cell_type": "code",
   "execution_count": null,
   "metadata": {},
   "outputs": [],
   "source": []
  },
  {
   "cell_type": "code",
   "execution_count": 125,
   "metadata": {},
   "outputs": [
    {
     "output_type": "execute_result",
     "data": {
      "text/plain": [
       "[{'name': '暴走蜗牛 ',\n",
       "  'city': '上海',\n",
       "  'style': '摇滚',\n",
       "  '演出名称': '【MAO元旦企划】OneNightStand@MAO'},\n",
       " {'name': 'Limousine ',\n",
       "  'city': '上海',\n",
       "  'style': '摇滚',\n",
       "  '演出名称': '【MAO元旦企划】OneNightStand@MAO'},\n",
       " {'name': 'DaHaHa ',\n",
       "  'city': '北京',\n",
       "  'style': '摇滚',\n",
       "  '演出名称': '【MAO元旦企划】OneNightStand@MAO'}]"
      ]
     },
     "metadata": {},
     "execution_count": 125
    }
   ],
   "source": [
    "band"
   ]
  },
  {
   "cell_type": "code",
   "execution_count": 20,
   "metadata": {},
   "outputs": [
    {
     "output_type": "stream",
     "name": "stdout",
     "text": [
      "sjds\n"
     ]
    }
   ],
   "source": [
    "number = 200\n",
    "if number/100 % 1 == 0:\n",
    "    print(\"sjds\")"
   ]
  },
  {
   "cell_type": "code",
   "execution_count": null,
   "metadata": {},
   "outputs": [],
   "source": []
  }
 ]
}