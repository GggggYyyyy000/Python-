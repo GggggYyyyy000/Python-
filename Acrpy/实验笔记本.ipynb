{
 "metadata": {
  "language_info": {
   "codemirror_mode": {
    "name": "ipython",
    "version": 3
   },
   "file_extension": ".py",
   "mimetype": "text/x-python",
   "name": "python",
   "nbconvert_exporter": "python",
   "pygments_lexer": "ipython3",
   "version": "3.7.6-final"
  },
  "orig_nbformat": 2,
  "kernelspec": {
   "name": "Python 3.7.6 64-bit ('base': conda)",
   "display_name": "Python 3.7.6 64-bit ('base': conda)",
   "metadata": {
    "interpreter": {
     "hash": "b3ba2566441a7c06988d0923437866b63cedc61552a5af99d1f4fb67d367b25f"
    }
   }
  }
 },
 "nbformat": 4,
 "nbformat_minor": 2,
 "cells": [
  {
   "source": [
    "# 关于旅游景区相似度的计算，计算i镇的i类设施与镇区i类设施的合\n",
    "## 代码区："
   ],
   "cell_type": "markdown",
   "metadata": {}
  },
  {
   "cell_type": "code",
   "execution_count": 48,
   "metadata": {},
   "outputs": [],
   "source": [
    "def count(type3,j):\n",
    "    type3 = str(type3)\n",
    "    j = float(j)\n",
    "    fj = 1.16602\n",
    "    gy = 1.897096\n",
    "    jz = 1.262605\n",
    "    shang = 0.051739\n",
    "    miao = 1.241736\n",
    "    yl = 2.276515\n",
    "    if type3 == \"风景名胜\" or type3 == \"公园\" or type3 == \"山\" or type3 == \"寺庙道观\" or type3 == \"游乐场\":\n",
    "        if type3 == \"风景名胜\":\n",
    "            count = j * fj\n",
    "        if type3 == \"公园\":\n",
    "            count = j * gy\n",
    "        if type3 == \"古建筑\":\n",
    "            count = j * jz\n",
    "        if type3 == \"山\":\n",
    "            count = j * shang\n",
    "        if type3 == \"寺庙道观\":\n",
    "            count = j * miao\n",
    "        if type3 == \"游乐场\":\n",
    "            count = j * yl\n",
    "    else:\n",
    "        count = j * 0\n",
    "    return count"
   ]
  },
  {
   "cell_type": "code",
   "execution_count": 49,
   "metadata": {},
   "outputs": [],
   "source": [
    "a = count(type3 = \"公园\",j = 1.75731)"
   ]
  },
  {
   "cell_type": "code",
   "execution_count": 50,
   "metadata": {},
   "outputs": [
    {
     "output_type": "execute_result",
     "data": {
      "text/plain": [
       "3.3337857717599997"
      ]
     },
     "metadata": {},
     "execution_count": 50
    }
   ],
   "source": [
    "a"
   ]
  },
  {
   "cell_type": "code",
   "execution_count": null,
   "metadata": {},
   "outputs": [],
   "source": []
  }
 ]
}