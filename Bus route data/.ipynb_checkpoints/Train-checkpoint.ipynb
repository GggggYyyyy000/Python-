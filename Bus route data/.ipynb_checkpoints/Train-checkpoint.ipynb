{
 "cells": [
  {
   "cell_type": "code",
   "execution_count": 1,
   "id": "incorporate-corpus",
   "metadata": {},
   "outputs": [],
   "source": [
    "import geopandas as gpd\n",
    "import pandas as pd"
   ]
  },
  {
   "cell_type": "code",
   "execution_count": 2,
   "id": "dense-cooperation",
   "metadata": {},
   "outputs": [],
   "source": [
    "data = gpd.read_file(\"/Users/creative/Nutstore Files/PKU_DATA/【保留】数据共享/基础数据（接收）/轨道交通网/MetroLine_2015.shp\")"
   ]
  },
  {
   "cell_type": "code",
   "execution_count": 24,
   "id": "mechanical-teacher",
   "metadata": {},
   "outputs": [
    {
     "data": {
      "text/plain": [
       "['地铁2号线(内环(积水',\n",
       " '机场线(东直门-东直',\n",
       " '地铁10号线(内环(车',\n",
       " '地铁5号线(宋家庄-天',\n",
       " '地铁7号线(北京西站-',\n",
       " '地铁15号线(俸伯-清',\n",
       " '地铁9号线(郭公庄-国',\n",
       " '地铁1号线(苹果园-四',\n",
       " '房山线(郭公庄-苏庄)',\n",
       " '八通线(四惠-土桥)',\n",
       " '地铁14号线(张郭庄-',\n",
       " '地铁4号线大兴线(安',\n",
       " '地铁8号线(朱辛庄-南',\n",
       " '亦庄线(宋家庄-次渠)',\n",
       " '地铁13号线(东直门-',\n",
       " '地铁6号线(海淀五路',\n",
       " '地铁昌平线(西二旗-',\n",
       " '地铁14号线(北京南站']"
      ]
     },
     "execution_count": 24,
     "metadata": {},
     "output_type": "execute_result"
    }
   ],
   "source": [
    "data[\"Name\"].unique().tolist()"
   ]
  },
  {
   "cell_type": "code",
   "execution_count": 9,
   "id": "endangered-banner",
   "metadata": {},
   "outputs": [],
   "source": [
    "datas = []\n",
    "for i in data[\"Name\"].unique().tolist():\n",
    "    datas.append({\"city\":\"北京\",\"name\":i})"
   ]
  },
  {
   "cell_type": "code",
   "execution_count": 32,
   "id": "immune-poison",
   "metadata": {},
   "outputs": [],
   "source": [
    "df = pd.read_csv(\"/Users/creative/Documents/python/Bus route data/data/直辖市/csv/北京公交站点.csv\")"
   ]
  },
  {
   "cell_type": "code",
   "execution_count": 33,
   "id": "olive-channels",
   "metadata": {},
   "outputs": [],
   "source": [
    "df2 = df.groupby(\"正反线路\").get_group(1)"
   ]
  },
  {
   "cell_type": "code",
   "execution_count": 36,
   "id": "homeless-northwest",
   "metadata": {},
   "outputs": [
    {
     "data": {
      "text/plain": [
       "array(['地铁2号线内环(积水潭--积水潭)', '首都机场线(北新桥--东直门)', '地铁10号线内环(巴沟--巴沟)',\n",
       "       '地铁5号线(天通苑北--宋家庄)', '地铁7号线(环球度假区--北京西站)', '地铁15号线(俸伯--清华东路西口)',\n",
       "       '地铁9号线(国家图书馆--郭公庄)', '地铁1号线(四惠东--古城)', '地铁房山线(阎村东--东管头南)',\n",
       "       '地铁八通线(环球度假区--四惠)', '地铁14号线西段(张郭庄--西局)', '地铁4号线大兴线(天宫院--安河桥北)',\n",
       "       '地铁8号线南段(珠市口--瀛海)', '地铁亦庄线(宋家庄--亦庄火车站)', '地铁13号线(西直门--东直门)',\n",
       "       '地铁6号线(金安桥--潞城)', '地铁昌平线(西二旗--昌平西山口)', '地铁14号线东段(北京南站--善各庄)'],\n",
       "      dtype=object)"
      ]
     },
     "execution_count": 36,
     "metadata": {},
     "output_type": "execute_result"
    }
   ],
   "source": [
    "df2[\"name\"].unique()"
   ]
  },
  {
   "cell_type": "code",
   "execution_count": 45,
   "id": "hired-portland",
   "metadata": {},
   "outputs": [],
   "source": [
    "df2.to_excel(\"subway_beijing.xlsx\")"
   ]
  },
  {
   "cell_type": "code",
   "execution_count": 46,
   "id": "departmental-cinema",
   "metadata": {},
   "outputs": [],
   "source": [
    "df3 = pd.read_excel(\"/Users/creative/Desktop/subway_beijing.xlsx\")"
   ]
  },
  {
   "cell_type": "code",
   "execution_count": 47,
   "id": "olympic-pocket",
   "metadata": {},
   "outputs": [],
   "source": [
    "group = df3.groupby(\"name\")\n",
    "names = df3[\"name\"].unique().tolist()"
   ]
  },
  {
   "cell_type": "code",
   "execution_count": 48,
   "id": "developed-finish",
   "metadata": {},
   "outputs": [
    {
     "data": {
      "text/html": [
       "<div>\n",
       "<style scoped>\n",
       "    .dataframe tbody tr th:only-of-type {\n",
       "        vertical-align: middle;\n",
       "    }\n",
       "\n",
       "    .dataframe tbody tr th {\n",
       "        vertical-align: top;\n",
       "    }\n",
       "\n",
       "    .dataframe thead th {\n",
       "        text-align: right;\n",
       "    }\n",
       "</style>\n",
       "<table border=\"1\" class=\"dataframe\">\n",
       "  <thead>\n",
       "    <tr style=\"text-align: right;\">\n",
       "      <th></th>\n",
       "      <th>城市</th>\n",
       "      <th>站点名称</th>\n",
       "      <th>lng</th>\n",
       "      <th>lat</th>\n",
       "      <th>id</th>\n",
       "      <th>name</th>\n",
       "      <th>正反线路</th>\n",
       "      <th>name2</th>\n",
       "      <th>id2</th>\n",
       "    </tr>\n",
       "  </thead>\n",
       "  <tbody>\n",
       "    <tr>\n",
       "      <th>0</th>\n",
       "      <td>北京</td>\n",
       "      <td>积水潭</td>\n",
       "      <td>116.366897</td>\n",
       "      <td>39.947265</td>\n",
       "      <td>BV10013430</td>\n",
       "      <td>地铁2号线内环(积水潭--积水潭)</td>\n",
       "      <td>1</td>\n",
       "      <td>积水潭</td>\n",
       "      <td>102512</td>\n",
       "    </tr>\n",
       "    <tr>\n",
       "      <th>1</th>\n",
       "      <td>北京</td>\n",
       "      <td>鼓楼大街</td>\n",
       "      <td>116.387528</td>\n",
       "      <td>39.947568</td>\n",
       "      <td>BV10013431</td>\n",
       "      <td>地铁2号线内环(积水潭--积水潭)</td>\n",
       "      <td>1</td>\n",
       "      <td>鼓楼大街</td>\n",
       "      <td>102473</td>\n",
       "    </tr>\n",
       "    <tr>\n",
       "      <th>2</th>\n",
       "      <td>北京</td>\n",
       "      <td>安定门</td>\n",
       "      <td>116.401992</td>\n",
       "      <td>39.947775</td>\n",
       "      <td>BV10001936</td>\n",
       "      <td>地铁2号线内环(积水潭--积水潭)</td>\n",
       "      <td>1</td>\n",
       "      <td>安定门</td>\n",
       "      <td>102371</td>\n",
       "    </tr>\n",
       "    <tr>\n",
       "      <th>3</th>\n",
       "      <td>北京</td>\n",
       "      <td>雍和宫</td>\n",
       "      <td>116.410827</td>\n",
       "      <td>39.947935</td>\n",
       "      <td>BV10006563</td>\n",
       "      <td>地铁2号线内环(积水潭--积水潭)</td>\n",
       "      <td>1</td>\n",
       "      <td>雍和宫</td>\n",
       "      <td>102666</td>\n",
       "    </tr>\n",
       "    <tr>\n",
       "      <th>4</th>\n",
       "      <td>北京</td>\n",
       "      <td>东直门</td>\n",
       "      <td>116.427333</td>\n",
       "      <td>39.939704</td>\n",
       "      <td>BV10002731</td>\n",
       "      <td>地铁2号线内环(积水潭--积水潭)</td>\n",
       "      <td>1</td>\n",
       "      <td>东直门</td>\n",
       "      <td>102450</td>\n",
       "    </tr>\n",
       "  </tbody>\n",
       "</table>\n",
       "</div>"
      ],
      "text/plain": [
       "   城市  站点名称         lng        lat          id               name  正反线路 name2  \\\n",
       "0  北京   积水潭  116.366897  39.947265  BV10013430  地铁2号线内环(积水潭--积水潭)     1   积水潭   \n",
       "1  北京  鼓楼大街  116.387528  39.947568  BV10013431  地铁2号线内环(积水潭--积水潭)     1  鼓楼大街   \n",
       "2  北京   安定门  116.401992  39.947775  BV10001936  地铁2号线内环(积水潭--积水潭)     1   安定门   \n",
       "3  北京   雍和宫  116.410827  39.947935  BV10006563  地铁2号线内环(积水潭--积水潭)     1   雍和宫   \n",
       "4  北京   东直门  116.427333  39.939704  BV10002731  地铁2号线内环(积水潭--积水潭)     1   东直门   \n",
       "\n",
       "      id2  \n",
       "0  102512  \n",
       "1  102473  \n",
       "2  102371  \n",
       "3  102666  \n",
       "4  102450  "
      ]
     },
     "execution_count": 48,
     "metadata": {},
     "output_type": "execute_result"
    }
   ],
   "source": [
    "df3.head()"
   ]
  },
  {
   "cell_type": "code",
   "execution_count": 49,
   "id": "numerical-morrison",
   "metadata": {},
   "outputs": [],
   "source": [
    "datas = []\n",
    "for i in names:\n",
    "    lists = group.get_group(i)[\"id2\"].tolist()\n",
    "    ids = []\n",
    "    for a in lists:\n",
    "        ids.append(int(a))\n",
    "        \n",
    "    data = {\"name\":i,\n",
    "           \"code\":group.get_group(i)[\"id\"].tolist(),\n",
    "           \"id\":ids,\n",
    "           }\n",
    "    datas.append(data)"
   ]
  },
  {
   "cell_type": "code",
   "execution_count": 51,
   "id": "other-strength",
   "metadata": {},
   "outputs": [],
   "source": [
    "datas = {\"subway_line\":datas}"
   ]
  },
  {
   "cell_type": "code",
   "execution_count": 52,
   "id": "hawaiian-order",
   "metadata": {},
   "outputs": [],
   "source": [
    "# 保存为JSON\n",
    "import json\n",
    "with open(\"json.json\", \"w\", encoding='utf-8') as f:\n",
    "    f.write(json.dumps(datas,ensure_ascii=False))"
   ]
  },
  {
   "cell_type": "code",
   "execution_count": null,
   "id": "urban-recipient",
   "metadata": {},
   "outputs": [],
   "source": []
  }
 ],
 "metadata": {
  "kernelspec": {
   "display_name": "Python 3",
   "language": "python",
   "name": "python3"
  },
  "language_info": {
   "codemirror_mode": {
    "name": "ipython",
    "version": 3
   },
   "file_extension": ".py",
   "mimetype": "text/x-python",
   "name": "python",
   "nbconvert_exporter": "python",
   "pygments_lexer": "ipython3",
   "version": "3.6.12"
  }
 },
 "nbformat": 4,
 "nbformat_minor": 5
}
