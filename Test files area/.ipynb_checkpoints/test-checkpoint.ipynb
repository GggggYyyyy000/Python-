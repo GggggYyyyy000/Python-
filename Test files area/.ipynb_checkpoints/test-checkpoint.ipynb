{
 "cells": [
  {
   "cell_type": "code",
   "execution_count": 1,
   "metadata": {},
   "outputs": [],
   "source": [
    "import requests\n",
    "import pandas as pd\n",
    "import geopandas as gpd\n",
    "from ChineseAdminiDivisionsDict import CitiesCode, ProvinceCode"
   ]
  },
  {
   "cell_type": "code",
   "execution_count": 83,
   "metadata": {},
   "outputs": [],
   "source": [
    "def boundary_judgment(city,gdf):\n",
    "    try:\n",
    "        url = \"https://geo.datav.aliyun.com/areas/bound/geojson?code={}\".format(CitiesCode[str(city)])\n",
    "        headers = {\"User-Agent\": \"Mozilla/5.0 (Windows NT 10.0; Win64; x64) AppleWebKit/537.36 (KHTML, like Gecko) Chrome/75.0.3770.80 Safari/537.36\"}\n",
    "        a = requests.get(url, headers=headers)\n",
    "        datas = gpd.read_file(a.text, ensure_ascii=False)\n",
    "        boundary = datas.drop(list(datas.columns[[0,2,3,4,5]]),axis=1)\n",
    "        points_with_boundary = gpd.sjoin(gdf,boundary, how=\"inner\", op='intersects')\n",
    "        return points_with_boundary\n",
    "    except:\n",
    "        print(\"【程序警告】:\\n未查询到{}的行政边界，将不会对{}公交站点进行地理校对，请手动删除{}其他区域的公交站点\".format(city,city,city))"
   ]
  },
  {
   "cell_type": "code",
   "execution_count": null,
   "metadata": {},
   "outputs": [],
   "source": [
    "df = gpd.read_file(\"/Users/creative/OneDrive - stu.hit.edu.cn/课程资料/2020 毕业论文/中期检查/Database/02-Bon&Bui/建筑物普查2018（转换后）/深圳2018建筑数据转换后.shp\")"
   ]
  },
  {
   "cell_type": "code",
   "execution_count": null,
   "metadata": {},
   "outputs": [],
   "source": [
    "df.head()"
   ]
  }
 ],
 "metadata": {
  "kernelspec": {
   "display_name": "Python 3",
   "language": "python",
   "name": "python3"
  },
  "language_info": {
   "codemirror_mode": {
    "name": "ipython",
    "version": 3
   },
   "file_extension": ".py",
   "mimetype": "text/x-python",
   "name": "python",
   "nbconvert_exporter": "python",
   "pygments_lexer": "ipython3",
   "version": "3.6.12"
  }
 },
 "nbformat": 4,
 "nbformat_minor": 2
}
