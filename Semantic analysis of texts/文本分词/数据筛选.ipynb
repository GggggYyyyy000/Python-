{
 "cells": [
  {
   "cell_type": "code",
   "execution_count": 1,
   "metadata": {},
   "outputs": [],
   "source": [
    "import pandas as pd"
   ]
  },
  {
   "cell_type": "code",
   "execution_count": 2,
   "metadata": {},
   "outputs": [],
   "source": [
    "df = pd.read_excel(\"/Users/creative/Documents/python/Semantic analysis of texts/文本分词/neg词频统计表.xlsx\")"
   ]
  },
  {
   "cell_type": "code",
   "execution_count": 3,
   "metadata": {},
   "outputs": [],
   "source": [
    "simple1 = []\n",
    "simple2 = []\n",
    "for i in range(len(df)):\n",
    "    comment = df.loc[i,\"key\"]\n",
    "    if len(comment) < 2:\n",
    "        simple1.append(comment)\n",
    "    if 2 < len(comment):\n",
    "        simple2.append(comment)"
   ]
  },
  {
   "cell_type": "code",
   "execution_count": 9,
   "metadata": {},
   "outputs": [
    {
     "output_type": "stream",
     "name": "stdout",
     "text": [
      "['没什么', '大峡谷', '性价比', '工作人员', '不好玩', '一般般', '没意思', '华侨城', '越来越', '停车费', '脏乱差', '杂草丛生', '年轻人', '人性化', '有效证件', '身份证', '锻炼身体', '老人家', '可玩性', '消费者', '深圳市', '老年人', '海滨公园', '盐田区', '有意思', '形同虚设', '好去处', '年久失修', '战斗机', '停车场', '再也不会', '女朋友', '女孩子', '啥意思', '浪费时间', '进不去', '海岸线', '垃圾场', '有没有', '当地人', '自然保护区', '不怎么样', '考虑一下', '花钱买', '下雨天', '代步车', '莲花山', '好意思', '下不来', '看不见', '打电话', '植物园', '看不到', '工作日', '检票员', '不合理', '热气球', '儿童乐园', '观景台', '两条路', '携程网', '卫生条件', '小朋友', '地铁站', '半山腰', '随处可见', '有所改善', '老百姓', '白跑一趟', '工务局', '铁丝网', '游泳圈', '海浪声', '贵贵贵', '服务员', '摩托艇', '更衣室', '拒之门外', '派出所', '垃圾站', '人山人海', '小商店', '瓜子壳', '随地吐痰', '贵重物品', '说实话', '服务车', '文明城市', '改革开放', '另一家', '对外开放', '绿化带', '臭水沟', '野鸭子', '晒太阳', '上不来', '黄黄的', '不太会', '餐饮店', '报刊亭', '逛公园', '跑过来', '主干道', '高效率', '一窝蜂', '排不上', '白白浪费', '打水漂', '奉献给', '冤枉钱', '价格比', '慕名而来', '好不容易', '实质性', '游乐场', '旅客量', '少备点', '时间段', '不复存在', '乘兴而来', '抖音来', '老奶奶', '散散步', '过山车', '全家人', '售票处', '不怕累', '故地重游', '一锅粥', '指示牌', '关门歇业', '再不去', '跟不上', '大雨倾盆', '空跑一趟', '阿里山', '不太好', '赶过去', '花花草草', '爬山虎', '没人管', '观光车', '旅行车', '一辆车', '出不来', '特地去', '没想到', '以下几点', '具体位置', '赶过来', '不得了', '不值一看', '一大早', '接电话', '几十人', '票贩子', '身份证号', '飞机票', '板着脸', '解决问题', '优惠政策', '喷出来', '高高兴兴', '失望透顶', '这辈子', '旅游景点', '基础设施', '逛下来', '不敢恭维', '打不开', '说句话', '停车位', '对不起', '公交车', '走不动', '不划算', '赚黑心钱', '差强人意', '吓死人', '东京都', '风景区', '想不通', '记不清', '演出票', '婴儿车', '观光台', '必需品', '交通费', '二维码', '服务态度', '环境卫生', '没人要', '上当受骗', '户外运动', '算了吧', '地质公园', '高个子', '综合性', '污水沟', '羽毛球', '小女孩', '树荫下', '下象棋', '时不时', '不怎么', '待会儿', '大马路', '管理员', '还跟着', '爬上来', '噪声污染', '举办活动', '上下班', '湖贝路', '身体健康', '欢乐谷', '客家人', '城中村', '火车站', '算不上', '小时候', '流浪汉', '受不了', '石芽岭', '没事干', '自我感觉', '风水宝地', '娱乐中心', '有山有水', '摩天轮', '走走看看', '汽车站', '街道办', '炎炎夏日', '农民房', '风景点']\n"
     ]
    }
   ],
   "source": [
    "print(simple2)"
   ]
  },
  {
   "cell_type": "code",
   "execution_count": 5,
   "metadata": {},
   "outputs": [],
   "source": [
    "long_comment = [\"工作人员\", \"杂草丛生\",\"形同虚设\", \"年久失修\", \"儿童乐园\", \"卫生条件\" , \"拒之门外\", \"随地吐痰\", \"贵重物品\", \"对外开放\",\"关门歇业\",\"空跑一趟\",\"花花草草\",\"基础设施\",\"服务态度\", \"环境卫生\", \"户外运动\",\"噪声污染\"]"
   ]
  },
  {
   "cell_type": "code",
   "execution_count": 4,
   "metadata": {},
   "outputs": [],
   "source": [
    "extract = ['坐', '车', '路', '水','脏', '门', '乱', '停', '臭', '湖', '山', '吵', '远', '卡', '老', '树',  '桥', '荒', '假', '久','堵','雾', '难',  '黑', '光',  '梯',  '风',  '船', '爬',  '绕', '占', '亮', '近']"
   ]
  },
  {
   "cell_type": "code",
   "execution_count": 73,
   "metadata": {},
   "outputs": [],
   "source": [
    "extract.extend(long_comment)"
   ]
  },
  {
   "cell_type": "code",
   "execution_count": 5,
   "metadata": {},
   "outputs": [],
   "source": [
    "e = []\n",
    "for i in range(len(df)):\n",
    "    comment = df.loc[i,\"key\"]\n",
    "    if len(comment) < 2:\n",
    "        if comment in extract:\n",
    "            e.append(comment)\n",
    "        else:\n",
    "            e.append(None)\n",
    "    else:\n",
    "        if 3 < len(comment):\n",
    "            if comment in extract:\n",
    "                e.append(comment)\n",
    "            else:\n",
    "                e.append(None)\n",
    "        else:\n",
    "            e.append(comment)"
   ]
  },
  {
   "cell_type": "code",
   "execution_count": 6,
   "metadata": {},
   "outputs": [
    {
     "output_type": "execute_result",
     "data": {
      "text/plain": [
       "1526"
      ]
     },
     "metadata": {},
     "execution_count": 6
    }
   ],
   "source": [
    "len(e)"
   ]
  },
  {
   "cell_type": "code",
   "execution_count": 7,
   "metadata": {},
   "outputs": [],
   "source": [
    "df[\"new_key\"] = e"
   ]
  },
  {
   "cell_type": "code",
   "execution_count": 8,
   "metadata": {},
   "outputs": [],
   "source": [
    "df2 = df[~df['new_key'].isin([None])]"
   ]
  },
  {
   "cell_type": "code",
   "execution_count": 10,
   "metadata": {},
   "outputs": [],
   "source": [
    "df2.to_excel(\"手动筛选数据.xlsx\")"
   ]
  },
  {
   "cell_type": "code",
   "execution_count": null,
   "metadata": {},
   "outputs": [],
   "source": []
  }
 ],
 "metadata": {
  "kernelspec": {
   "display_name": "Python 3",
   "language": "python",
   "name": "python3"
  },
  "language_info": {
   "codemirror_mode": {
    "name": "ipython",
    "version": 3
   },
   "file_extension": ".py",
   "mimetype": "text/x-python",
   "name": "python",
   "nbconvert_exporter": "python",
   "pygments_lexer": "ipython3",
   "version": "3.6.12-final"
  }
 },
 "nbformat": 4,
 "nbformat_minor": 4
}