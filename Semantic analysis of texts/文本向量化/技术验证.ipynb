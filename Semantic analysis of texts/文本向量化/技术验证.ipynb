{
 "metadata": {
  "language_info": {
   "codemirror_mode": {
    "name": "ipython",
    "version": 3
   },
   "file_extension": ".py",
   "mimetype": "text/x-python",
   "name": "python",
   "nbconvert_exporter": "python",
   "pygments_lexer": "ipython3",
   "version": "3.6.12-final"
  },
  "orig_nbformat": 2,
  "kernelspec": {
   "name": "python3",
   "display_name": "Python 3"
  }
 },
 "nbformat": 4,
 "nbformat_minor": 2,
 "cells": [
  {
   "cell_type": "code",
   "execution_count": 2,
   "metadata": {},
   "outputs": [],
   "source": [
    "import logging\n",
    "import os.path\n",
    "import sys\n",
    "import multiprocessing\n",
    "import gensim\n",
    "from gensim.models import Word2Vec\n",
    "from gensim.models.word2vec import LineSentence\n",
    "\n",
    "# sklean 库\n",
    "from sklearn.metrics import confusion_matrix,precision_recall_fscore_support\n",
    "\n",
    "import warnings\n",
    "warnings.filterwarnings('ignore')"
   ]
  },
  {
   "cell_type": "code",
   "execution_count": 55,
   "metadata": {},
   "outputs": [],
   "source": [
    "model_ = model.wv.load_word2vec_format('news_word2vec_200.bin',binary=False)"
   ]
  },
  {
   "cell_type": "code",
   "execution_count": 62,
   "metadata": {},
   "outputs": [
    {
     "output_type": "execute_result",
     "data": {
      "text/plain": [
       "[('配套', 0.9997304677963257),\n",
       " ('人气', 0.9997109174728394),\n",
       " ('请', 0.9997071027755737),\n",
       " ('美不胜收', 0.9997047185897827),\n",
       " ('显得', 0.9996992349624634),\n",
       " ('回去', 0.999686598777771),\n",
       " ('科普', 0.9996719360351562),\n",
       " ('提高', 0.9996696710586548),\n",
       " ('方式', 0.99966961145401),\n",
       " ('人山人海', 0.9996658563613892)]"
      ]
     },
     "metadata": {},
     "execution_count": 62
    }
   ],
   "source": [
    "model_.most_similar('购物')"
   ]
  },
  {
   "cell_type": "code",
   "execution_count": null,
   "metadata": {},
   "outputs": [],
   "source": []
  }
 ]
}