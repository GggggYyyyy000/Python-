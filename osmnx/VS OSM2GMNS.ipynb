{
 "cells": [
  {
   "cell_type": "code",
   "execution_count": 1,
   "id": "chicken-register",
   "metadata": {},
   "outputs": [
    {
     "name": "stdout",
     "output_type": "stream",
     "text": [
      "osm2gmns, version 0.4.1\n"
     ]
    }
   ],
   "source": [
    "import osm2gmns as og"
   ]
  },
  {
   "cell_type": "code",
   "execution_count": 2,
   "id": "addressed-threshold",
   "metadata": {},
   "outputs": [],
   "source": [
    "file_path = \"/Users/creative/Downloads/ver_data.osm\""
   ]
  },
  {
   "cell_type": "code",
   "execution_count": 3,
   "id": "champion-transfer",
   "metadata": {},
   "outputs": [],
   "source": [
    "net = og.getNetFromOSMFile(file_path)"
   ]
  },
  {
   "cell_type": "code",
   "execution_count": 5,
   "id": "jewish-occasions",
   "metadata": {},
   "outputs": [],
   "source": [
    "og.consolidateComplexIntersections(net)\n",
    "og.outputNetToCSV(net)"
   ]
  },
  {
   "cell_type": "code",
   "execution_count": 6,
   "id": "quality-russia",
   "metadata": {},
   "outputs": [],
   "source": [
    "net = og.getNetFromCSV()\n",
    "og.consolidateComplexIntersections(net)\n",
    "og.outputNetToCSV(net, output_folder='consolidated')"
   ]
  },
  {
   "cell_type": "code",
   "execution_count": null,
   "id": "abandoned-fortune",
   "metadata": {},
   "outputs": [],
   "source": [
    "# 作用不大"
   ]
  },
  {
   "cell_type": "code",
   "execution_count": 8,
   "id": "joint-throat",
   "metadata": {},
   "outputs": [],
   "source": [
    "import matplotlib.cm as cm\n",
    "import networkx as nx\n",
    "import numpy as np\n",
    "import osmnx as ox\n",
    "import pandas as pd\n",
    "import geopandas as gpd\n",
    "import math\n",
    "\n",
    "%matplotlib inline"
   ]
  },
  {
   "cell_type": "code",
   "execution_count": 9,
   "id": "religious-benefit",
   "metadata": {},
   "outputs": [],
   "source": [
    "G = ox.graph_from_xml(file_path,simplify=True)"
   ]
  },
  {
   "cell_type": "code",
   "execution_count": null,
   "id": "unlike-softball",
   "metadata": {},
   "outputs": [],
   "source": []
  },
  {
   "cell_type": "code",
   "execution_count": 23,
   "id": "welsh-publisher",
   "metadata": {},
   "outputs": [],
   "source": [
    "G_proj = ox.project_graph(G)\n",
    "G2 = ox.consolidate_intersections(G_proj, rebuild_graph=True, tolerance=20, dead_ends=False)"
   ]
  },
  {
   "cell_type": "code",
   "execution_count": 24,
   "id": "fabulous-offense",
   "metadata": {},
   "outputs": [],
   "source": [
    "stats = ox.basic_stats(G2)"
   ]
  },
  {
   "cell_type": "code",
   "execution_count": 25,
   "id": "facial-consumer",
   "metadata": {},
   "outputs": [
    {
     "data": {
      "text/plain": [
       "{'n': 460,\n",
       " 'm': 1251,\n",
       " 'k_avg': 5.439130434782609,\n",
       " 'intersection_count': 450,\n",
       " 'streets_per_node_avg': 3.4565217391304346,\n",
       " 'streets_per_node_counts': {0: 0,\n",
       "  1: 10,\n",
       "  2: 65,\n",
       "  3: 247,\n",
       "  4: 74,\n",
       "  5: 28,\n",
       "  6: 17,\n",
       "  7: 6,\n",
       "  8: 4,\n",
       "  9: 3,\n",
       "  10: 3,\n",
       "  11: 1,\n",
       "  12: 0,\n",
       "  13: 0,\n",
       "  14: 1,\n",
       "  15: 1},\n",
       " 'streets_per_node_proportion': {0: 0.0,\n",
       "  1: 0.021739130434782608,\n",
       "  2: 0.14130434782608695,\n",
       "  3: 0.5369565217391304,\n",
       "  4: 0.1608695652173913,\n",
       "  5: 0.06086956521739131,\n",
       "  6: 0.03695652173913044,\n",
       "  7: 0.013043478260869565,\n",
       "  8: 0.008695652173913044,\n",
       "  9: 0.006521739130434782,\n",
       "  10: 0.006521739130434782,\n",
       "  11: 0.002173913043478261,\n",
       "  12: 0.0,\n",
       "  13: 0.0,\n",
       "  14: 0.002173913043478261,\n",
       "  15: 0.002173913043478261},\n",
       " 'edge_length_total': 267540.4482407361,\n",
       " 'edge_length_avg': 213.86126957692733,\n",
       " 'street_length_total': 186393.12043812568,\n",
       " 'street_length_avg': 225.38466800257035,\n",
       " 'street_segments_count': 827,\n",
       " 'node_density_km': None,\n",
       " 'intersection_density_km': None,\n",
       " 'edge_density_km': None,\n",
       " 'street_density_km': None,\n",
       " 'circuity_avg': 2.4649946452995797e-05,\n",
       " 'self_loop_proportion': 0.016786570743405275,\n",
       " 'clean_intersection_count': None,\n",
       " 'clean_intersection_density_km': None}"
      ]
     },
     "execution_count": 25,
     "metadata": {},
     "output_type": "execute_result"
    }
   ],
   "source": [
    "stats"
   ]
  },
  {
   "cell_type": "code",
   "execution_count": 18,
   "id": "superior-syndrome",
   "metadata": {},
   "outputs": [],
   "source": [
    "ox.save_graph_shapefile(G2, filepath='./data/piedmont')"
   ]
  },
  {
   "cell_type": "code",
   "execution_count": null,
   "id": "clear-explanation",
   "metadata": {},
   "outputs": [],
   "source": []
  }
 ],
 "metadata": {
  "kernelspec": {
   "display_name": "Python 3",
   "language": "python",
   "name": "python3"
  },
  "language_info": {
   "codemirror_mode": {
    "name": "ipython",
    "version": 3
   },
   "file_extension": ".py",
   "mimetype": "text/x-python",
   "name": "python",
   "nbconvert_exporter": "python",
   "pygments_lexer": "ipython3",
   "version": "3.6.12"
  }
 },
 "nbformat": 4,
 "nbformat_minor": 5
}
