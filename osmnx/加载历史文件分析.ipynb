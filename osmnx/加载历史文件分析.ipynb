{
 "cells": [
  {
   "cell_type": "code",
   "execution_count": 1,
   "id": "verified-essex",
   "metadata": {},
   "outputs": [],
   "source": [
    "import matplotlib.cm as cm\n",
    "import networkx as nx\n",
    "import numpy as np\n",
    "import osmnx as ox\n",
    "import pandas as pd\n",
    "import geopandas as gpd\n",
    "import math\n",
    "\n",
    "%matplotlib inline"
   ]
  },
  {
   "cell_type": "code",
   "execution_count": 2,
   "id": "dietary-cricket",
   "metadata": {},
   "outputs": [],
   "source": [
    "file_path = '/Users/creative/Downloads/data.osm'"
   ]
  },
  {
   "cell_type": "code",
   "execution_count": 15,
   "id": "interstate-satin",
   "metadata": {},
   "outputs": [],
   "source": [
    "G = ox.graph_from_xml(file_path,simplify=True)"
   ]
  },
  {
   "cell_type": "code",
   "execution_count": 16,
   "id": "comic-partner",
   "metadata": {},
   "outputs": [],
   "source": [
    "area = math.pi * 1098*1098\n",
    "stats = ox.basic_stats(G, area=area)\n",
    "extended_stats = ox.extended_stats(G, ecc=True, bc=True, cc=True)"
   ]
  },
  {
   "cell_type": "code",
   "execution_count": 17,
   "id": "impressive-tulsa",
   "metadata": {},
   "outputs": [
    {
     "data": {
      "text/plain": [
       "{'n': 1464,\n",
       " 'm': 4610,\n",
       " 'k_avg': 6.297814207650274,\n",
       " 'intersection_count': 1273,\n",
       " 'streets_per_node_avg': 3.2950819672131146,\n",
       " 'streets_per_node_counts': {0: 0,\n",
       "  1: 191,\n",
       "  2: 3,\n",
       "  3: 627,\n",
       "  4: 548,\n",
       "  5: 30,\n",
       "  6: 53,\n",
       "  7: 10,\n",
       "  8: 2},\n",
       " 'streets_per_node_proportion': {0: 0.0,\n",
       "  1: 0.13046448087431695,\n",
       "  2: 0.0020491803278688526,\n",
       "  3: 0.42827868852459017,\n",
       "  4: 0.3743169398907104,\n",
       "  5: 0.020491803278688523,\n",
       "  6: 0.036202185792349725,\n",
       "  7: 0.006830601092896175,\n",
       "  8: 0.001366120218579235},\n",
       " 'edge_length_total': 788757.4290000029,\n",
       " 'edge_length_avg': 171.0970561822132,\n",
       " 'street_length_total': 423654.1590000016,\n",
       " 'street_length_avg': 175.64434452736384,\n",
       " 'street_segments_count': 2412,\n",
       " 'node_density_km': 386.5329522571836,\n",
       " 'intersection_density_km': 336.10413130013296,\n",
       " 'edge_density_km': 208251.86997688317,\n",
       " 'street_density_km': 111855.3912666017,\n",
       " 'circuity_avg': 1.4277195236652451,\n",
       " 'self_loop_proportion': 0.0034707158351409977,\n",
       " 'clean_intersection_count': None,\n",
       " 'clean_intersection_density_km': None}"
      ]
     },
     "execution_count": 17,
     "metadata": {},
     "output_type": "execute_result"
    }
   ],
   "source": [
    "stats"
   ]
  },
  {
   "cell_type": "code",
   "execution_count": null,
   "id": "sapphire-salad",
   "metadata": {},
   "outputs": [],
   "source": []
  }
 ],
 "metadata": {
  "kernelspec": {
   "display_name": "Python 3",
   "language": "python",
   "name": "python3"
  },
  "language_info": {
   "codemirror_mode": {
    "name": "ipython",
    "version": 3
   },
   "file_extension": ".py",
   "mimetype": "text/x-python",
   "name": "python",
   "nbconvert_exporter": "python",
   "pygments_lexer": "ipython3",
   "version": "3.6.12"
  }
 },
 "nbformat": 4,
 "nbformat_minor": 5
}
