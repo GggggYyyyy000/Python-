{
 "cells": [
  {
   "cell_type": "code",
   "execution_count": 21,
   "id": "tight-projector",
   "metadata": {},
   "outputs": [],
   "source": [
    "import overpass\n",
    "import pandas as pd\n",
    "import geopandas as gpd\n",
    "from shapely.geometry import LineString,Point,Polygon,mapping"
   ]
  },
  {
   "cell_type": "code",
   "execution_count": 14,
   "id": "alive-simon",
   "metadata": {},
   "outputs": [],
   "source": [
    "api = overpass.API()\n",
    "response = api.get('way(42.819,-73.881,42.820,-73.880);(._;>;)', responseformat=\"xml\")"
   ]
  },
  {
   "cell_type": "code",
   "execution_count": 18,
   "id": "artificial-mortality",
   "metadata": {},
   "outputs": [],
   "source": [
    "file_path = \"/Users/creative/Desktop/datas.geojson\"\n",
    "gdf = gpd.read_file(file_path)\n",
    "gdf = gdf.to_crs(\"EPSG:4326\") "
   ]
  },
  {
   "cell_type": "code",
   "execution_count": 30,
   "id": "assisted-wrist",
   "metadata": {},
   "outputs": [],
   "source": [
    "po = mapping(gdf[\"geometry\"][0])[\"coordinates\"][0][0]"
   ]
  },
  {
   "cell_type": "code",
   "execution_count": 36,
   "id": "particular-adventure",
   "metadata": {},
   "outputs": [],
   "source": [
    "a = \"\"\n",
    "for i in po:\n",
    "    a = a + str(i[1]) + \",\" + str(i[0]) + \",\""
   ]
  },
  {
   "cell_type": "code",
   "execution_count": 41,
   "id": "respective-industry",
   "metadata": {},
   "outputs": [],
   "source": [
    "api = overpass.API()\n",
    "response = api.get('way({});(._;>;)'.format(a[:-1]), responseformat=\"xml\")"
   ]
  },
  {
   "cell_type": "code",
   "execution_count": 42,
   "id": "combined-conflict",
   "metadata": {},
   "outputs": [],
   "source": [
    "f = open(\"state_border_saxony.xml\", 'w')\n",
    "# encode response in UTF-8 because name translation contain non-ascii characters\n",
    "f.write(response)\n",
    "f.close()"
   ]
  },
  {
   "cell_type": "code",
   "execution_count": null,
   "id": "rotary-disorder",
   "metadata": {},
   "outputs": [],
   "source": []
  }
 ],
 "metadata": {
  "kernelspec": {
   "display_name": "Python 3",
   "language": "python",
   "name": "python3"
  },
  "language_info": {
   "codemirror_mode": {
    "name": "ipython",
    "version": 3
   },
   "file_extension": ".py",
   "mimetype": "text/x-python",
   "name": "python",
   "nbconvert_exporter": "python",
   "pygments_lexer": "ipython3",
   "version": "3.6.12"
  }
 },
 "nbformat": 4,
 "nbformat_minor": 5
}
