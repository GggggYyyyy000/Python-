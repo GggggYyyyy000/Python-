{
 "cells": [
  {
   "cell_type": "code",
   "execution_count": 1,
   "metadata": {},
   "outputs": [],
   "source": [
    "import geopandas as gpd\n",
    "from sqlalchemy import create_engine\n",
    "from geoalchemy2 import Geometry, WKTElement\n",
    "import os"
   ]
  },
  {
   "cell_type": "code",
   "execution_count": 2,
   "metadata": {},
   "outputs": [],
   "source": [
    "def shp2pgsql(file, engine):\n",
    "    \"\"\"单个shp文件入库\"\"\"\n",
    "    file_name = os.path.split(file)[1]\n",
    "    print('正在写入:'+file)\n",
    "    tbl_name = file_name.split('.')[0]  # 表名\n",
    "    map_data = gpd.GeoDataFrame.from_file(file)\n",
    "    spatial_ref = map_data.crs.srs.split(':')[-1]  # 读取shp的空间参考\n",
    "    map_data['geometry'] = map_data['geometry'].apply(\n",
    "        lambda x: WKTElement(x.wkt, spatial_ref))\n",
    "    # geopandas 的to_sql()方法继承自pandas, 将GeoDataFrame中的数据写入数据库\n",
    "    map_data.to_sql(\n",
    "        name=tbl_name,\n",
    "        con=engine,\n",
    "        if_exists='replace', # 如果表存在，则替换原有表\n",
    "        chunksize=1000,  # 设置一次入库大小，防止数据量太大卡顿\n",
    "        # 指定geometry的类型,这里直接指定geometry_type='GEOMETRY'，防止MultiPolygon无法写入\n",
    "        dtype={'geometry': Geometry(\n",
    "            geometry_type='GEOMETRY', srid=spatial_ref)},\n",
    "        method='multi'\n",
    "    )\n",
    "    return None"
   ]
  },
  {
   "cell_type": "code",
   "execution_count": 3,
   "metadata": {},
   "outputs": [],
   "source": [
    "def shp2pgsql_batch(dir_name, username, password, hostname, dbname):\n",
    "    \"\"\"创建批量任务\"\"\"\n",
    "    os.chdir(dir_name)  # 改变当前工作目录到指定路径\n",
    "    engine = create_engine('postgresql+psycopg2://{}:{}@{}/{}'.format(username, password, hostname, dbname))\n",
    "    file_list = os.listdir(dir_name)\n",
    "    for file in file_list:\n",
    "        if file.split('.')[-1] == 'shp':\n",
    "            file = os.path.abspath(file)\n",
    "            shp2pgsql(file, engine)\n",
    "    return None"
   ]
  },
  {
   "cell_type": "code",
   "execution_count": 5,
   "metadata": {},
   "outputs": [
    {
     "output_type": "stream",
     "name": "stdout",
     "text": [
      "正在写入:/Users/creative/Desktop/data/国界线.shp\n"
     ]
    },
    {
     "output_type": "error",
     "ename": "ArgumentError",
     "evalue": "srid must be convertible to an integer",
     "traceback": [
      "\u001b[0;31m---------------------------------------------------------------------------\u001b[0m",
      "\u001b[0;31mValueError\u001b[0m                                Traceback (most recent call last)",
      "\u001b[0;32m/opt/anaconda3/envs/accessibility/lib/python3.6/site-packages/geoalchemy2/types.py\u001b[0m in \u001b[0;36mcheck_ctor_args\u001b[0;34m(geometry_type, srid, dimension, management, use_typmod)\u001b[0m\n\u001b[1;32m    188\u001b[0m         \u001b[0;32mtry\u001b[0m\u001b[0;34m:\u001b[0m\u001b[0;34m\u001b[0m\u001b[0;34m\u001b[0m\u001b[0m\n\u001b[0;32m--> 189\u001b[0;31m             \u001b[0msrid\u001b[0m \u001b[0;34m=\u001b[0m \u001b[0mint\u001b[0m\u001b[0;34m(\u001b[0m\u001b[0msrid\u001b[0m\u001b[0;34m)\u001b[0m\u001b[0;34m\u001b[0m\u001b[0;34m\u001b[0m\u001b[0m\n\u001b[0m\u001b[1;32m    190\u001b[0m         \u001b[0;32mexcept\u001b[0m \u001b[0mValueError\u001b[0m\u001b[0;34m:\u001b[0m\u001b[0;34m\u001b[0m\u001b[0;34m\u001b[0m\u001b[0m\n",
      "\u001b[0;31mValueError\u001b[0m: invalid literal for int() with base 10: 'PROJCS[\"China_Lambert_Conformal_Conic\",GEOGCS[\"Beijing 1954\",DATUM[\"Beijing_1954\",SPHEROID[\"Krassowsky 1940\",6378245,298.3,AUTHORITY[\"EPSG\",\"7024\"]],AUTHORITY[\"EPSG\",\"6214\"]],PRIMEM[\"Greenwich\",0],UN",
      "\nDuring handling of the above exception, another exception occurred:\n",
      "\u001b[0;31mArgumentError\u001b[0m                             Traceback (most recent call last)",
      "\u001b[0;32m<ipython-input-5-7a1ea33af75f>\u001b[0m in \u001b[0;36m<module>\u001b[0;34m()\u001b[0m\n\u001b[1;32m      6\u001b[0m     \u001b[0mhostname\u001b[0m \u001b[0;34m=\u001b[0m \u001b[0;34m'localhost'\u001b[0m\u001b[0;34m\u001b[0m\u001b[0;34m\u001b[0m\u001b[0m\n\u001b[1;32m      7\u001b[0m     \u001b[0mdbname\u001b[0m \u001b[0;34m=\u001b[0m \u001b[0;34m'基础地理数据库'\u001b[0m\u001b[0;34m\u001b[0m\u001b[0;34m\u001b[0m\u001b[0m\n\u001b[0;32m----> 8\u001b[0;31m     \u001b[0mshp2pgsql_batch\u001b[0m\u001b[0;34m(\u001b[0m\u001b[0mfile_path\u001b[0m\u001b[0;34m,\u001b[0m \u001b[0musername\u001b[0m\u001b[0;34m,\u001b[0m \u001b[0mpassword\u001b[0m\u001b[0;34m,\u001b[0m \u001b[0mhostname\u001b[0m\u001b[0;34m,\u001b[0m\u001b[0mdbname\u001b[0m\u001b[0;34m)\u001b[0m\u001b[0;34m\u001b[0m\u001b[0;34m\u001b[0m\u001b[0m\n\u001b[0m",
      "\u001b[0;32m<ipython-input-3-d5fc2aeb6916>\u001b[0m in \u001b[0;36mshp2pgsql_batch\u001b[0;34m(dir_name, username, password, hostname, dbname)\u001b[0m\n\u001b[1;32m      7\u001b[0m         \u001b[0;32mif\u001b[0m \u001b[0mfile\u001b[0m\u001b[0;34m.\u001b[0m\u001b[0msplit\u001b[0m\u001b[0;34m(\u001b[0m\u001b[0;34m'.'\u001b[0m\u001b[0;34m)\u001b[0m\u001b[0;34m[\u001b[0m\u001b[0;34m-\u001b[0m\u001b[0;36m1\u001b[0m\u001b[0;34m]\u001b[0m \u001b[0;34m==\u001b[0m \u001b[0;34m'shp'\u001b[0m\u001b[0;34m:\u001b[0m\u001b[0;34m\u001b[0m\u001b[0;34m\u001b[0m\u001b[0m\n\u001b[1;32m      8\u001b[0m             \u001b[0mfile\u001b[0m \u001b[0;34m=\u001b[0m \u001b[0mos\u001b[0m\u001b[0;34m.\u001b[0m\u001b[0mpath\u001b[0m\u001b[0;34m.\u001b[0m\u001b[0mabspath\u001b[0m\u001b[0;34m(\u001b[0m\u001b[0mfile\u001b[0m\u001b[0;34m)\u001b[0m\u001b[0;34m\u001b[0m\u001b[0;34m\u001b[0m\u001b[0m\n\u001b[0;32m----> 9\u001b[0;31m             \u001b[0mshp2pgsql\u001b[0m\u001b[0;34m(\u001b[0m\u001b[0mfile\u001b[0m\u001b[0;34m,\u001b[0m \u001b[0mengine\u001b[0m\u001b[0;34m)\u001b[0m\u001b[0;34m\u001b[0m\u001b[0;34m\u001b[0m\u001b[0m\n\u001b[0m\u001b[1;32m     10\u001b[0m     \u001b[0;32mreturn\u001b[0m \u001b[0;32mNone\u001b[0m\u001b[0;34m\u001b[0m\u001b[0;34m\u001b[0m\u001b[0m\n",
      "\u001b[0;32m<ipython-input-2-1a3d6561a94e>\u001b[0m in \u001b[0;36mshp2pgsql\u001b[0;34m(file, engine)\u001b[0m\n\u001b[1;32m     16\u001b[0m         \u001b[0;31m# 指定geometry的类型,这里直接指定geometry_type='GEOMETRY'，防止MultiPolygon无法写入\u001b[0m\u001b[0;34m\u001b[0m\u001b[0;34m\u001b[0m\u001b[0;34m\u001b[0m\u001b[0m\n\u001b[1;32m     17\u001b[0m         dtype={'geometry': Geometry(\n\u001b[0;32m---> 18\u001b[0;31m             geometry_type='GEOMETRY', srid=spatial_ref)},\n\u001b[0m\u001b[1;32m     19\u001b[0m         \u001b[0mmethod\u001b[0m\u001b[0;34m=\u001b[0m\u001b[0;34m'multi'\u001b[0m\u001b[0;34m\u001b[0m\u001b[0;34m\u001b[0m\u001b[0m\n\u001b[1;32m     20\u001b[0m     )\n",
      "\u001b[0;32m/opt/anaconda3/envs/accessibility/lib/python3.6/site-packages/geoalchemy2/types.py\u001b[0m in \u001b[0;36m__init__\u001b[0;34m(self, geometry_type, srid, dimension, spatial_index, management, use_typmod)\u001b[0m\n\u001b[1;32m    132\u001b[0m                  spatial_index=True, management=False, use_typmod=None):\n\u001b[1;32m    133\u001b[0m         geometry_type, srid = self.check_ctor_args(\n\u001b[0;32m--> 134\u001b[0;31m             geometry_type, srid, dimension, management, use_typmod)\n\u001b[0m\u001b[1;32m    135\u001b[0m         \u001b[0mself\u001b[0m\u001b[0;34m.\u001b[0m\u001b[0mgeometry_type\u001b[0m \u001b[0;34m=\u001b[0m \u001b[0mgeometry_type\u001b[0m\u001b[0;34m\u001b[0m\u001b[0;34m\u001b[0m\u001b[0m\n\u001b[1;32m    136\u001b[0m         \u001b[0mself\u001b[0m\u001b[0;34m.\u001b[0m\u001b[0msrid\u001b[0m \u001b[0;34m=\u001b[0m \u001b[0msrid\u001b[0m\u001b[0;34m\u001b[0m\u001b[0;34m\u001b[0m\u001b[0m\n",
      "\u001b[0;32m/opt/anaconda3/envs/accessibility/lib/python3.6/site-packages/geoalchemy2/types.py\u001b[0m in \u001b[0;36mcheck_ctor_args\u001b[0;34m(geometry_type, srid, dimension, management, use_typmod)\u001b[0m\n\u001b[1;32m    189\u001b[0m             \u001b[0msrid\u001b[0m \u001b[0;34m=\u001b[0m \u001b[0mint\u001b[0m\u001b[0;34m(\u001b[0m\u001b[0msrid\u001b[0m\u001b[0;34m)\u001b[0m\u001b[0;34m\u001b[0m\u001b[0;34m\u001b[0m\u001b[0m\n\u001b[1;32m    190\u001b[0m         \u001b[0;32mexcept\u001b[0m \u001b[0mValueError\u001b[0m\u001b[0;34m:\u001b[0m\u001b[0;34m\u001b[0m\u001b[0;34m\u001b[0m\u001b[0m\n\u001b[0;32m--> 191\u001b[0;31m             \u001b[0;32mraise\u001b[0m \u001b[0mArgumentError\u001b[0m\u001b[0;34m(\u001b[0m\u001b[0;34m'srid must be convertible to an integer'\u001b[0m\u001b[0;34m)\u001b[0m\u001b[0;34m\u001b[0m\u001b[0;34m\u001b[0m\u001b[0m\n\u001b[0m\u001b[1;32m    192\u001b[0m         \u001b[0;32mif\u001b[0m \u001b[0mgeometry_type\u001b[0m\u001b[0;34m:\u001b[0m\u001b[0;34m\u001b[0m\u001b[0;34m\u001b[0m\u001b[0m\n\u001b[1;32m    193\u001b[0m             \u001b[0mgeometry_type\u001b[0m \u001b[0;34m=\u001b[0m \u001b[0mgeometry_type\u001b[0m\u001b[0;34m.\u001b[0m\u001b[0mupper\u001b[0m\u001b[0;34m(\u001b[0m\u001b[0;34m)\u001b[0m\u001b[0;34m\u001b[0m\u001b[0;34m\u001b[0m\u001b[0m\n",
      "\u001b[0;31mArgumentError\u001b[0m: srid must be convertible to an integer"
     ]
    }
   ],
   "source": [
    "# 执行任务计划\n",
    "if __name__ == '__main__':\n",
    "    file_path = r'/Users/creative/Desktop/data'\n",
    "    username = 'postgres'\n",
    "    password = '843211'\n",
    "    hostname = 'localhost'\n",
    "    dbname = '基础地理数据库'\n",
    "    shp2pgsql_batch(file_path, username, password, hostname,dbname)"
   ]
  },
  {
   "cell_type": "code",
   "execution_count": null,
   "metadata": {},
   "outputs": [],
   "source": []
  }
 ],
 "metadata": {
  "kernelspec": {
   "display_name": "Python 3",
   "language": "python",
   "name": "python3"
  },
  "language_info": {
   "codemirror_mode": {
    "name": "ipython",
    "version": 3
   },
   "file_extension": ".py",
   "mimetype": "text/x-python",
   "name": "python",
   "nbconvert_exporter": "python",
   "pygments_lexer": "ipython3",
   "version": "3.6.12-final"
  }
 },
 "nbformat": 4,
 "nbformat_minor": 2
}