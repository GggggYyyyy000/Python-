{
 "cells": [
  {
   "cell_type": "code",
   "execution_count": 1,
   "metadata": {},
   "outputs": [],
   "source": [
    "import geopandas as gpd\n",
    "from sqlalchemy import create_engine\n",
    "from geoalchemy2 import Geometry, WKTElement\n",
    "import os"
   ]
  },
  {
   "cell_type": "code",
   "execution_count": 2,
   "metadata": {},
   "outputs": [],
   "source": [
    "def shp2pgsql(file, engine):\n",
    "    \"\"\"单个shp文件入库\"\"\"\n",
    "    file_name = os.path.split(file)[1]\n",
    "    print('正在写入:'+file)\n",
    "    tbl_name = file_name.split('.')[0]  # 表名\n",
    "    map_data = gpd.GeoDataFrame.from_file(file)\n",
    "    spatial_ref = map_data.crs.srs.split(':')[-1]  # 读取shp的空间参考\n",
    "    map_data['geometry'] = map_data['geometry'].apply(\n",
    "        lambda x: WKTElement(x.wkt, spatial_ref))\n",
    "    # geopandas 的to_sql()方法继承自pandas, 将GeoDataFrame中的数据写入数据库\n",
    "    map_data.to_sql(\n",
    "        name=tbl_name,\n",
    "        con=engine,\n",
    "        if_exists='replace', # 如果表存在，则替换原有表\n",
    "        chunksize=1000,  # 设置一次入库大小，防止数据量太大卡顿\n",
    "        # 指定geometry的类型,这里直接指定geometry_type='GEOMETRY'，防止MultiPolygon无法写入\n",
    "        dtype={'geometry': Geometry(\n",
    "            geometry_type='GEOMETRY', srid=spatial_ref)},\n",
    "        method='multi'\n",
    "    )\n",
    "    return None"
   ]
  },
  {
   "cell_type": "code",
   "execution_count": null,
   "metadata": {},
   "outputs": [],
   "source": [
    "def shp2pgsql_batch(dir_name, username, password, host, port, dbname):\n",
    "    \"\"\"创建批量任务\"\"\"\n",
    "    os.chdir(dir_name)  # 改变当前工作目录到指定路径\n",
    "    engine = create_engine(username, password, host, port, dbname)\n",
    "    file_list = os.listdir(dir_name)\n",
    "    for file in file_list:\n",
    "        if file.split('.')[-1] == 'shp':\n",
    "            file = os.path.abspath(file)\n",
    "            shp2pgsql(file, engine)\n",
    "    return None"
   ]
  },
  {
   "cell_type": "code",
   "execution_count": null,
   "metadata": {},
   "outputs": [],
   "source": [
    "def shp2pgsql_batch(dir_name, username, password, host, port, dbname):\n",
    "    \"\"\"创建批量任务\"\"\"\n",
    "    os.chdir(dir_name)  # 改变当前工作目录到指定路径\n",
    "    engine = create_engine(username, password, host, port, dbname)\n",
    "    file_list = os.listdir(dir_name)\n",
    "    for file in file_list:\n",
    "        if file.split('.')[-1] == 'shp':\n",
    "            file = os.path.abspath(file)\n",
    "            shp2pgsql(file, engine)\n",
    "    return None\n",
    "\n",
    "\n",
    "# 执行任务计划\n",
    "if __name__ == '__main__':\n",
    "    file_path = r'D:\\Data\\mango'\n",
    "    username = 'postgres'\n",
    "    password = '123ewq'\n",
    "    host = '127.0.0.1'\n",
    "    port = '5432'\n",
    "    dbname = 'gis_test'\n",
    "    shp2pgsql_batch(file_path, username, password, host, port, dbname)"
   ]
  }
 ],
 "metadata": {
  "kernelspec": {
   "display_name": "Python 3",
   "language": "python",
   "name": "python3"
  },
  "language_info": {
   "codemirror_mode": {
    "name": "ipython",
    "version": 3
   },
   "file_extension": ".py",
   "mimetype": "text/x-python",
   "name": "python",
   "nbconvert_exporter": "python",
   "pygments_lexer": "ipython3",
   "version": "3.6.12"
  }
 },
 "nbformat": 4,
 "nbformat_minor": 2
}
