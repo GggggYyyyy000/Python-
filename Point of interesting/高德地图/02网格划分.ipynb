{
 "cells": [
  {
   "cell_type": "markdown",
   "metadata": {},
   "source": [
    "###  00网格划分的相关概念\n",
    "\n",
    "> 1度 约对于 111km<br>\n",
    "> 则0.1度约等于11km<br>\n",
    "> 0.05   5.5kmX5.5km = 30.25平方公里<br>\n",
    "> 0.02   相当于 2.2X2.2 = 5平方公里"
   ]
  },
  {
   "cell_type": "markdown",
   "metadata": {},
   "source": [
    "##### 西南坐标与东北坐标 （蛋疼的百度）\n",
    "\n",
    "http://lbsyun.baidu.com/index.php?title=webapi/guide/webservice-placeapi\n",
    "\n",
    "http://api.map.baidu.com/lbsapi/getpoint/index.html"
   ]
  },
  {
   "cell_type": "markdown",
   "metadata": {},
   "source": [
    "##### 任何计算都是算法。\n",
    "##### 算法好，速度快、准确率高。\n",
    "##### 需要验。\n",
    "##### 适合自己的算法"
   ]
  },
  {
   "cell_type": "markdown",
   "metadata": {},
   "source": [
    "### 01经纬度切割"
   ]
  },
  {
   "cell_type": "code",
   "execution_count": 1,
   "metadata": {},
   "outputs": [
    {
     "name": "stdout",
     "output_type": "stream",
     "text": [
      "['31.26', '31.24', '31.22', '31.20']\n"
     ]
    }
   ],
   "source": [
    "# 原理：进行区间的划分\n",
    "\n",
    "latL = 31.22  # 定义小值\n",
    "latH = 31.26  # 定义大值\n",
    "ls = [str(latH)]  # 定义存储分割数据的列表，并把大值数据先放到列表中\n",
    "div = 0.02        # 定义需要划分的网格区间\n",
    "while latH-latL > 0:   # 在大值-小值大于0的情况下进行循环，数据分割到最后\n",
    "    latH = latH - div  # 每一次循环，更新大值（原大值减去区间值后的值）\n",
    "    ls.append('%.2f' % latH)  # 大值追加到列表中\n",
    "print(ls)"
   ]
  },
  {
   "cell_type": "markdown",
   "metadata": {},
   "source": [
    "### 02坐标拆解并分割经度、纬度-函数"
   ]
  },
  {
   "cell_type": "code",
   "execution_count": 2,
   "metadata": {},
   "outputs": [
    {
     "name": "stdout",
     "output_type": "stream",
     "text": [
      "[['120.64', '120.66', '120.68', '120.70', '120.72'], ['31.26', '31.24', '31.22', '31.20']]\n",
      "---------------------------\n",
      "lng:5\n",
      "lat:4\n"
     ]
    }
   ],
   "source": [
    "def lng_lat(loc_all,div):                  # 这里有2个参数，分布是坐标串、分割的区间，为形式参数\n",
    "    lng_sw = float(loc_all.split(',')[0])  # 坐标串按逗号分割，为四个元素，获取第0个元素120.67\n",
    "    lng_ne = float(loc_all.split(',')[2])  # 坐标串按逗号分割，为四个元素，获取第2个元素31.21\n",
    "    lat_sw = float(loc_all.split(',')[1])  # 坐标串按逗号分割，为四个元素，获取第1个元素120.71\n",
    "    lat_ne = float(loc_all.split(',')[3])  # 坐标串按逗号分割，为四个元素，获取第3个元素31.26\n",
    "    \n",
    "    lng_list = [str(lng_ne)]\n",
    "    while lng_ne-lng_sw >= 0:\n",
    "        lng_ne = lng_ne - div\n",
    "        lng_list.append('%.2f' % lng_ne) \n",
    "\n",
    "    lat_list = [str(lat_ne)]\n",
    "    while lat_ne-lat_sw >= 0:\n",
    "        lat_ne = lat_ne - div\n",
    "        lat_list.append('%.2f' % lat_ne)\n",
    "    return [sorted(lng_list),lat_list]   # 经度是由小到大，使用使用sorted函数从小到大排序；纬度正常从大到小\n",
    "        \n",
    "loc_all = '120.66,31.22,120.72,31.26'    # 坐标串，西南与东北坐标，\n",
    "div = 0.02                               # 分割的区间\n",
    "divs = lng_lat(loc_all,div)              # 执行lng_lat函数，loc_all,div为实际参数\n",
    "print(divs)                              # 输出分割后的值  \n",
    "print('---------------------------')\n",
    "print(\"lng:{}\".format(len(divs[0])))\n",
    "print(\"lat:{}\".format(len(divs[1])))"
   ]
  },
  {
   "cell_type": "markdown",
   "metadata": {},
   "source": [
    "### 03经纬度组合在一起"
   ]
  },
  {
   "cell_type": "markdown",
   "metadata": {},
   "source": [
    "![](..\\jpg\\图片2.png)"
   ]
  },
  {
   "cell_type": "code",
   "execution_count": 3,
   "metadata": {},
   "outputs": [
    {
     "name": "stdout",
     "output_type": "stream",
     "text": [
      "['31.26,120.64', '31.26,120.66', '31.26,120.68', '31.26,120.70', '31.26,120.72', '31.24,120.64', '31.24,120.66', '31.24,120.68', '31.24,120.70', '31.24,120.72', '31.22,120.64', '31.22,120.66', '31.22,120.68', '31.22,120.70', '31.22,120.72', '31.20,120.64', '31.20,120.66', '31.20,120.68', '31.20,120.70', '31.20,120.72']\n",
      "--------------------------------------------\n",
      "坐标数量： 20\n",
      "['31.26,120.64', '31.26,120.66', '31.26,120.68', '31.26,120.70', '31.26,120.72']\n",
      "['31.24,120.64', '31.24,120.66', '31.24,120.68', '31.24,120.70', '31.24,120.72']\n",
      "['31.22,120.64', '31.22,120.66', '31.22,120.68', '31.22,120.70', '31.22,120.72']\n",
      "['31.20,120.64', '31.20,120.66', '31.20,120.68', '31.20,120.70', '31.20,120.72']\n"
     ]
    }
   ],
   "source": [
    "lng = divs[0]  # 使用前面的divs的值，第0个元素 ['120.66', '120.68', '120.70', '120.72']\n",
    "lat = divs[1]  # 使用前面的divs的值，第1个元素 ['31.26', '31.24', '31.22', '31.20']\n",
    "\n",
    "# 通过列表解析，将坐标进行组合,两次for循环\n",
    "dt = ['{},{}'.format(lat[i],lng[i2]) for i in range(0,len(lat)) for i2 in range(0,len(lng))]\n",
    "print(dt)\n",
    "print('--------------------------------------------')\n",
    "print('坐标数量：',len(dt))\n",
    "for i in range(len(lat)):   \n",
    "    print(dt[i*len(lng):(i+1)*len(lng)])  # 显示排列情况"
   ]
  },
  {
   "cell_type": "markdown",
   "metadata": {},
   "source": [
    "```python\n",
    "\n",
    "# 代码1\n",
    "['{},{}'.format(lat[i],lng[i2]) for i in range(0,len(lat)) for i2 in range(0,len(lng))]\n",
    "\n",
    "# 代码2\n",
    "coords_lst = []  \n",
    "for i in range(0,len(lat)):\n",
    "    lat_sg = str(lat[i])\n",
    "    for i2 in range(0,len(lng)):\n",
    "        lng_sg = str(lng[i2])\n",
    "        coord = '{},{}'.format(lat_sg,lng_sg)\n",
    "        coords_lst.append(coord)\n",
    "coords_lst\n",
    "```"
   ]
  },
  {
   "cell_type": "markdown",
   "metadata": {},
   "source": [
    "### 04制作双重列表，便于后续进行位置选取"
   ]
  },
  {
   "cell_type": "code",
   "execution_count": null,
   "metadata": {},
   "outputs": [],
   "source": [
    "# [['31.26,120.64', '31.26,120.66', '31.26,120.68', '31.26,120.70', '31.26,120.72'],\n",
    "#  ['31.24,120.64', '31.24,120.66', '31.24,120.68', '31.24,120.70', '31.24,120.72'],\n",
    "#  ['31.22,120.64', '31.22,120.66', '31.22,120.68', '31.22,120.70', '31.22,120.72'],\n",
    "#  ['31.20,120.64', '31.20,120.66', '31.20,120.68', '31.20,120.70', '31.20,120.72']]"
   ]
  },
  {
   "cell_type": "code",
   "execution_count": 4,
   "metadata": {},
   "outputs": [
    {
     "data": {
      "text/plain": [
       "[['31.24,120.64', '31.26,120.66'],\n",
       " ['31.24,120.66', '31.26,120.68'],\n",
       " ['31.24,120.68', '31.26,120.70'],\n",
       " ['31.24,120.70', '31.26,120.72'],\n",
       " ['31.22,120.64', '31.24,120.66'],\n",
       " ['31.22,120.66', '31.24,120.68'],\n",
       " ['31.22,120.68', '31.24,120.70'],\n",
       " ['31.22,120.70', '31.24,120.72'],\n",
       " ['31.20,120.64', '31.22,120.66'],\n",
       " ['31.20,120.66', '31.22,120.68'],\n",
       " ['31.20,120.68', '31.22,120.70'],\n",
       " ['31.20,120.70', '31.22,120.72']]"
      ]
     },
     "execution_count": 4,
     "metadata": {},
     "output_type": "execute_result"
    }
   ],
   "source": [
    "# 循环纬度的数量（行数据）,组合为双重列表\n",
    "double_lst = [dt[i*len(lng):(i+1)*len(lng)] for i in range(len(lat))] \n",
    "# 循环列的数量列-1（号码再减一）；循环行的数量 行-1\n",
    "coords_com = [[double_lst[n+1][i],double_lst[n][i+1]] for n in range(0,len(lat)-1) for i in range(0,len(lng)-1)]\n",
    "coords_com"
   ]
  },
  {
   "cell_type": "markdown",
   "metadata": {},
   "source": [
    "### 05函数组合"
   ]
  },
  {
   "cell_type": "code",
   "execution_count": 5,
   "metadata": {},
   "outputs": [
    {
     "data": {
      "text/plain": [
       "['31.24,120.64,31.26,120.66',\n",
       " '31.24,120.66,31.26,120.68',\n",
       " '31.24,120.68,31.26,120.70',\n",
       " '31.24,120.70,31.26,120.72',\n",
       " '31.22,120.64,31.24,120.66',\n",
       " '31.22,120.66,31.24,120.68',\n",
       " '31.22,120.68,31.24,120.70',\n",
       " '31.22,120.70,31.24,120.72',\n",
       " '31.20,120.64,31.22,120.66',\n",
       " '31.20,120.66,31.22,120.68',\n",
       " '31.20,120.68,31.22,120.70',\n",
       " '31.20,120.70,31.22,120.72']"
      ]
     },
     "execution_count": 5,
     "metadata": {},
     "output_type": "execute_result"
    }
   ],
   "source": [
    "def lng_lat(loc_all,div):\n",
    "    lng_sw = float(loc_all.split(',')[0])\n",
    "    lng_ne = float(loc_all.split(',')[2])\n",
    "    lat_sw = float(loc_all.split(',')[1])\n",
    "    lat_ne = float(loc_all.split(',')[3])\n",
    "    \n",
    "    lng_list = [str(lng_ne)]\n",
    "    while lng_ne-lng_sw >= 0:\n",
    "        lng_ne = lng_ne - div\n",
    "        lng_list.append('%.2f' % lng_ne) \n",
    "\n",
    "    lat_list = [str(lat_ne)]\n",
    "    while lat_ne-lat_sw >= 0:\n",
    "        lat_ne = lat_ne - div\n",
    "        lat_list.append('%.2f' % lat_ne)\n",
    "\n",
    "    lng = sorted(lng_list)\n",
    "    lat = lat_list\n",
    "\n",
    "    dt = ['{},{}'.format(lat[i],lng[i2]) for i in range(0,len(lat)) for i2 in range(0,len(lng))]\n",
    "    double_lst = [dt[i*len(lng):(i+1)*len(lng)] for i in range(len(lat))] \n",
    "    coords_com = [[double_lst[n+1][i],double_lst[n][i+1]] for n in range(0,len(lat)-1) for i in range(0,len(lng)-1)]\n",
    "    return ['{},{}'.format(loc_to_use[0], loc_to_use[1]) for loc_to_use in coords_com] # 返回坐标串\n",
    "\n",
    "###############################################################################\n",
    "loc_all = '120.66,31.22,120.72,31.26'  # 请保留小数后2位 西南与东北坐标\n",
    "div = 0.02\n",
    "\n",
    "divds = lng_lat(loc_all,div)\n",
    "divds"
   ]
  },
  {
   "cell_type": "markdown",
   "metadata": {},
   "source": [
    "![](..\\jpg\\图片2.png)"
   ]
  },
  {
   "cell_type": "code",
   "execution_count": null,
   "metadata": {},
   "outputs": [],
   "source": []
  }
 ],
 "metadata": {
  "kernelspec": {
   "display_name": "Python 3",
   "language": "python",
   "name": "python3"
  },
  "language_info": {
   "codemirror_mode": {
    "name": "ipython",
    "version": 3
   },
   "file_extension": ".py",
   "mimetype": "text/x-python",
   "name": "python",
   "nbconvert_exporter": "python",
   "pygments_lexer": "ipython3",
   "version": "3.7.3"
  }
 },
 "nbformat": 4,
 "nbformat_minor": 2
}
