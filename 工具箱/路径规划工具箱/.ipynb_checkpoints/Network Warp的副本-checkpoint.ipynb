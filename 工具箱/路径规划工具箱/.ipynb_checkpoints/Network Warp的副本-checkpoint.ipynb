{
 "cells": [
  {
   "cell_type": "code",
   "execution_count": 2,
   "id": "provincial-address",
   "metadata": {},
   "outputs": [],
   "source": [
    "import requests\n",
    "import geopandas as gpd\n",
    "import pandas as pd\n",
    "from shapely.geometry import LineString,mapping\n",
    "import WGS1984\n",
    "\n",
    "from tqdm import tqdm\n",
    "import matplotlib.pyplot as plt"
   ]
  },
  {
   "cell_type": "code",
   "execution_count": 3,
   "id": "billion-colors",
   "metadata": {},
   "outputs": [],
   "source": [
    "\"\"\"利用geopandas点转线的函数\"\"\"\n",
    "def point_to_line(df,num):\n",
    "    dataGroup = df.groupby(num) \n",
    "    tb = []\n",
    "    geomList = []\n",
    "    for name,group in dataGroup:\n",
    "        tb.append(group.iloc[0,:13])\n",
    "        xyList = [xy for xy in zip(group.x, group.y)]\n",
    "        line = LineString(xyList)\n",
    "        geomList.append(line)\n",
    "    geoDataFrame = gpd.GeoDataFrame(tb, geometry = geomList)\n",
    "    return geoDataFrame"
   ]
  },
  {
   "cell_type": "code",
   "execution_count": 4,
   "id": "instant-fraud",
   "metadata": {},
   "outputs": [],
   "source": [
    "def polyline_csv(polyline,id):\n",
    "    polyline = polyline.split(\";\")\n",
    "    data = []\n",
    "    walk = 0\n",
    "    for i in polyline:\n",
    "        walk += 1\n",
    "        lng = float(i.split(\",\")[0])\n",
    "        lat = float(i.split(\",\")[1])\n",
    "        a = {\"number\":walk,\"id\":id,\"x\":float(WGS1984.main(lng,lat)[0]),\"y\":float(WGS1984.main(lng,lat)[1])}\n",
    "        data.append(a)\n",
    "\n",
    "    df = pd.DataFrame(columns=[\"number\",\"id\",\"x\",\"y\"])\n",
    "    df = df.append(data,ignore_index=True)\n",
    "    return df"
   ]
  },
  {
   "cell_type": "code",
   "execution_count": 32,
   "id": "tired-newport",
   "metadata": {},
   "outputs": [],
   "source": [
    "\"\"\"将线路的信息具体化\"\"\"\n",
    "def Direction_walk_complex(key,origin,destination,name,ids):\n",
    "    import json\n",
    "    headers = {\"User-Agent\": \"Mozilla/5.0 (Windows NT 10.0; Win64; x64) AppleWebKit/537.36 (KHTML, like Gecko) Chrome/75.0.3770.80 Safari/537.36\"}\n",
    "    URL = \"https://restapi.amap.com/v3/direction/walking?parameters\"\n",
    "    keyword = {\"origin\": origin, \"destination\": destination, \"key\": key, \"output\": \"JSON\"}\n",
    "    b = requests.get(URL, headers=headers, params=keyword)\n",
    "    if b.status_code == 200:\n",
    "        html = b.text\n",
    "        json = json.loads(html)\n",
    "        dis = json[\"route\"][\"paths\"][0][\"distance\"]\n",
    "        dur = json[\"route\"][\"paths\"][0][\"duration\"]\n",
    "        path = json[\"route\"][\"paths\"][0][\"steps\"]\n",
    "        num = 0\n",
    "        frames = []\n",
    "        for i in path:\n",
    "            num = num + 1\n",
    "            polyline = i[\"polyline\"]\n",
    "            polyline_csv_frame = polyline_csv(polyline,id=num)\n",
    "            polyline_csv_frame[\"road\"] = str(i[\"road\"])\n",
    "            polyline_csv_frame[\"instruction\"] = str(i[\"instruction\"])\n",
    "            polyline_csv_frame[\"orientation\"] = str(i[\"orientation\"])\n",
    "            polyline_csv_frame[\"distance\"] = int(i[\"distance\"])\n",
    "            polyline_csv_frame[\"duration\"] = int(i[\"duration\"])\n",
    "            polyline_csv_frame[\"action\"] = str(i[\"action\"])\n",
    "            polyline_csv_frame[\"walk_type\"] = str(i[\"walk_type\"])\n",
    "            frames.append(polyline_csv_frame)\n",
    "\n",
    "        result = pd.concat(frames)\n",
    "        line = point_to_line(result,\"id\")\n",
    "\n",
    "        #line[\"xid\"] = str(xid)\n",
    "        line[\"id\"] = str(ids)\n",
    "        line[\"park\"] = str(name)\n",
    "        line[\"all_distance\"] = int(int(dis)/1000)\n",
    "        line[\"all_duration\"] = int(int(dur)/60)\n",
    "\n",
    "    return line"
   ]
  },
  {
   "cell_type": "code",
   "execution_count": 8,
   "id": "sufficient-portfolio",
   "metadata": {},
   "outputs": [],
   "source": [
    "\"\"\"网格数据准备\"\"\"\n",
    "gdf = gpd.read_file(\"/Users/creative/OneDrive - stu.hit.edu.cn/课程资料/2020 毕业论文/测试数据/SZ_net2.shp\")\n",
    "a = gdf.to_crs(\"EPSG:4326\") "
   ]
  },
  {
   "cell_type": "code",
   "execution_count": 34,
   "id": "extraordinary-minority",
   "metadata": {},
   "outputs": [],
   "source": [
    "\"\"\"读取公园数据\"\"\"\n",
    "orgin_park = gpd.read_file(\"/Users/creative/OneDrive - stu.hit.edu.cn/课程资料/2020 毕业论文/中期检查/Database/07-connectivity/park/福田2.geojson\")\n",
    "orgin_park['geometry']= orgin_park.buffer(1000) #建立一个1000m范围的缓冲区\n",
    "orgin_park = orgin_park.to_crs(\"EPSG:4326\") "
   ]
  },
  {
   "cell_type": "code",
   "execution_count": 35,
   "id": "sublime-paris",
   "metadata": {},
   "outputs": [],
   "source": [
    "group = orgin_park.groupby(\"公园名\")\n",
    "types = orgin_park[\"公园名\"].unique()"
   ]
  },
  {
   "cell_type": "code",
   "execution_count": 36,
   "id": "compatible-colorado",
   "metadata": {
    "scrolled": true
   },
   "outputs": [
    {
     "name": "stderr",
     "output_type": "stream",
     "text": [
      "100%|██████████| 945/945 [02:23<00:00,  6.61it/s]\n"
     ]
    },
    {
     "name": "stdout",
     "output_type": "stream",
     "text": [
      "进展到0.2\n"
     ]
    },
    {
     "name": "stderr",
     "output_type": "stream",
     "text": [
      "100%|██████████| 993/993 [02:12<00:00,  7.47it/s]\n"
     ]
    },
    {
     "name": "stdout",
     "output_type": "stream",
     "text": [
      "进展到0.4\n"
     ]
    },
    {
     "name": "stderr",
     "output_type": "stream",
     "text": [
      "100%|██████████| 635/635 [01:29<00:00,  7.10it/s]\n"
     ]
    },
    {
     "name": "stdout",
     "output_type": "stream",
     "text": [
      "进展到0.6\n"
     ]
    },
    {
     "name": "stderr",
     "output_type": "stream",
     "text": [
      "100%|██████████| 909/909 [02:21<00:00,  6.41it/s]\n"
     ]
    },
    {
     "name": "stdout",
     "output_type": "stream",
     "text": [
      "进展到0.8\n"
     ]
    },
    {
     "name": "stderr",
     "output_type": "stream",
     "text": [
      "100%|██████████| 623/623 [01:35<00:00,  6.55it/s]\n"
     ]
    },
    {
     "name": "stdout",
     "output_type": "stream",
     "text": [
      "进展到1.0\n"
     ]
    }
   ],
   "source": [
    "all_datas = []\n",
    "xid = 0\n",
    "xxid = 0\n",
    "key = [\"327855e5a85eb979da85c345c8b0529d\",\"43f8fbc952567677d0f7196fa41b9459\"]\n",
    "for i in types:\n",
    "    gdf = gpd.read_file(\"/Users/creative/OneDrive - stu.hit.edu.cn/课程资料/2020 毕业论文/测试数据/SZ_net2.shp\")\n",
    "    a = gdf.to_crs(\"EPSG:4326\") \n",
    "    orgin_park_single = group.get_group(i)\n",
    "    orgin_park_single = orgin_park_single.reset_index()\n",
    "    \n",
    "    og = WGS1984.wgs84togcj02(orgin_park_single[\"x1\"][0],orgin_park_single[\"y1\"][0])\n",
    "    gcj_origin = str(round(og[0],6)) + \",\" + str(round(og[1],6))\n",
    "    \n",
    "    destinations = gpd.sjoin(a,orgin_park_single, how=\"inner\", op='intersects')\n",
    "    destinations = destinations.reset_index()\n",
    "    \n",
    "    frame = []\n",
    "    for i in tqdm(range(len(destinations))):\n",
    "        name = destinations.loc[i,\"公园名\"]\n",
    "        ids = destinations.loc[i,\"id\"]\n",
    "        destination = [destinations.loc[i,\"x\"],destinations.loc[i,\"y\"]]\n",
    "        destination = str(destination[0]) + \",\" + str(destination[1])\n",
    "        try:\n",
    "            line = Direction_walk_complex(key[xxid],gcj_origin,destination,name,ids)\n",
    "        except:\n",
    "            try:\n",
    "                line = Direction_walk_complex(key[xxid+1],gcj_origin,destination,name,ids)\n",
    "            except:\n",
    "                pass\n",
    "        frame.append(line)\n",
    "        \n",
    "    xid += 1\n",
    "    print(\"进展到{}\".format(str(round(xid/len(group),2))))\n",
    "    result = pd.concat(frame)\n",
    "    result.crs = 'EPSG:4326'\n",
    "    result.to_file(\"/Users/creative/Desktop/data2/result{}.geojson\".format(xid), encoding = 'gb18030')\n",
    "    all_datas.append(result)\n",
    "\n",
    "all_d = pd.concat(all_datas)\n",
    "all_d.crs = 'EPSG:4326'\n",
    "all_d.to_file(\"/Users/creative/Desktop/data2/result_all.shp\", encoding = 'gb18030')\n",
    "    "
   ]
  },
  {
   "cell_type": "markdown",
   "id": "arctic-launch",
   "metadata": {},
   "source": [
    "# 单公园验证"
   ]
  },
  {
   "cell_type": "code",
   "execution_count": 69,
   "id": "advance-sacrifice",
   "metadata": {},
   "outputs": [],
   "source": [
    "\"\"\"空间连接\"\"\"\n",
    "destinations = gpd.sjoin(a,orgin_park, how=\"inner\", op='intersects')\n",
    "destinations = destinations.reset_index()"
   ]
  },
  {
   "cell_type": "code",
   "execution_count": 70,
   "id": "killing-orlando",
   "metadata": {},
   "outputs": [],
   "source": [
    "\"\"\"起点转高德坐标\"\"\"\n",
    "origin = orgin_park.representative_point()\n",
    "a = WGS1984.wgs84togcj02(mapping(origin[0])[\"coordinates\"][0],mapping(origin[0])[\"coordinates\"][1])\n",
    "gcj_origin = str(round(a[0],6)) + \",\" + str(round(a[1],6))"
   ]
  },
  {
   "cell_type": "code",
   "execution_count": 91,
   "id": "handed-viewer",
   "metadata": {},
   "outputs": [
    {
     "name": "stderr",
     "output_type": "stream",
     "text": [
      "100%|██████████| 539/539 [01:37<00:00,  5.52it/s]\n"
     ]
    }
   ],
   "source": [
    "key = \"82ac160d4d62c7c851359ffaa2c4d2ce\"\n",
    "xid = 0\n",
    "frame = []\n",
    "for i in tqdm(range(len(destinations))):\n",
    "    name = destinations.loc[i,\"公园名\"]\n",
    "    ids = destinations.loc[i,\"id\"]\n",
    "    destination = [destinations.loc[i,\"x\"],destinations.loc[i,\"y\"]]\n",
    "    destination = str(destination[0]) + \",\" + str(destination[1])\n",
    "    line = Direction_walk_complex(key,gcj_origin,destination,name,ids)\n",
    "    frame.append(line)\n",
    "\n",
    "result = pd.concat(frame)"
   ]
  },
  {
   "cell_type": "code",
   "execution_count": 93,
   "id": "coated-contributor",
   "metadata": {},
   "outputs": [],
   "source": [
    "result.crs = 'EPSG:4326'\n",
    "result.to_file(\"/Users/creative/Desktop/result2.shp\", encoding = 'gb18030')"
   ]
  },
  {
   "cell_type": "code",
   "execution_count": null,
   "id": "veterinary-colon",
   "metadata": {},
   "outputs": [],
   "source": []
  },
  {
   "cell_type": "code",
   "execution_count": null,
   "id": "strong-handle",
   "metadata": {},
   "outputs": [],
   "source": []
  },
  {
   "cell_type": "code",
   "execution_count": null,
   "id": "historical-still",
   "metadata": {},
   "outputs": [],
   "source": []
  }
 ],
 "metadata": {
  "kernelspec": {
   "display_name": "Python 3",
   "language": "python",
   "name": "python3"
  },
  "language_info": {
   "codemirror_mode": {
    "name": "ipython",
    "version": 3
   },
   "file_extension": ".py",
   "mimetype": "text/x-python",
   "name": "python",
   "nbconvert_exporter": "python",
   "pygments_lexer": "ipython3",
   "version": "3.6.12"
  }
 },
 "nbformat": 4,
 "nbformat_minor": 5
}
