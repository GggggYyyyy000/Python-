{
 "cells": [
  {
   "cell_type": "code",
   "execution_count": 1,
   "id": "demographic-missouri",
   "metadata": {},
   "outputs": [],
   "source": [
    "from shapely.geometry import LineString\n",
    "import geopandas as gpd\n",
    "import matplotlib.pyplot as plt\n",
    "import pandas as pd\n",
    "import WGS1984\n",
    "from tqdm import tqdm\n",
    "import requests"
   ]
  },
  {
   "cell_type": "code",
   "execution_count": 2,
   "id": "fancy-employee",
   "metadata": {},
   "outputs": [],
   "source": [
    "\"\"\"利用geopandas点转线的函数\"\"\"\n",
    "def point_to_line(df,num):\n",
    "    dataGroup = df.groupby(num) \n",
    "    tb = []\n",
    "    geomList = []\n",
    "    for name,group in dataGroup:\n",
    "        tb.append(group.iloc[0,:11])\n",
    "        xyList = [xy for xy in zip(group.x, group.y)]\n",
    "        line = LineString(xyList)\n",
    "        geomList.append(line)\n",
    "    geoDataFrame = gpd.GeoDataFrame(tb, geometry = geomList)\n",
    "    return geoDataFrame"
   ]
  },
  {
   "cell_type": "code",
   "execution_count": 3,
   "id": "faced-reset",
   "metadata": {},
   "outputs": [],
   "source": [
    "def polyline_csv(polyline,id):\n",
    "    polyline = polyline.split(\";\")\n",
    "    data = []\n",
    "    walk = 0\n",
    "    for i in polyline:\n",
    "        walk += 1\n",
    "        lng = float(i.split(\",\")[0])\n",
    "        lat = float(i.split(\",\")[1])\n",
    "        a = {\"number\":walk,\"id\":id,\"x\":float(WGS1984.main(lng,lat)[0]),\"y\":float(WGS1984.main(lng,lat)[1])}\n",
    "        data.append(a)\n",
    "\n",
    "    df = pd.DataFrame(columns=[\"number\",\"id\",\"x\",\"y\"])\n",
    "    df = df.append(data,ignore_index=True)\n",
    "    return df"
   ]
  },
  {
   "cell_type": "code",
   "execution_count": 4,
   "id": "present-offer",
   "metadata": {},
   "outputs": [],
   "source": [
    "\"\"\"寻找路径节点工具[polygon：传入geodataframe的[geometry]列值，tolerance：节点合并的距离]\"\"\"\n",
    "def network_point(polygon,tolerance):\n",
    "    import osmnx as ox\n",
    "    G = ox.graph_from_polygon(polygon, network_type='all') #获取所有路网\n",
    "    G_proj = ox.project_graph(G)\n",
    "    G2 = ox.consolidate_intersections(G_proj, rebuild_graph=True, tolerance=tolerance, dead_ends=False) #简化路网\n",
    "    gdf_nodes, gdf_edges = ox.graph_to_gdfs(G)  #保存为Geodataframe\n",
    "    gdf_nodes = gdf_nodes.reset_index()  #重置索引\n",
    "    gdf_nodes = gdf_nodes.drop(columns=['osmid', 'index'])\n",
    "    for i in range(len(gdf_nodes)):\n",
    "        gcj = WGS1984.wgs84togcj02(gdf_nodes.loc[i,\"x\"],gdf_nodes.loc[i,\"y\"])\n",
    "        gdf_nodes.loc[i,\"x\"] = round(gcj[0],6)\n",
    "        gdf_nodes.loc[i,\"y\"] = round(gcj[1],6)\n",
    "    return gdf_nodes"
   ]
  },
  {
   "cell_type": "code",
   "execution_count": 12,
   "id": "brutal-surveillance",
   "metadata": {},
   "outputs": [],
   "source": [
    "\"\"\"将线路的信息具体化\"\"\"\n",
    "def Direction_walk_complex(key,origin,destination,xid):\n",
    "    import json\n",
    "    headers = {\"User-Agent\": \"Mozilla/5.0 (Windows NT 10.0; Win64; x64) AppleWebKit/537.36 (KHTML, like Gecko) Chrome/75.0.3770.80 Safari/537.36\"}\n",
    "    URL = \"https://restapi.amap.com/v3/direction/walking?parameters\"\n",
    "    keyword = {\"origin\": origin, \"destination\": destination, \"key\": key, \"output\": \"JSON\"}\n",
    "    b = requests.get(URL, headers=headers, params=keyword)\n",
    "    if b.status_code == 200:\n",
    "        html = b.text\n",
    "        json = json.loads(html)\n",
    "        dis = json[\"route\"][\"paths\"][0][\"distance\"]\n",
    "        dur = json[\"route\"][\"paths\"][0][\"duration\"]\n",
    "        path = json[\"route\"][\"paths\"][0][\"steps\"]\n",
    "        num = 0\n",
    "        frames = []\n",
    "        for i in path:\n",
    "            num = num + 1\n",
    "            polyline = i[\"polyline\"]\n",
    "            polyline_csv_frame = polyline_csv(polyline,id=num)\n",
    "            polyline_csv_frame[\"road\"] = str(i[\"road\"])\n",
    "            polyline_csv_frame[\"instruction\"] = str(i[\"instruction\"])\n",
    "            polyline_csv_frame[\"orientation\"] = str(i[\"orientation\"])\n",
    "            polyline_csv_frame[\"distance\"] = int(i[\"distance\"])\n",
    "            polyline_csv_frame[\"duration\"] = int(i[\"duration\"])\n",
    "            polyline_csv_frame[\"action\"] = str(i[\"action\"])\n",
    "            polyline_csv_frame[\"walk_type\"] = str(i[\"walk_type\"])\n",
    "            frames.append(polyline_csv_frame)\n",
    "\n",
    "        result = pd.concat(frames)\n",
    "        line = point_to_line(result,\"id\")\n",
    "\n",
    "        line[\"xid\"] = str(xid)\n",
    "        line[\"all_distance\"] = int(dis)\n",
    "        line[\"all_duration\"] = int(dur)\n",
    "\n",
    "    return line"
   ]
  },
  {
   "cell_type": "code",
   "execution_count": 6,
   "id": "intimate-racing",
   "metadata": {},
   "outputs": [],
   "source": [
    "gdf = gpd.read_file(\"/Users/creative/Desktop/data.geojson\")\n",
    "gdf['geometry']= gdf.buffer(1000) #建立一个一百米范围的缓冲区\n",
    "gdf = gdf.to_crs(\"EPSG:4326\") \n",
    "\n",
    "a = network_point(gdf[\"geometry\"][0],15)"
   ]
  },
  {
   "cell_type": "code",
   "execution_count": 7,
   "id": "controlling-latter",
   "metadata": {},
   "outputs": [],
   "source": [
    "gdf = gpd.read_file(\"/Users/creative/OneDrive - stu.hit.edu.cn/课程资料/2020 毕业论文/测试数据/dest.shp\")\n",
    "a = gdf.to_crs(\"EPSG:4326\") \n",
    "for i in range(len(a)):\n",
    "    gcj = WGS1984.wgs84togcj02(a.loc[i,\"x\"],a.loc[i,\"y\"])\n",
    "    a.loc[i,\"x\"] = round(gcj[0],6)\n",
    "    a.loc[i,\"y\"] = round(gcj[1],6)"
   ]
  },
  {
   "cell_type": "code",
   "execution_count": 13,
   "id": "permanent-profile",
   "metadata": {},
   "outputs": [
    {
     "name": "stderr",
     "output_type": "stream",
     "text": [
      "100%|██████████| 1234/1234 [03:23<00:00,  6.08it/s]\n"
     ]
    }
   ],
   "source": [
    "origin = \"113.927335,22.495977\"\n",
    "key = \"82ac160d4d62c7c851359ffaa2c4d2ce\"\n",
    "xid = 0\n",
    "frame = []\n",
    "for i in tqdm(range(len(a))):\n",
    "    xid += 1\n",
    "    destination = [a.loc[i,\"x\"],a.loc[i,\"y\"]]  #转高德坐标\n",
    "    \n",
    "    destination = str(destination[0]) + \",\" + str(destination[1])\n",
    "    line = Direction_walk_complex(key,origin,destination,xid)\n",
    "    frame.append(line)\n",
    "\n",
    "result = pd.concat(frame)"
   ]
  },
  {
   "cell_type": "code",
   "execution_count": 14,
   "id": "amino-techno",
   "metadata": {},
   "outputs": [],
   "source": [
    "result.crs = 'EPSG:4326'\n",
    "result.to_file(\"/Users/creative/Desktop/result2.shp\", encoding = 'gb18030')"
   ]
  },
  {
   "cell_type": "code",
   "execution_count": null,
   "id": "stable-excess",
   "metadata": {},
   "outputs": [],
   "source": []
  }
 ],
 "metadata": {
  "kernelspec": {
   "display_name": "Python 3",
   "language": "python",
   "name": "python3"
  },
  "language_info": {
   "codemirror_mode": {
    "name": "ipython",
    "version": 3
   },
   "file_extension": ".py",
   "mimetype": "text/x-python",
   "name": "python",
   "nbconvert_exporter": "python",
   "pygments_lexer": "ipython3",
   "version": "3.6.12"
  }
 },
 "nbformat": 4,
 "nbformat_minor": 5
}
