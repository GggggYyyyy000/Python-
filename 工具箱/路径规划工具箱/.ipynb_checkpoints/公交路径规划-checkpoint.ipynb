{
 "cells": [
  {
   "cell_type": "code",
   "execution_count": 1,
   "id": "increasing-martin",
   "metadata": {},
   "outputs": [],
   "source": [
    "import requests\n",
    "import geopandas as gpd\n",
    "import pandas as pd\n",
    "import WGS1984\n",
    "\n",
    "from tqdm import tqdm"
   ]
  },
  {
   "cell_type": "code",
   "execution_count": 27,
   "id": "yellow-chocolate",
   "metadata": {},
   "outputs": [
    {
     "data": {
      "text/plain": [
       "(8180, 3128)"
      ]
     },
     "execution_count": 27,
     "metadata": {},
     "output_type": "execute_result"
    }
   ],
   "source": [
    "ox = 113.78308\n",
    "oy = 22.697750\n",
    "\n",
    "dx = 113.814856\n",
    "dy = 22.692236\n",
    "key = \"376e811e3c5fe9355aada73ad7473a36\"\n",
    "bus_compute(ox,oy,dx,dy,key)"
   ]
  },
  {
   "cell_type": "code",
   "execution_count": 26,
   "id": "objective-party",
   "metadata": {},
   "outputs": [],
   "source": [
    "def bus_compute(ox,oy,dx,dy,key):\n",
    "    og = WGS1984.wgs84togcj02(ox,oy)\n",
    "    gcj_origin = str(round(og[0],6)) + \",\" + str(round(og[1],6))\n",
    "    de = WGS1984.wgs84togcj02(dx,dy)\n",
    "    gcj_de = str(round(de[0],6)) + \",\" + str(round(de[1],6))\n",
    "\n",
    "    headers = {\"User-Agent\": \"Mozilla/5.0 (Windows NT 10.0; Win64; x64) AppleWebKit/537.36 (KHTML, like Gecko) Chrome/75.0.3770.80 Safari/537.36\"}\n",
    "    URL = \"https://restapi.amap.com/v3/direction/transit/integrated?parameters\"\n",
    "    keyword = {\"origin\": gcj_origin, \"destination\": gcj_de, \"key\": key, \"time\": \"9:00\",\"date\": \"2021-4-24\",\"nightflag\":\"1\",\"city\":\"深圳\"}\n",
    "    \n",
    "    b = requests.get(URL, headers=headers, params=keyword)\n",
    "\n",
    "    if b.status_code == 200:\n",
    "        import json\n",
    "        html = b.text\n",
    "        json = json.loads(html)\n",
    "        dis = int(json[\"route\"][\"transits\"][0][\"distance\"])\n",
    "        dur = int(json[\"route\"][\"transits\"][0][\"duration\"])\n",
    "    return dis,dur"
   ]
  },
  {
   "cell_type": "code",
   "execution_count": 9,
   "id": "breeding-treasury",
   "metadata": {},
   "outputs": [],
   "source": [
    "work_point = gpd.read_file(\"data/work_point.geojson\")\n",
    "net = gpd.read_file(\"data/net.geojson\")"
   ]
  },
  {
   "cell_type": "code",
   "execution_count": 30,
   "id": "cultural-craps",
   "metadata": {},
   "outputs": [
    {
     "ename": "KeyError",
     "evalue": "'route'",
     "output_type": "error",
     "traceback": [
      "\u001b[0;31m---------------------------------------------------------------------------\u001b[0m",
      "\u001b[0;31mKeyError\u001b[0m                                  Traceback (most recent call last)",
      "\u001b[0;32m<ipython-input-30-6821edbae3ea>\u001b[0m in \u001b[0;36m<module>\u001b[0;34m()\u001b[0m\n\u001b[1;32m      8\u001b[0m     \u001b[0mdx\u001b[0m \u001b[0;34m=\u001b[0m \u001b[0mnet\u001b[0m\u001b[0;34m.\u001b[0m\u001b[0mloc\u001b[0m\u001b[0;34m[\u001b[0m\u001b[0ma\u001b[0m\u001b[0;34m,\u001b[0m\u001b[0;34m\"x\"\u001b[0m\u001b[0;34m]\u001b[0m\u001b[0;34m\u001b[0m\u001b[0;34m\u001b[0m\u001b[0m\n\u001b[1;32m      9\u001b[0m     \u001b[0mdy\u001b[0m \u001b[0;34m=\u001b[0m \u001b[0mnet\u001b[0m\u001b[0;34m.\u001b[0m\u001b[0mloc\u001b[0m\u001b[0;34m[\u001b[0m\u001b[0ma\u001b[0m\u001b[0;34m,\u001b[0m\u001b[0;34m\"y\"\u001b[0m\u001b[0;34m]\u001b[0m\u001b[0;34m\u001b[0m\u001b[0;34m\u001b[0m\u001b[0m\n\u001b[0;32m---> 10\u001b[0;31m     \u001b[0mda\u001b[0m \u001b[0;34m=\u001b[0m \u001b[0mbus_compute\u001b[0m\u001b[0;34m(\u001b[0m\u001b[0mox\u001b[0m\u001b[0;34m,\u001b[0m\u001b[0moy\u001b[0m\u001b[0;34m,\u001b[0m\u001b[0mdx\u001b[0m\u001b[0;34m,\u001b[0m\u001b[0mdy\u001b[0m\u001b[0;34m,\u001b[0m\u001b[0mkey\u001b[0m\u001b[0;34m)\u001b[0m\u001b[0;34m\u001b[0m\u001b[0;34m\u001b[0m\u001b[0m\n\u001b[0m\u001b[1;32m     11\u001b[0m \u001b[0;34m\u001b[0m\u001b[0m\n\u001b[1;32m     12\u001b[0m     \u001b[0;32mtry\u001b[0m\u001b[0;34m:\u001b[0m\u001b[0;34m\u001b[0m\u001b[0;34m\u001b[0m\u001b[0m\n",
      "\u001b[0;32m<ipython-input-26-0af7fd116221>\u001b[0m in \u001b[0;36mbus_compute\u001b[0;34m(ox, oy, dx, dy, key)\u001b[0m\n\u001b[1;32m     15\u001b[0m         \u001b[0mhtml\u001b[0m \u001b[0;34m=\u001b[0m \u001b[0mb\u001b[0m\u001b[0;34m.\u001b[0m\u001b[0mtext\u001b[0m\u001b[0;34m\u001b[0m\u001b[0;34m\u001b[0m\u001b[0m\n\u001b[1;32m     16\u001b[0m         \u001b[0mjson\u001b[0m \u001b[0;34m=\u001b[0m \u001b[0mjson\u001b[0m\u001b[0;34m.\u001b[0m\u001b[0mloads\u001b[0m\u001b[0;34m(\u001b[0m\u001b[0mhtml\u001b[0m\u001b[0;34m)\u001b[0m\u001b[0;34m\u001b[0m\u001b[0;34m\u001b[0m\u001b[0m\n\u001b[0;32m---> 17\u001b[0;31m         \u001b[0mdis\u001b[0m \u001b[0;34m=\u001b[0m \u001b[0mint\u001b[0m\u001b[0;34m(\u001b[0m\u001b[0mjson\u001b[0m\u001b[0;34m[\u001b[0m\u001b[0;34m\"route\"\u001b[0m\u001b[0;34m]\u001b[0m\u001b[0;34m[\u001b[0m\u001b[0;34m\"transits\"\u001b[0m\u001b[0;34m]\u001b[0m\u001b[0;34m[\u001b[0m\u001b[0;36m0\u001b[0m\u001b[0;34m]\u001b[0m\u001b[0;34m[\u001b[0m\u001b[0;34m\"distance\"\u001b[0m\u001b[0;34m]\u001b[0m\u001b[0;34m)\u001b[0m\u001b[0;34m\u001b[0m\u001b[0;34m\u001b[0m\u001b[0m\n\u001b[0m\u001b[1;32m     18\u001b[0m         \u001b[0mdur\u001b[0m \u001b[0;34m=\u001b[0m \u001b[0mint\u001b[0m\u001b[0;34m(\u001b[0m\u001b[0mjson\u001b[0m\u001b[0;34m[\u001b[0m\u001b[0;34m\"route\"\u001b[0m\u001b[0;34m]\u001b[0m\u001b[0;34m[\u001b[0m\u001b[0;34m\"transits\"\u001b[0m\u001b[0;34m]\u001b[0m\u001b[0;34m[\u001b[0m\u001b[0;36m0\u001b[0m\u001b[0;34m]\u001b[0m\u001b[0;34m[\u001b[0m\u001b[0;34m\"duration\"\u001b[0m\u001b[0;34m]\u001b[0m\u001b[0;34m)\u001b[0m\u001b[0;34m\u001b[0m\u001b[0;34m\u001b[0m\u001b[0m\n\u001b[1;32m     19\u001b[0m     \u001b[0;32mreturn\u001b[0m \u001b[0mdis\u001b[0m\u001b[0;34m,\u001b[0m\u001b[0mdur\u001b[0m\u001b[0;34m\u001b[0m\u001b[0;34m\u001b[0m\u001b[0m\n",
      "\u001b[0;31mKeyError\u001b[0m: 'route'"
     ]
    }
   ],
   "source": [
    "ox = 113.78308\n",
    "oy = 22.697750\n",
    "key = \"376e811e3c5fe9355aada73ad7473a36\"\n",
    "\n",
    "datas = []\n",
    "for a in range(len(net)):\n",
    "    did = net.loc[a,\"id\"]\n",
    "    dx = net.loc[a,\"x\"]\n",
    "    dy = net.loc[a,\"y\"]\n",
    "    da = bus_compute(ox,oy,dx,dy,key)\n",
    "    \n",
    "    try:\n",
    "        data = {\"oid\":oid,\n",
    "                \"did\":did,\n",
    "                \"distance\":da[0],\n",
    "                \"duration\":round(da[1],3)}\n",
    "        datas.append(data)\n",
    "    except:\n",
    "        pass"
   ]
  },
  {
   "cell_type": "code",
   "execution_count": 4,
   "id": "upset-payment",
   "metadata": {},
   "outputs": [
    {
     "name": "stderr",
     "output_type": "stream",
     "text": [
      "100%|██████████| 7/7 [2:24:31<00:00, 1238.73s/it]\n"
     ]
    }
   ],
   "source": [
    "key = \"376e811e3c5fe9355aada73ad7473a36\"\n",
    "\n",
    "datas = []\n",
    "for i in tqdm(range(len(work_point))):\n",
    "    og = WGS1984.wgs84togcj02(work_point.loc[i,\"x\"],work_point.loc[i,\"y\"])\n",
    "    gcj_origin = str(round(og[0],6)) + \",\" + str(round(og[1],6))\n",
    "    oid = work_point.loc[i,\"id\"]\n",
    "    \n",
    "    for a in range(len(net)):\n",
    "        de = WGS1984.wgs84togcj02(net.loc[a,\"x\"],net.loc[a,\"y\"])\n",
    "        gcj_de = str(round(de[0],6)) + \",\" + str(round(de[1],6))\n",
    "        did = net.loc[a,\"id\"]\n",
    "        try:\n",
    "            data = {\"oid\":oid,\n",
    "                    \"did\":did,\n",
    "                    \"distance\":bus_compute(gcj_origin,gcj_de,key)[0],\n",
    "                    \"duration\":round(bus_compute(gcj_origin,gcj_de,key)[1],3)}\n",
    "            datas.append(data)\n",
    "        except:\n",
    "            pass"
   ]
  },
  {
   "cell_type": "code",
   "execution_count": 5,
   "id": "competent-calculation",
   "metadata": {},
   "outputs": [],
   "source": [
    "df = pd.DataFrame(columns=[\"oid\",\"did\",\"distance\",\"duration\"])  #构建一个空表\n",
    "df = df.append(datas,ignore_index=True)\n",
    "df.to_excel(\"就业中心公交出行数据.xlsx\") "
   ]
  },
  {
   "cell_type": "code",
   "execution_count": 6,
   "id": "cloudy-monaco",
   "metadata": {},
   "outputs": [
    {
     "data": {
      "text/html": [
       "<div>\n",
       "<style scoped>\n",
       "    .dataframe tbody tr th:only-of-type {\n",
       "        vertical-align: middle;\n",
       "    }\n",
       "\n",
       "    .dataframe tbody tr th {\n",
       "        vertical-align: top;\n",
       "    }\n",
       "\n",
       "    .dataframe thead th {\n",
       "        text-align: right;\n",
       "    }\n",
       "</style>\n",
       "<table border=\"1\" class=\"dataframe\">\n",
       "  <thead>\n",
       "    <tr style=\"text-align: right;\">\n",
       "      <th></th>\n",
       "      <th>oid</th>\n",
       "      <th>did</th>\n",
       "      <th>distance</th>\n",
       "      <th>duration</th>\n",
       "    </tr>\n",
       "  </thead>\n",
       "  <tbody>\n",
       "    <tr>\n",
       "      <th>0</th>\n",
       "      <td>1</td>\n",
       "      <td>16</td>\n",
       "      <td>12.527</td>\n",
       "      <td>82.383</td>\n",
       "    </tr>\n",
       "    <tr>\n",
       "      <th>1</th>\n",
       "      <td>1</td>\n",
       "      <td>17</td>\n",
       "      <td>12.406</td>\n",
       "      <td>80.650</td>\n",
       "    </tr>\n",
       "    <tr>\n",
       "      <th>2</th>\n",
       "      <td>1</td>\n",
       "      <td>19</td>\n",
       "      <td>6.130</td>\n",
       "      <td>75.300</td>\n",
       "    </tr>\n",
       "    <tr>\n",
       "      <th>3</th>\n",
       "      <td>1</td>\n",
       "      <td>20</td>\n",
       "      <td>5.281</td>\n",
       "      <td>64.517</td>\n",
       "    </tr>\n",
       "    <tr>\n",
       "      <th>4</th>\n",
       "      <td>1</td>\n",
       "      <td>22</td>\n",
       "      <td>5.156</td>\n",
       "      <td>58.167</td>\n",
       "    </tr>\n",
       "    <tr>\n",
       "      <th>...</th>\n",
       "      <td>...</td>\n",
       "      <td>...</td>\n",
       "      <td>...</td>\n",
       "      <td>...</td>\n",
       "    </tr>\n",
       "    <tr>\n",
       "      <th>11828</th>\n",
       "      <td>7</td>\n",
       "      <td>3619</td>\n",
       "      <td>40.325</td>\n",
       "      <td>212.867</td>\n",
       "    </tr>\n",
       "    <tr>\n",
       "      <th>11829</th>\n",
       "      <td>7</td>\n",
       "      <td>3620</td>\n",
       "      <td>40.771</td>\n",
       "      <td>219.250</td>\n",
       "    </tr>\n",
       "    <tr>\n",
       "      <th>11830</th>\n",
       "      <td>7</td>\n",
       "      <td>3621</td>\n",
       "      <td>33.341</td>\n",
       "      <td>158.333</td>\n",
       "    </tr>\n",
       "    <tr>\n",
       "      <th>11831</th>\n",
       "      <td>7</td>\n",
       "      <td>3622</td>\n",
       "      <td>32.134</td>\n",
       "      <td>141.083</td>\n",
       "    </tr>\n",
       "    <tr>\n",
       "      <th>11832</th>\n",
       "      <td>7</td>\n",
       "      <td>3623</td>\n",
       "      <td>30.506</td>\n",
       "      <td>117.833</td>\n",
       "    </tr>\n",
       "  </tbody>\n",
       "</table>\n",
       "<p>11833 rows × 4 columns</p>\n",
       "</div>"
      ],
      "text/plain": [
       "      oid   did  distance  duration\n",
       "0       1    16    12.527    82.383\n",
       "1       1    17    12.406    80.650\n",
       "2       1    19     6.130    75.300\n",
       "3       1    20     5.281    64.517\n",
       "4       1    22     5.156    58.167\n",
       "...    ..   ...       ...       ...\n",
       "11828   7  3619    40.325   212.867\n",
       "11829   7  3620    40.771   219.250\n",
       "11830   7  3621    33.341   158.333\n",
       "11831   7  3622    32.134   141.083\n",
       "11832   7  3623    30.506   117.833\n",
       "\n",
       "[11833 rows x 4 columns]"
      ]
     },
     "execution_count": 6,
     "metadata": {},
     "output_type": "execute_result"
    }
   ],
   "source": [
    "df"
   ]
  },
  {
   "cell_type": "code",
   "execution_count": null,
   "id": "experimental-ordinance",
   "metadata": {},
   "outputs": [],
   "source": []
  }
 ],
 "metadata": {
  "kernelspec": {
   "display_name": "Python 3",
   "language": "python",
   "name": "python3"
  },
  "language_info": {
   "codemirror_mode": {
    "name": "ipython",
    "version": 3
   },
   "file_extension": ".py",
   "mimetype": "text/x-python",
   "name": "python",
   "nbconvert_exporter": "python",
   "pygments_lexer": "ipython3",
   "version": "3.6.12"
  }
 },
 "nbformat": 4,
 "nbformat_minor": 5
}
