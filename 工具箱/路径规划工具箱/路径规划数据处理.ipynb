{
 "cells": [
  {
   "cell_type": "code",
   "execution_count": 3,
   "id": "progressive-compensation",
   "metadata": {},
   "outputs": [],
   "source": [
    "import geopandas as gpd\n",
    "import matplotlib.pyplot as plt\n",
    "import pandas as pd"
   ]
  },
  {
   "cell_type": "code",
   "execution_count": 6,
   "id": "manufactured-secret",
   "metadata": {},
   "outputs": [
    {
     "name": "stdout",
     "output_type": "stream",
     "text": [
      "宝安区:92\n",
      "福田区:52\n",
      "光大坪:40\n",
      "龙岗区:69\n",
      "龙华区:39\n",
      "罗湖区:32\n",
      "南山区:42\n",
      "盐田区:6\n"
     ]
    }
   ],
   "source": [
    "areas = [\"宝安区\",\"福田区\",\"光大坪\",\"龙岗区\",\"龙华区\",\"罗湖区\",\"南山区\",\"盐田区\"] \n",
    "for i in areas:\n",
    "    path = \"/Users/creative/OneDrive - stu.hit.edu.cn/课程资料/2020 毕业论文/中期检查/Database/07-connectivity/{}.shp\".format(i)\n",
    "    df = gpd.read_file(path)\n",
    "    print(\"{}:{}\".format(i,len(df[\"park\"].unique())))\n",
    "    group = df.groupby(\"park\")\n",
    "    parklist = df[\"park\"].unique().tolist()\n",
    "    data = []\n",
    "    for td in parklist:\n",
    "        a = group.get_group(td)\n",
    "        data_analysis = a.dissolve(by='id')\n",
    "        data.append(data_analysis)\n",
    "    x = pd.concat(data)\n",
    "    x = x.to_crs(\"EPSG:3857\") \n",
    "    x.to_file(\"/Users/creative/OneDrive - stu.hit.edu.cn/课程资料/2020 毕业论文/中期检查/Database/07-connectivity/calculate/{}result_all.shp\".format(i), encoding = 'gb18030')"
   ]
  },
  {
   "cell_type": "markdown",
   "id": "continental-contract",
   "metadata": {},
   "source": [
    "# 检查数据完整性"
   ]
  },
  {
   "cell_type": "code",
   "execution_count": 40,
   "id": "accessible-bulgaria",
   "metadata": {},
   "outputs": [
    {
     "data": {
      "text/plain": [
       "6"
      ]
     },
     "execution_count": 40,
     "metadata": {},
     "output_type": "execute_result"
    }
   ],
   "source": [
    "len(df[\"park\"].unique())"
   ]
  },
  {
   "cell_type": "markdown",
   "id": "frank-restoration",
   "metadata": {},
   "source": [
    "# 数据融合"
   ]
  },
  {
   "cell_type": "code",
   "execution_count": 41,
   "id": "regular-helen",
   "metadata": {},
   "outputs": [],
   "source": [
    "group = df.groupby(\"park\")\n",
    "parklist = df[\"park\"].unique().tolist()"
   ]
  },
  {
   "cell_type": "code",
   "execution_count": 44,
   "id": "absolute-modern",
   "metadata": {},
   "outputs": [],
   "source": [
    "data = []\n",
    "for i in parklist:\n",
    "    a = group.get_group(i)\n",
    "    data_analysis = a.dissolve(by='id')\n",
    "    data.append(data_analysis)\n",
    "x = pd.concat(data)\n",
    "x = x.to_crs(\"EPSG:3857\") "
   ]
  },
  {
   "cell_type": "code",
   "execution_count": 45,
   "id": "applicable-ordinance",
   "metadata": {},
   "outputs": [],
   "source": [
    "x.to_file(\"/Users/creative/Desktop/result_all.shp\", encoding = 'gb18030')"
   ]
  },
  {
   "cell_type": "code",
   "execution_count": 37,
   "id": "compliant-cabin",
   "metadata": {},
   "outputs": [],
   "source": [
    "dff = df.dissolve(by='park')\n",
    "dff.to_file(\"/Users/creative/Desktop/文章.shp\", encoding = 'gb18030')"
   ]
  },
  {
   "cell_type": "code",
   "execution_count": null,
   "id": "decreased-default",
   "metadata": {},
   "outputs": [],
   "source": []
  }
 ],
 "metadata": {
  "kernelspec": {
   "display_name": "Python 3",
   "language": "python",
   "name": "python3"
  },
  "language_info": {
   "codemirror_mode": {
    "name": "ipython",
    "version": 3
   },
   "file_extension": ".py",
   "mimetype": "text/x-python",
   "name": "python",
   "nbconvert_exporter": "python",
   "pygments_lexer": "ipython3",
   "version": "3.6.12"
  }
 },
 "nbformat": 4,
 "nbformat_minor": 5
}
