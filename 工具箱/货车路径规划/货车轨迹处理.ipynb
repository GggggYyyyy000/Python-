{
 "cells": [
  {
   "cell_type": "code",
   "execution_count": 1,
   "id": "frank-calculation",
   "metadata": {},
   "outputs": [],
   "source": [
    "import requests\n",
    "import geopandas as gpd\n",
    "import pandas as pd\n",
    "from shapely.geometry import LineString,mapping\n",
    "import WGS1984\n",
    "\n",
    "from tqdm import tqdm\n",
    "import matplotlib.pyplot as plt\n",
    "import haversine as hs"
   ]
  },
  {
   "cell_type": "code",
   "execution_count": 2,
   "id": "relevant-knowing",
   "metadata": {},
   "outputs": [],
   "source": [
    "def point_to_line(df):\n",
    "    df = df.reset_index()\n",
    "    df = df.sort_values(\"time\")\n",
    "    df.loc[0,\"time_seg\"] = 0\n",
    "    df.loc[0,\"distance\"] = 0 \n",
    "    \n",
    "    print(df[\"车牌\"].unique())\n",
    "    \n",
    "    for i in range(len(df)-1):\n",
    "        df.loc[i+1,\"time_seg\"] = (df.loc[i+1,\"time\"] - df.loc[i,\"time\"]).total_seconds()\n",
    "        df.loc[i+1,\"distance\"] = hs.haversine((df.loc[i+1,\"y\"],df.loc[i+1,\"x\"]),(df.loc[i,\"y\"],df.loc[i,\"x\"]))*1000\n",
    "\n",
    "        if float(df.loc[i,\"time_seg\"])*50 < float(df.loc[i,\"distance\"]):\n",
    "            df.loc[i,\"sb\"] = 1\n",
    "        else:\n",
    "            df.loc[i,\"sb\"] = 0\n",
    "        \n",
    "    try:\n",
    "        df = df[df['sb']==0]\n",
    "    except:\n",
    "        df = df\n",
    "\n",
    "    return LineString(df.sort_values(\"time\")[[\"x\",\"y\"]].values)"
   ]
  },
  {
   "cell_type": "code",
   "execution_count": 3,
   "id": "unknown-contractor",
   "metadata": {},
   "outputs": [],
   "source": [
    "df = pd.read_csv(\"/Users/creative/NutstoreCloudBridge/我的坚果云/文件转存区/Win/data/20161115.csv\")"
   ]
  },
  {
   "cell_type": "code",
   "execution_count": 3,
   "id": "former-slide",
   "metadata": {},
   "outputs": [],
   "source": [
    "df = pd.read_excel(\"/Users/creative/Desktop/问题数据位置点.xlsx\")"
   ]
  },
  {
   "cell_type": "code",
   "execution_count": 4,
   "id": "figured-organ",
   "metadata": {},
   "outputs": [],
   "source": [
    "#找到为1的车牌\n",
    "count = {'车牌':df[\"车牌\"].value_counts().index,'numbers':df[\"车牌\"].value_counts().values}\n",
    "df_count = pd.DataFrame(count)\n",
    "#连接属性表\n",
    "adf = pd.merge(df,df_count,on=\"车牌\")"
   ]
  },
  {
   "cell_type": "code",
   "execution_count": 5,
   "id": "radical-working",
   "metadata": {},
   "outputs": [],
   "source": [
    "#删除为1的车牌\n",
    "adf = adf[adf['numbers'] > 2]"
   ]
  },
  {
   "cell_type": "code",
   "execution_count": 6,
   "id": "particular-adaptation",
   "metadata": {},
   "outputs": [],
   "source": [
    "#转换时间序列\n",
    "adf['time']=pd.to_datetime(adf[\"time\"]) "
   ]
  },
  {
   "cell_type": "code",
   "execution_count": 7,
   "id": "behind-royalty",
   "metadata": {},
   "outputs": [
    {
     "name": "stdout",
     "output_type": "stream",
     "text": [
      "['粤BAB218']\n",
      "['粤BAD542']\n",
      "['粤BAE971']\n",
      "['粤BAF029']\n",
      "['粤BAF669']\n",
      "['粤BAJ751']\n",
      "['粤BAL262']\n",
      "['粤BAL626']\n",
      "['粤BAL641']\n",
      "['粤BAL646']\n",
      "['粤BAL676']\n",
      "['粤BAN059']\n",
      "['粤BAN157']\n",
      "['粤BAN358']\n",
      "['粤BAN783']\n",
      "['粤BAP003']\n",
      "['粤BAQ537']\n",
      "['粤BAU522']\n",
      "['粤BB9937']\n",
      "['粤BBH619']\n",
      "['粤BBP970']\n",
      "['粤BBQ017']\n",
      "['粤BBQ139']\n",
      "['粤BBT093']\n",
      "['粤BC0918']\n",
      "['粤BCL317']\n",
      "['粤BCL486']\n",
      "['粤BCR068']\n",
      "['粤BCR469']\n",
      "['粤BCR908']\n",
      "['粤BCU923']\n",
      "['粤BCW819']\n",
      "['粤BCW861']\n",
      "['粤BCW863']\n",
      "['粤BCW867']\n",
      "['粤BCW941']\n",
      "['粤BCW951']\n",
      "['粤BCX340']\n",
      "['粤BCY116']\n",
      "['粤BCY123']\n",
      "['粤BCY233']\n",
      "['粤BCY350']\n",
      "['粤BCY357']\n",
      "['粤BCY429']\n",
      "['粤BCY668']\n",
      "['粤BCY685']\n",
      "['粤BCY729']\n",
      "['粤BCY962']\n",
      "['粤BCZ247']\n",
      "['粤BCZ310']\n",
      "['粤BDB205']\n",
      "['粤BDB685']\n",
      "['粤BDC146']\n",
      "['粤BDC157']\n",
      "['粤BDC473']\n",
      "['粤BDC479']\n",
      "['粤BDC486']\n",
      "['粤BDC495']\n",
      "['粤BDC820']\n",
      "['粤BDE672']\n",
      "['粤BDE675']\n",
      "['粤BDE678']\n",
      "['粤BDE685']\n",
      "['粤BDG103']\n",
      "['粤BDH369']\n",
      "['粤BDK223']\n",
      "['粤BDY550']\n",
      "['粤BE3811']\n",
      "['粤BE8242']\n",
      "['粤BE9020']\n",
      "['粤BEM681']\n",
      "['粤BES242']\n",
      "['粤BF4012']\n",
      "['粤BH0212']\n",
      "['粤BH6421']\n",
      "['粤BJ6848']\n",
      "['粤BJ7843']\n",
      "['粤BJ8828']\n",
      "['粤BK1757']\n",
      "['粤BK2540']\n",
      "['粤BK9007']\n",
      "['粤BL6251']\n",
      "['粤BN6943']\n",
      "['粤BU5335']\n",
      "['粤BV9778']\n",
      "['粤BW5670']\n",
      "['粤BW5692']\n",
      "['粤BW7208']\n",
      "['粤BX4842']\n",
      "['粤BX7693']\n",
      "['粤BX7842']\n",
      "['粤BX8761']\n",
      "['粤BY2727']\n",
      "['粤BY3121']\n",
      "['粤BY8552']\n",
      "['粤BZ1895']\n",
      "['粤BZ2905']\n",
      "['粤BZ4218']\n",
      "['粤BZ6437']\n",
      "['粤BZ6621']\n",
      "['粤BZ8250']\n"
     ]
    }
   ],
   "source": [
    "#点集转线\n",
    "line = (adf\n",
    "           .groupby(\"车牌\")\n",
    "           .apply(point_to_line)\n",
    "           .to_frame(name=\"geometry\")\n",
    "           .pipe(gpd.GeoDataFrame,crs=\"EPSG:4326\"))"
   ]
  },
  {
   "cell_type": "code",
   "execution_count": 8,
   "id": "fossil-research",
   "metadata": {},
   "outputs": [],
   "source": [
    "lines = line.merge(df, on='车牌')\n",
    "lines = lines.drop_duplicates('车牌')\n",
    "lines = lines.drop(columns=['time', 'parking_time','status','x','y'])\n",
    "lines = lines.reset_index()"
   ]
  },
  {
   "cell_type": "code",
   "execution_count": 10,
   "id": "entire-beginning",
   "metadata": {},
   "outputs": [],
   "source": [
    "lines.to_file('/Users/creative/Desktop/问题轨迹.shp',encoding = 'gb18030') "
   ]
  },
  {
   "cell_type": "code",
   "execution_count": null,
   "id": "essential-threat",
   "metadata": {},
   "outputs": [],
   "source": []
  }
 ],
 "metadata": {
  "kernelspec": {
   "display_name": "Python 3",
   "language": "python",
   "name": "python3"
  },
  "language_info": {
   "codemirror_mode": {
    "name": "ipython",
    "version": 3
   },
   "file_extension": ".py",
   "mimetype": "text/x-python",
   "name": "python",
   "nbconvert_exporter": "python",
   "pygments_lexer": "ipython3",
   "version": "3.6.12"
  }
 },
 "nbformat": 4,
 "nbformat_minor": 5
}
