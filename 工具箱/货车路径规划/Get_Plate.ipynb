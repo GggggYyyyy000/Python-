{
 "cells": [
  {
   "cell_type": "code",
   "execution_count": 12,
   "metadata": {},
   "outputs": [
    {
     "name": "stdout",
     "output_type": "stream",
     "text": [
      "16226\n"
     ]
    }
   ],
   "source": [
    "#此代码是为了分析新能源卡车的使用情况\n",
    "############首先读取源文件，提取车辆车牌信息并转换格式\n",
    "import pandas as pd\n",
    "import urllib.parse\n",
    "import os \n",
    "#获取指定目录的文件名，路径和子文件夹，并过滤文件类型\n",
    "def file_name(file_dir):  \n",
    "    L=[]  \n",
    "    for root, dirs, files in os.walk(file_dir):      #该函数得到一个三元tupple(dirpath, dirnames, filenames)\n",
    "        for file in files: \n",
    "            if os.path.splitext(file)[1] == '.txt':   # os.path.splitext() 将文件名和扩展名分开\n",
    "                plate_code=file.split(\".\")[0]\n",
    "                plate=urllib.parse.unquote(plate_code,encoding = 'gbk')\n",
    "                if plate[-1]==\"D\":   #找到车牌最后一位是字母D的车牌\n",
    "                    text_file_name=os.path.join(root, file)\n",
    "                    df_data=pd.read_csv(text_file_name,delimiter=\":\")\n",
    "                    file=text_file_name.replace('.txt','.csv')\n",
    "                    csv_file_name=urllib.parse.unquote(file,encoding = 'gbk')\n",
    "                    df_data.to_csv(csv_file_name, encoding='gbk', header=['经度','纬度','GPS时间','GPS速度','方向','事件','报警编码','GPS经度','GPS纬度','海拔',\n",
    "'记录仪速度','里程','错误类型','运营商码','接收时间'],index=False)\n",
    "                    L.append(csv_file_name)                               \n",
    "    return L\n",
    "\n",
    "files=file_name(r'F:\\轨迹\\track_20200831\\track\\2020\\08\\31')\n",
    "file_name=pd.DataFrame(files,columns=[\"name\"])\n",
    "file_name.to_excel(r'F:\\轨迹\\truck_plates.xlsx',index=None)\n",
    "print(len(file_name))# Not bad，筛选出1万多个两地车牌"
   ]
  },
  {
   "cell_type": "code",
   "execution_count": 16,
   "metadata": {},
   "outputs": [
    {
     "name": "stdout",
     "output_type": "stream",
     "text": [
      "4469\n"
     ]
    }
   ],
   "source": [
    "#1为蓝色，2为黄色，大概1万多辆，6？93\n",
    "#93开头的应该是分析目标车辆，有4000多辆是纯泥头车\n",
    "E_heavy_truck=[]\n",
    "df_truck_gps_file_path_rec=pd.read_excel(r'F:\\轨迹\\truck_plates.xlsx',sheet_name=0,header=0)\n",
    "for i in range(df_truck_gps_file_path_rec.shape[0]):\n",
    "    file_path=df_truck_gps_file_path_rec.iat[i,0]\n",
    "    plate_code=file_path.split(\"\\\\\")[-1]\n",
    "    plate_color_code=int(plate_code.split(\"_\")[0])\n",
    "    if plate_color_code==93:                             #按照需求进行判断提前相应的车辆\n",
    "         E_heavy_truck.append(file_path)\n",
    "\n",
    "file_name=pd.DataFrame(E_heavy_truck,columns=[\"name\"])\n",
    "file_name.to_excel(r'F:\\轨迹\\E_heavy_truck_truck.xlsx',index=None)\n",
    "print(len(file_name))# Not bad，筛选出1万多个两地车牌                    "
   ]
  },
  {
   "cell_type": "code",
   "execution_count": null,
   "metadata": {},
   "outputs": [],
   "source": [
    "\n"
   ]
  },
  {
   "cell_type": "code",
   "execution_count": null,
   "metadata": {},
   "outputs": [],
   "source": []
  }
 ],
 "metadata": {
  "kernelspec": {
   "display_name": "Python 3",
   "language": "python",
   "name": "python3"
  },
  "language_info": {
   "codemirror_mode": {
    "name": "ipython",
    "version": 3
   },
   "file_extension": ".py",
   "mimetype": "text/x-python",
   "name": "python",
   "nbconvert_exporter": "python",
   "pygments_lexer": "ipython3",
   "version": "3.6.12"
  }
 },
 "nbformat": 4,
 "nbformat_minor": 4
}
