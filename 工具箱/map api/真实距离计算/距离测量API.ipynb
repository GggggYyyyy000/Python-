{
 "cells": [
  {
   "cell_type": "markdown",
   "id": "alpha-strategy",
   "metadata": {},
   "source": [
    "## 坐标转换模块"
   ]
  },
  {
   "cell_type": "code",
   "execution_count": 45,
   "id": "subsequent-lesbian",
   "metadata": {},
   "outputs": [],
   "source": [
    "import geopandas as gpd\n",
    "import pandas as pd\n",
    "import requests\n",
    "import WGS1984"
   ]
  },
  {
   "cell_type": "code",
   "execution_count": 46,
   "id": "juvenile-silicon",
   "metadata": {},
   "outputs": [],
   "source": [
    "def earth_to_mars(location):\n",
    "    a = WGS1984.wgs84togcj02(float(location.split(\",\")[0]),float(location.split(\",\")[1]))\n",
    "    return str(round(a[0],6)) + \",\" + str(round(a[1],6))"
   ]
  },
  {
   "cell_type": "markdown",
   "id": "everyday-cigarette",
   "metadata": {},
   "source": [
    "## type:路径计算的方式和方法\n",
    "- 0：直线距离\n",
    "- 1：驾车导航距离（仅支持国内坐标）。必须指出，当为1时会考虑路况，故在不同时间请求返回结果可能不同。\n",
    "- 3：步行规划距离（仅支持5km之间的距离）"
   ]
  },
  {
   "cell_type": "code",
   "execution_count": 47,
   "id": "smaller-interpretation",
   "metadata": {},
   "outputs": [],
   "source": [
    "def Direction_walk_complex(origin,destination,types,key):\n",
    "    headers = {\"User-Agent\": \"Mozilla/5.0 (Windows NT 10.0; Win64; x64) AppleWebKit/537.36 (KHTML, like Gecko) Chrome/75.0.3770.80 Safari/537.36\"}\n",
    "    URL = \"https://restapi.amap.com/v3/distance?parameters\"\n",
    "    keyword = {\"origins\": earth_to_mars(origin), \"destination\": earth_to_mars(destination), \"key\": key, \"type\": types}\n",
    "    b = requests.get(URL, headers=headers, params=keyword)\n",
    "    if b.status_code == 200:\n",
    "        import json\n",
    "        html = b.text\n",
    "        distance = int(json.loads(html)[\"results\"][0][\"distance\"])/1000   #距离单位为千米\n",
    "        duration = int(json.loads(html)[\"results\"][0][\"duration\"])/60     #时间单位为分\n",
    "    \n",
    "    return {\"distance\":distance,\"duration\":duration}"
   ]
  },
  {
   "cell_type": "markdown",
   "id": "written-wales",
   "metadata": {},
   "source": [
    "## 中心点坐标与距离计算函数构建"
   ]
  },
  {
   "cell_type": "code",
   "execution_count": 48,
   "id": "iraqi-emphasis",
   "metadata": {},
   "outputs": [],
   "source": [
    "from shapely.geometry import LineString,Point,Polygon,mapping"
   ]
  },
  {
   "cell_type": "code",
   "execution_count": 49,
   "id": "narrow-samba",
   "metadata": {},
   "outputs": [],
   "source": [
    "\"获得所有中心的坐标\"\n",
    "file01 = gpd.read_file(\"/Users/creative/OneDrive - stu.hit.edu.cn/课程资料/2020 毕业论文/中期检查/Database/POI/SZ_city_center.shp\")\n",
    "center = []\n",
    "for i in range(len(file01)):\n",
    "    geocord = file01.loc[i,\"geometry\"]\n",
    "    center.append(str(mapping(geocord)[\"coordinates\"][0]) + \",\" + str(mapping(geocord)[\"coordinates\"][1]))"
   ]
  },
  {
   "cell_type": "code",
   "execution_count": 51,
   "id": "designed-obligation",
   "metadata": {},
   "outputs": [],
   "source": [
    "def compute(point):\n",
    "    distance = []\n",
    "    key = [\"21f808ea634227cd00bcb4459a62c5c3\",\"1308619c6fec91b984ce5f11f1c58d3a\",\"82ac160d4d62c7c851359ffaa2c4d2ce\"]\n",
    "    for i in center:\n",
    "        try:\n",
    "            distance.append(Direction_walk_complex(point,i,\"1\",key[0])[\"distance\"])\n",
    "        except:\n",
    "            try:\n",
    "                distance.append(Direction_walk_complex(point,i,\"1\",key[1])[\"distance\"])\n",
    "            except:\n",
    "                distance.append(Direction_walk_complex(point,i,\"1\",key[2])[\"distance\"])\n",
    "        \n",
    "    return min(distance)"
   ]
  },
  {
   "cell_type": "markdown",
   "id": "received-luxembourg",
   "metadata": {},
   "source": [
    "## 数据读取模块，运行模块"
   ]
  },
  {
   "cell_type": "code",
   "execution_count": 52,
   "id": "rapid-cameroon",
   "metadata": {},
   "outputs": [],
   "source": [
    "from tqdm import tqdm"
   ]
  },
  {
   "cell_type": "code",
   "execution_count": 53,
   "id": "sitting-anthony",
   "metadata": {},
   "outputs": [],
   "source": [
    "park_point = gpd.read_file(\"/Users/creative/OneDrive - stu.hit.edu.cn/课程资料/2020 毕业论文/中期检查/Database/POI/公园点.shp\",encoding = \"utf8\")"
   ]
  },
  {
   "cell_type": "code",
   "execution_count": 54,
   "id": "supported-literature",
   "metadata": {},
   "outputs": [],
   "source": [
    "park_point = park_point.to_crs(\"EPSG:4326\")"
   ]
  },
  {
   "cell_type": "code",
   "execution_count": 55,
   "id": "living-german",
   "metadata": {},
   "outputs": [
    {
     "name": "stderr",
     "output_type": "stream",
     "text": [
      "100%|██████████| 540/540 [05:04<00:00,  1.78it/s]\n"
     ]
    }
   ],
   "source": [
    "for i in tqdm(range(len(park_point))):\n",
    "    geocords = park_point.loc[i,\"geometry\"]\n",
    "    point = str(mapping(geocords)[\"coordinates\"][0]) + \",\" + str(mapping(geocords)[\"coordinates\"][1])\n",
    "    park_point.loc[i,\"市中心距离\"] = compute(point)"
   ]
  },
  {
   "cell_type": "code",
   "execution_count": 59,
   "id": "interior-western",
   "metadata": {},
   "outputs": [],
   "source": [
    "park_point.to_csv(\"/Users/creative/OneDrive - stu.hit.edu.cn/课程资料/2020 毕业论文/中期检查/Database/Excel/市中心距离.csv\",encoding='utf-8')"
   ]
  },
  {
   "cell_type": "code",
   "execution_count": null,
   "id": "acting-malawi",
   "metadata": {},
   "outputs": [],
   "source": []
  }
 ],
 "metadata": {
  "kernelspec": {
   "display_name": "Python 3",
   "language": "python",
   "name": "python3"
  },
  "language_info": {
   "codemirror_mode": {
    "name": "ipython",
    "version": 3
   },
   "file_extension": ".py",
   "mimetype": "text/x-python",
   "name": "python",
   "nbconvert_exporter": "python",
   "pygments_lexer": "ipython3",
   "version": "3.6.12"
  }
 },
 "nbformat": 4,
 "nbformat_minor": 5
}
