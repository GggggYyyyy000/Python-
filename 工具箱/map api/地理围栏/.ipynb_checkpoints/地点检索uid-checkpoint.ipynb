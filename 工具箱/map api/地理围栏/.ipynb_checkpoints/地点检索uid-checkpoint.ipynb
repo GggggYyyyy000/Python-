{
 "cells": [
  {
   "cell_type": "code",
   "execution_count": 10,
   "id": "frozen-cotton",
   "metadata": {},
   "outputs": [],
   "source": [
    "import requests\n",
    "import pandas as pd\n",
    "from tqdm import tqdm"
   ]
  },
  {
   "cell_type": "markdown",
   "id": "former-literature",
   "metadata": {},
   "source": [
    "# 地点详情检索[寻找uid]\n",
    "通过名称寻找uid，但是有些数据是有问题的，需要进行手动筛选\n",
    "\n",
    "也可以通过地址来进行地理编码检索，同样可能存在误差的问题，要进行排除"
   ]
  },
  {
   "cell_type": "code",
   "execution_count": 50,
   "id": "injured-marble",
   "metadata": {},
   "outputs": [],
   "source": [
    "def poi_get(query,key,address):\n",
    "    import json\n",
    "    url = \"http://api.map.baidu.com/place/v2/search?\"\n",
    "    keywords = {\"ak\": key, \"query\": query, \"region\": \"深圳\", \"output\": \"json\",\"tag\":\"房地产;住宅区\",\"scope\":\"2\",\"coord_type\":\"1\"}\n",
    "    headers = {\"User-Agent\": \"Mozilla/5.0 (Windows NT 10.0; Win64; x64) AppleWebKit/537.36 (KHTML, like Gecko) Chrome/75.0.3770.80 Safari/537.36\"}\n",
    "    a = requests.get(url, params=keywords, headers=headers)\n",
    "    if a.status_code == 200:\n",
    "        html = a.text   \n",
    "        json = json.loads(html)[\"results\"]\n",
    "        for i in json:\n",
    "            if i[\"detail_info\"][\"tag\"] == \"房地产;住宅区\":\n",
    "                data = {\"base_name\":query,\"address\":address,\"name\":i[\"name\"],\"uid\":i[\"uid\"],\"lng\":i[\"location\"][\"lng\"],\"lat\":i[\"location\"][\"lat\"]}\n",
    "                return data"
   ]
  },
  {
   "cell_type": "code",
   "execution_count": 45,
   "id": "pediatric-singer",
   "metadata": {},
   "outputs": [
    {
     "name": "stderr",
     "output_type": "stream",
     "text": [
      "100%|██████████| 286/286 [00:50<00:00,  5.64it/s]\n"
     ]
    }
   ],
   "source": [
    "key = \"zfetLGY71RsWuZP3xZKc7WrM0rurWPVd\"\n",
    "data_df = pd.DataFrame(columns=[\"base_name\",\"address\",\"name\",\"uid\",\"lng\",\"lat\"])  #构建一个空表\n",
    "datas = []\n",
    "\n",
    "df = pd.read_excel(\"/Users/creative/Nutstore Files/Rudolph/20.10.28/保障性住房数据/原始数据/2012-2019深圳保障房竣工项目/2012-2020年保障性住房竣工项目.xlsx\")\n",
    "for i in tqdm(range(len(df))):\n",
    "    query = df.loc[i,\"项目名称\"]\n",
    "    address = df.loc[i,\"建设地址\"]\n",
    "    try: \n",
    "        data = poi_get(query,key,address)\n",
    "        if data == None:\n",
    "            data = {\"base_name\":query,\"address\":address,\"name\":\"\",\"uid\":\"\",\"lng\":\"\",\"lat\":\"\"}\n",
    "            datas.append(data)\n",
    "        else:\n",
    "            datas.append(data)\n",
    "    except:\n",
    "        data = {\"base_name\":query,\"address\":address,\"name\":\"\",\"uid\":\"\",\"lng\":\"\",\"lat\":\"\"}\n",
    "        datas.append(data)\n",
    "    \n",
    "data_df = data_df.append(datas,ignore_index=True)\n",
    "data_df.to_excel(\"house_uid.xlsx\") "
   ]
  },
  {
   "cell_type": "markdown",
   "id": "crazy-mexico",
   "metadata": {},
   "source": [
    "# 下载地理围栏\n",
    "通过第二个独立的程序来下载地理边界围栏，修改版本可以直接保存为geojson版本\n",
    "uid数据保证为列表的形式，geo_boundary会通过列表依次检索相关的地理围栏，如果没有对应的地理围栏uid将会被抛出，不起作用。"
   ]
  },
  {
   "cell_type": "code",
   "execution_count": 2,
   "id": "breathing-crystal",
   "metadata": {},
   "outputs": [],
   "source": [
    "import geo_boundary\n",
    "import geopandas as gpd\n",
    "from shapely.geometry import LineString,Point,Polygon,mapping"
   ]
  },
  {
   "cell_type": "code",
   "execution_count": 3,
   "id": "senior-prefix",
   "metadata": {},
   "outputs": [],
   "source": [
    "dff = pd.read_excel(\"/Users/creative/Nutstore Files/Rudolph/20.10.28/保障性住房数据/原始数据/2012-2019深圳保障房竣工项目/house_uid3.xlsx\")"
   ]
  },
  {
   "cell_type": "code",
   "execution_count": 4,
   "id": "fossil-temperature",
   "metadata": {},
   "outputs": [],
   "source": [
    "uid = []\n",
    "for i in range(len(dff)):\n",
    "    uid.append(dff.loc[i,\"uid\"])"
   ]
  },
  {
   "cell_type": "code",
   "execution_count": 5,
   "id": "final-carter",
   "metadata": {},
   "outputs": [],
   "source": [
    "uid = [uid_ for uid_ in uid if uid_ == uid_]"
   ]
  },
  {
   "cell_type": "code",
   "execution_count": 6,
   "id": "revised-clock",
   "metadata": {},
   "outputs": [],
   "source": [
    "#uid = [\"d5577613b853c00e85420ef7\"]\n",
    "boundary = geo_boundary.main(uid)"
   ]
  },
  {
   "cell_type": "code",
   "execution_count": 7,
   "id": "liable-baseline",
   "metadata": {},
   "outputs": [],
   "source": [
    "# 将数据转换为面形式的geojson格式数据\n",
    "\n",
    "def point_to_line(boundary):\n",
    "    return Polygon(LineString(boundary.sort_values(\"number\")[[\"x\",\"y\"]].values))\n",
    "\n",
    "def Create_Geofence(boundary):\n",
    "    Geofence = (boundary\n",
    "           .groupby(\"uid\")\n",
    "           .apply(point_to_line)\n",
    "           .to_frame(name=\"geometry\")\n",
    "           .pipe(gpd.GeoDataFrame,crs=\"EPSG:4326\"))\n",
    "    \n",
    "    #Geofence.to_file(\"Geofence.geojson\", driver='GeoJSON',encoding = 'gb18030')\n",
    "    Geofence.to_file(\"Geofence.shp\",encoding = 'gb18030')"
   ]
  },
  {
   "cell_type": "code",
   "execution_count": 8,
   "id": "julian-authorization",
   "metadata": {},
   "outputs": [],
   "source": [
    "Create_Geofence(boundary)"
   ]
  },
  {
   "cell_type": "markdown",
   "id": "automotive-coating",
   "metadata": {},
   "source": [
    "# uid寻找详细信息，经纬度等"
   ]
  },
  {
   "cell_type": "code",
   "execution_count": 2,
   "id": "finnish-offense",
   "metadata": {},
   "outputs": [],
   "source": [
    "from transCoordinateSystem import bd09_to_wgs84"
   ]
  },
  {
   "cell_type": "code",
   "execution_count": 10,
   "id": "compatible-speaker",
   "metadata": {},
   "outputs": [],
   "source": [
    "dff = pd.read_excel(\"/Users/creative/Nutstore Files/Rudolph/20.10.28/保障性住房数据/原始数据/2012-2019深圳保障房竣工项目/house_uid3.xlsx\")\n",
    "uid = []\n",
    "for i in range(len(dff)):\n",
    "    uid.append(dff.loc[i,\"uid\"])"
   ]
  },
  {
   "cell_type": "code",
   "execution_count": 5,
   "id": "developed-group",
   "metadata": {},
   "outputs": [],
   "source": [
    "def baidu_api(uid):\n",
    "    import json\n",
    "    url = \"http://api.map.baidu.com/place/v2/detail?\"\n",
    "    key = \"zfetLGY71RsWuZP3xZKc7WrM0rurWPVd\"\n",
    "    keywords = {\"ak\": key, \"uid\": uid, \"scope\": \"2\", \"output\": \"json\"}\n",
    "    headers = {\"User-Agent\": \"Mozilla/5.0 (Windows NT 10.0; Win64; x64) AppleWebKit/537.36 (KHTML, like Gecko) Chrome/75.0.3770.80 Safari/537.36\"}\n",
    "    a = requests.get(url, params=keywords, headers=headers)\n",
    "    if a.status_code == 200:\n",
    "        html = a.text   \n",
    "        json = json.loads(html)\n",
    "        try:\n",
    "            rate = json[\"result\"][\"detail_info\"][\"overall_rating\"]\n",
    "        except:\n",
    "            rate = 0\n",
    "        lat = json[\"result\"][\"location\"][\"lat\"]\n",
    "        lng = json[\"result\"][\"location\"][\"lng\"]\n",
    "        coord_wgs84 = bd09_to_wgs84(float(lng), float(lat))\n",
    "        lng = coord_wgs84[0]\n",
    "        lat = coord_wgs84[1]\n",
    "        infor = {\"name\":json[\"result\"][\"name\"],\n",
    "                \"city\":json[\"result\"][\"city\"],\n",
    "                \"area\":json[\"result\"][\"area\"],\n",
    "                \"address\":json[\"result\"][\"address\"],\n",
    "                \"rate\":rate,\n",
    "                \"lat\":lat,\n",
    "                \"lng\":lng,\n",
    "                \"uid\":json[\"result\"][\"uid\"]}\n",
    "    return infor"
   ]
  },
  {
   "cell_type": "code",
   "execution_count": 12,
   "id": "perfect-assembly",
   "metadata": {},
   "outputs": [],
   "source": [
    "uid = [uid_ for uid_ in uid if uid_ == uid_]"
   ]
  },
  {
   "cell_type": "code",
   "execution_count": 13,
   "id": "contained-things",
   "metadata": {},
   "outputs": [
    {
     "name": "stderr",
     "output_type": "stream",
     "text": [
      "100%|██████████| 221/221 [00:14<00:00, 15.17it/s]\n"
     ]
    }
   ],
   "source": [
    "dfff = pd.DataFrame(columns=[\"name\",\"city\",\"area\",\"address\",\"rate\",\"lat\",\"lng\",\"uid\"])\n",
    "data = []\n",
    "\n",
    "for i in tqdm(uid):\n",
    "    infor = baidu_api(i)\n",
    "    data.append(infor)\n",
    "\n",
    "dfff = dfff.append(data,ignore_index=True)"
   ]
  },
  {
   "cell_type": "code",
   "execution_count": 14,
   "id": "incoming-criticism",
   "metadata": {},
   "outputs": [],
   "source": [
    "point = gpd.GeoDataFrame(dfff, geometry=gpd.points_from_xy(dfff.lng, dfff.lat)) #指定经纬度坐标所在列\n",
    "point.crs = 'EPSG:4326' #指定坐标系 epsg4326为WGS1984"
   ]
  },
  {
   "cell_type": "code",
   "execution_count": 15,
   "id": "relevant-wyoming",
   "metadata": {},
   "outputs": [],
   "source": [
    "point.to_file(\"point.shp\",encoding = 'gb18030')"
   ]
  },
  {
   "cell_type": "markdown",
   "id": "looking-documentation",
   "metadata": {},
   "source": [
    "# 简化版寻找uid区信息"
   ]
  },
  {
   "cell_type": "code",
   "execution_count": 17,
   "id": "normal-royal",
   "metadata": {},
   "outputs": [],
   "source": [
    "file = pd.read_excel(\"/Users/creative/Nutstore Files/Rudolph/03保障性住房数据/2012-2019年保障性住房项目数据.xlsx\")"
   ]
  },
  {
   "cell_type": "code",
   "execution_count": 18,
   "id": "apparent-provision",
   "metadata": {},
   "outputs": [],
   "source": [
    "def baidu_api(uid):\n",
    "    import json\n",
    "    url = \"http://api.map.baidu.com/place/v2/detail?\"\n",
    "    key = \"zfetLGY71RsWuZP3xZKc7WrM0rurWPVd\"\n",
    "    keywords = {\"ak\": key, \"uid\": uid, \"scope\": \"2\", \"output\": \"json\"}\n",
    "    headers = {\"User-Agent\": \"Mozilla/5.0 (Windows NT 10.0; Win64; x64) AppleWebKit/537.36 (KHTML, like Gecko) Chrome/75.0.3770.80 Safari/537.36\"}\n",
    "    a = requests.get(url, params=keywords, headers=headers)\n",
    "    if a.status_code == 200:\n",
    "        html = a.text   \n",
    "        json = json.loads(html)\n",
    "        area = json[\"result\"][\"area\"]\n",
    "    return area"
   ]
  },
  {
   "cell_type": "code",
   "execution_count": 19,
   "id": "secondary-outdoors",
   "metadata": {},
   "outputs": [
    {
     "name": "stderr",
     "output_type": "stream",
     "text": [
      "100%|██████████| 221/221 [00:15<00:00, 14.66it/s]\n"
     ]
    }
   ],
   "source": [
    "for i in tqdm(range(len(file))):\n",
    "    uid = file.loc[i,\"uid\"]\n",
    "    area = baidu_api(uid)\n",
    "    file.loc[i,\"所属区\"] = area"
   ]
  },
  {
   "cell_type": "code",
   "execution_count": 21,
   "id": "european-expression",
   "metadata": {},
   "outputs": [],
   "source": [
    "file.to_excel(\"/Users/creative/Nutstore Files/Rudolph/03保障性住房数据/new2012-2019年保障性住房项目数据.xlsx\")"
   ]
  },
  {
   "cell_type": "code",
   "execution_count": null,
   "id": "becoming-climate",
   "metadata": {},
   "outputs": [],
   "source": []
  }
 ],
 "metadata": {
  "kernelspec": {
   "display_name": "Python 3",
   "language": "python",
   "name": "python3"
  },
  "language_info": {
   "codemirror_mode": {
    "name": "ipython",
    "version": 3
   },
   "file_extension": ".py",
   "mimetype": "text/x-python",
   "name": "python",
   "nbconvert_exporter": "python",
   "pygments_lexer": "ipython3",
   "version": "3.6.12"
  }
 },
 "nbformat": 4,
 "nbformat_minor": 5
}
