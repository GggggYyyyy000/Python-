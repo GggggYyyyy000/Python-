{
 "cells": [
  {
   "cell_type": "code",
   "execution_count": 17,
   "id": "indian-novel",
   "metadata": {},
   "outputs": [],
   "source": [
    "import requests\n",
    "import geopandas as gpd\n",
    "import json\n",
    "import pandas as pd\n",
    "import WGS1984\n",
    "from shapely.geometry import LineString,Point,Polygon,mapping\n",
    "\n",
    "from tqdm import tqdm"
   ]
  },
  {
   "cell_type": "code",
   "execution_count": 18,
   "id": "interracial-washington",
   "metadata": {},
   "outputs": [],
   "source": [
    "\"\"\"这个模块是父节点POI检索模块\"\"\"\n",
    "def id_get(pcode,key,headers):\n",
    "    try:\n",
    "        url = \"https://restapi.amap.com/v3/place/detail?parameters\"\n",
    "        keyword = {\"id\": pcode, \"key\": key}\n",
    "        b = requests.get(url, headers=headers, params=keyword, timeout=10)\n",
    "        if b.status_code == 200:\n",
    "            import json\n",
    "            html = b.text\n",
    "            json = json.loads(html)[\"pois\"][0]\n",
    "            data = {\"parent_name\":json[\"name\"],\"parent_type\":json[\"type\"]}\n",
    "    except:\n",
    "        data = {\"parent_name\":\"无结果\",\"parent_type\":\"无结果\"} \n",
    "    return data"
   ]
  },
  {
   "cell_type": "code",
   "execution_count": 25,
   "id": "compound-saturn",
   "metadata": {},
   "outputs": [],
   "source": [
    "\"\"\"这里是入口POI检索程序\"\"\"\n",
    "def poi_query(polygon,ppname):\n",
    "    url = \"https://restapi.amap.com/v3/place/polygon?parameters\"\n",
    "    key = \"1308619c6fec91b984ce5f11f1c58d3a\"\n",
    "    headers = {\"User-Agent\": \"Mozilla/5.0 (Windows NT 10.0; Win64; x64) AppleWebKit/537.36 (KHTML, like Gecko) Chrome/75.0.3770.80 Safari/537.36\"}\n",
    "    types = \"150900|150903|150904|150905|150906|150907|150908|150909\"\n",
    "    keyword = {\"polygon\": polygon, \"key\": key, \"types\": types,\"extensions\":\"all\"}\n",
    "    b = requests.get(url, headers=headers, params=keyword)\n",
    "    if b.status_code == 200:\n",
    "        data_all = []\n",
    "        import json\n",
    "        html = b.text\n",
    "        pages = int(json.loads(html)[\"count\"])\n",
    "        json = json.loads(html)[\"pois\"]\n",
    "        if pages<20:\n",
    "            for i in json:\n",
    "                a = i[\"location\"].split(\",\")\n",
    "                b = WGS1984.main(a[0], a[1])\n",
    "\n",
    "                data = {\"id\":i[\"id\"],\"name\":i[\"name\"],\"cityname\":i[\"cityname\"],\n",
    "                    \"adname\":i[\"adname\"],\"lat\":b[1],\"lng\":b[0],\"type\":i[\"type\"],\"typecode\":i[\"typecode\"],\"parent\":i[\"parent\"],\n",
    "                       \"pcode\":i[\"pcode\"],\"park\":ppname}\n",
    "                parent_data = id_get(data[\"parent\"],key,headers)\n",
    "                data.update(parent_data) \n",
    "                data_all.append(data) \n",
    "        else:\n",
    "            page = 0\n",
    "            #int(pages/19)\n",
    "            for i in range(0,int(pages/19)):\n",
    "                page = page + 1\n",
    "                keyword = {\"polygon\": polygon, \"key\": key, \"types\": types,\"extensions\":\"all\",\"page\": page}\n",
    "                b = requests.get(url, headers=headers, params=keyword)\n",
    "                if b.status_code == 200:\n",
    "                    data_all = []\n",
    "                    import json\n",
    "                    html = b.text\n",
    "                    json = json.loads(html)[\"pois\"]\n",
    "                    for i in json:\n",
    "                        a = i[\"location\"].split(\",\")\n",
    "                        b = WGS1984.main(a[0], a[1])\n",
    "\n",
    "                        data = {\"id\":i[\"id\"],\"name\":i[\"name\"],\"cityname\":i[\"cityname\"],\n",
    "                            \"adname\":i[\"adname\"],\"lat\":b[1],\"lng\":b[0],\"type\":i[\"type\"],\"typecode\":i[\"typecode\"],\"parent\":i[\"parent\"],\n",
    "                               \"pcode\":i[\"pcode\"],\"park\":ppname}\n",
    "                        parent_data = id_get(data[\"parent\"],key,headers)\n",
    "                        data.update(parent_data) \n",
    "                        data_all.append(data)          \n",
    "                    \n",
    "        return data_all"
   ]
  },
  {
   "cell_type": "code",
   "execution_count": 26,
   "id": "stock-people",
   "metadata": {},
   "outputs": [],
   "source": [
    "df = pd.DataFrame(columns=[\"id\",\"name\",\"pname\",\"cityname\",\"adname\",\"address\",\"lat\",\"lng\",\"type\",\n",
    "                           \"typecode\",\"parent\",\"pcode\",\"parent_name\",\"parent_type\",\"park\"])  #构建一个空表"
   ]
  },
  {
   "cell_type": "code",
   "execution_count": 27,
   "id": "circular-nickel",
   "metadata": {},
   "outputs": [],
   "source": [
    "gdf = gpd.read_file(\"/Users/creative/OneDrive - stu.hit.edu.cn/课程资料/2020 毕业论文/中期检查/Database/Park/szpark686pop.shp\")\n",
    "gdf.crs = \"EPSG:2382\"\n",
    "gdf['geometry']=gdf['geometry'].convex_hull\n",
    "gdf = gdf.to_crs(\"EPSG:3857\") #转换为投影坐标系\n",
    "gdf['geometry']= gdf.buffer(50) #建立一个一百米范围的缓冲区\n",
    "gdf = gdf.to_crs(\"EPSG:4326\") "
   ]
  },
  {
   "cell_type": "code",
   "execution_count": 28,
   "id": "coordinated-garage",
   "metadata": {},
   "outputs": [
    {
     "name": "stderr",
     "output_type": "stream",
     "text": [
      "100%|██████████| 543/543 [04:40<00:00,  1.93it/s]\n"
     ]
    }
   ],
   "source": [
    "result = []\n",
    "for i in tqdm(range(len(gdf))):\n",
    "    ppname = gdf.loc[i,\"绿地名\"]\n",
    "    coord = gdf.loc[i,\"geometry\"]\n",
    "    polygon = \"\"\n",
    "    for i in mapping(coord)[\"coordinates\"][0]:\n",
    "        a = str(round(WGS1984.wgs84togcj02(i[0],i[1])[0],6)) + \",\" + str(round(WGS1984.wgs84togcj02(i[0],i[1])[1],6))\n",
    "        polygon = polygon + a + \"|\"\n",
    "    datas_poi = poi_query(polygon[:-1],ppname)\n",
    "    result.append(datas_poi)"
   ]
  },
  {
   "cell_type": "code",
   "execution_count": 29,
   "id": "industrial-harassment",
   "metadata": {},
   "outputs": [],
   "source": [
    "for i in result:\n",
    "    if i != None:\n",
    "        for a in i:\n",
    "            df = df.append(a,ignore_index=True) #将数据填入到空表中"
   ]
  },
  {
   "cell_type": "code",
   "execution_count": 30,
   "id": "maritime-connecticut",
   "metadata": {},
   "outputs": [],
   "source": [
    "df.to_excel(\"Parking.xlsx\") #保存excel"
   ]
  },
  {
   "cell_type": "code",
   "execution_count": 80,
   "id": "unlike-binary",
   "metadata": {},
   "outputs": [],
   "source": [
    "a = []\n",
    "for i in range(len(gdf)):\n",
    "    #name = gdf.loc[i,\"名称\"]\n",
    "    coord = gdf.loc[i,\"geometry\"]\n",
    "    a.append(len(mapping(coord)[\"coordinates\"][0]))"
   ]
  },
  {
   "cell_type": "code",
   "execution_count": null,
   "id": "hybrid-greek",
   "metadata": {},
   "outputs": [],
   "source": []
  }
 ],
 "metadata": {
  "kernelspec": {
   "display_name": "Python 3",
   "language": "python",
   "name": "python3"
  },
  "language_info": {
   "codemirror_mode": {
    "name": "ipython",
    "version": 3
   },
   "file_extension": ".py",
   "mimetype": "text/x-python",
   "name": "python",
   "nbconvert_exporter": "python",
   "pygments_lexer": "ipython3",
   "version": "3.6.12"
  }
 },
 "nbformat": 4,
 "nbformat_minor": 5
}
