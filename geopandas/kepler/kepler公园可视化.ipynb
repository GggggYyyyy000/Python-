{
 "cells": [
  {
   "cell_type": "code",
   "execution_count": 1,
   "id": "prime-screw",
   "metadata": {},
   "outputs": [],
   "source": [
    "import pandas as pd\n",
    "import geopandas as gpd\n",
    "from keplergl import KeplerGl\n",
    "import json\n"
   ]
  },
  {
   "cell_type": "code",
   "execution_count": null,
   "id": "parliamentary-craft",
   "metadata": {},
   "outputs": [],
   "source": [
    "data1 = pd.read_csv('c:/users/dell/Desktop/HuBei-COVID-19.csv',encoding='gbk')\n",
    "with open('c:/users/dell/Desktop/HuBei.json','r',encoding='utf-8') as f:\n",
    "    data2 = json.load(f)\n",
    "map1 = KeplerGl(height=800, data={'layer1': data1,\n",
    "                                 'layer2':  data2}) #载入两个图层,图层二主要用于呈现湖北省各地级市轮廓\n",
    "map1.save_to_html(file_name='动态热力图.html', data={'layer1': data1,\n",
    "                                                    'layer2':  data2})\n",
    "\n"
   ]
  },
  {
   "cell_type": "code",
   "execution_count": 12,
   "id": "standard-tolerance",
   "metadata": {},
   "outputs": [],
   "source": [
    "with open('data.geojson','r',encoding='utf-8') as f:\n",
    "    data1 = json.load(f)"
   ]
  },
  {
   "cell_type": "code",
   "execution_count": 13,
   "id": "mounted-investor",
   "metadata": {},
   "outputs": [
    {
     "name": "stdout",
     "output_type": "stream",
     "text": [
      "User Guide: https://docs.kepler.gl/docs/keplergl-jupyter\n"
     ]
    }
   ],
   "source": [
    "map1 = KeplerGl(height=800, data={'layer1': data1}) "
   ]
  },
  {
   "cell_type": "code",
   "execution_count": 14,
   "id": "christian-sport",
   "metadata": {},
   "outputs": [
    {
     "data": {
      "application/vnd.jupyter.widget-view+json": {
       "model_id": "5f4a3bddd5224510aa4e3c4b8fe38fa3",
       "version_major": 2,
       "version_minor": 0
      },
      "text/plain": [
       "KeplerGl(data={'layer1': {'type': 'FeatureCollection', 'name': 'data', 'crs': {'type': 'name', 'properties': {…"
      ]
     },
     "metadata": {},
     "output_type": "display_data"
    }
   ],
   "source": [
    "map1"
   ]
  },
  {
   "cell_type": "code",
   "execution_count": null,
   "id": "palestinian-fisher",
   "metadata": {},
   "outputs": [],
   "source": []
  }
 ],
 "metadata": {
  "kernelspec": {
   "display_name": "Python 3",
   "language": "python",
   "name": "python3"
  },
  "language_info": {
   "codemirror_mode": {
    "name": "ipython",
    "version": 3
   },
   "file_extension": ".py",
   "mimetype": "text/x-python",
   "name": "python",
   "nbconvert_exporter": "python",
   "pygments_lexer": "ipython3",
   "version": "3.6.12"
  }
 },
 "nbformat": 4,
 "nbformat_minor": 5
}
